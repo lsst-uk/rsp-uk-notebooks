{
 "cells": [
  {
   "cell_type": "markdown",
   "id": "e4e90d79-1bee-4a9a-84f2-1c8f7f249b22",
   "metadata": {},
   "source": [
    "## Crossmatch TAP query demo \n",
    "This notebook was written to show how to access the crossmatch results for a known list of sourceIDs. Initially a sample list of IDs was \n",
    "obtained by querying the table itself. Andy Wilson then provided a file containing the actual IDs they were interested in so the notebook was modified to read \n",
    "in that file."
   ]
  },
  {
   "cell_type": "markdown",
   "id": "7f1f3d8f-916c-4786-a481-8923c7c05748",
   "metadata": {},
   "source": [
    "import and set-up"
   ]
  },
  {
   "cell_type": "code",
   "execution_count": 1,
   "id": "ac0c1729-4a89-4b31-b383-5d08c85ef9bf",
   "metadata": {
    "execution": {
     "iopub.execute_input": "2023-11-20T14:25:03.247932Z",
     "iopub.status.busy": "2023-11-20T14:25:03.247736Z",
     "iopub.status.idle": "2023-11-20T14:25:03.635789Z",
     "shell.execute_reply": "2023-11-20T14:25:03.634679Z",
     "shell.execute_reply.started": "2023-11-20T14:25:03.247911Z"
    },
    "tags": []
   },
   "outputs": [
    {
     "data": {
      "text/html": [
       "<div><i>Table length=8</i>\n",
       "<table id=\"table140670644947984\" class=\"table-striped table-bordered table-condensed\">\n",
       "<thead><tr><th>description</th><th>schema_index</th><th>schema_name</th><th>utype</th></tr></thead>\n",
       "<thead><tr><th>str512</th><th>int32</th><th>str64</th><th>str512</th></tr></thead>\n",
       "<tr><td>no database description provided</td><td>1</td><td>dc2_run2_1i_dr1b</td><td></td></tr>\n",
       "<tr><td>gaia_source catwise_2020 matches from Edinburgh</td><td>2</td><td>gaiaxcatwise</td><td></td></tr>\n",
       "<tr><td>allsky gaia_source catwise_2020 matches from Edinburgh</td><td>3</td><td>gaiaxcatwiseallsky</td><td></td></tr>\n",
       "<tr><td>A TAP-standard-mandated schema to describe tablesets in a TAP 1.1 service</td><td>100000</td><td>tap_schema</td><td></td></tr>\n",
       "<tr><td>no database description provided</td><td>0</td><td>UDS</td><td></td></tr>\n",
       "<tr><td>UWS Metadata</td><td>120000</td><td>uws</td><td></td></tr>\n",
       "<tr><td>VIDEO/HSC database from WP3.5</td><td>4</td><td>video</td><td></td></tr>\n",
       "<tr><td>VIKING/HSC database from WP3.5</td><td>5</td><td>viking</td><td></td></tr>\n",
       "</table></div>"
      ],
      "text/plain": [
       "<Table length=8>\n",
       "                               description                                ...\n",
       "                                  str512                                  ...\n",
       "------------------------------------------------------------------------- ...\n",
       "                                         no database description provided ...\n",
       "                          gaia_source catwise_2020 matches from Edinburgh ...\n",
       "                   allsky gaia_source catwise_2020 matches from Edinburgh ...\n",
       "A TAP-standard-mandated schema to describe tablesets in a TAP 1.1 service ...\n",
       "                                         no database description provided ...\n",
       "                                                             UWS Metadata ...\n",
       "                                            VIDEO/HSC database from WP3.5 ...\n",
       "                                           VIKING/HSC database from WP3.5 ..."
      ]
     },
     "execution_count": 1,
     "metadata": {},
     "output_type": "execute_result"
    }
   ],
   "source": [
    "# Import the Rubin TAP service utilities\n",
    "from lsst.rsp import get_tap_service, retrieve_query\n",
    "\n",
    "service = get_tap_service(\"tap\")\n",
    "assert service is not None\n",
    "assert service.baseurl == \"https://rsp.lsst.ac.uk/api/tap\"\n",
    "\n",
    "# see what databases there are\n",
    "query = \"SELECT * FROM tap_schema.schemas\"\n",
    "resultsSchema = service.search(query).to_table()\n",
    "resultsSchema"
   ]
  },
  {
   "cell_type": "code",
   "execution_count": 2,
   "id": "b85b7c5b-245c-41cf-975a-e412897dd325",
   "metadata": {
    "execution": {
     "iopub.execute_input": "2023-11-20T14:25:07.424079Z",
     "iopub.status.busy": "2023-11-20T14:25:07.423731Z",
     "iopub.status.idle": "2023-11-20T14:25:08.471447Z",
     "shell.execute_reply": "2023-11-20T14:25:08.470431Z",
     "shell.execute_reply.started": "2023-11-20T14:25:07.424052Z"
    },
    "tags": []
   },
   "outputs": [
    {
     "name": "stdout",
     "output_type": "stream",
     "text": [
      "('\"size\"', 'arraysize', 'column_index', 'column_name', 'datatype', 'description', 'indexed', 'principal', 'std', 'table_name', 'ucd', 'unit', 'utype', 'xtype')\n",
      "             column_name datatype\n",
      "0               ab_flags     char\n",
      "1             ag_gspphot    float\n",
      "2       ag_gspphot_lower    float\n",
      "3       ag_gspphot_upper    float\n",
      "4    astrometric_chi2_al    float\n",
      "..                   ...      ...\n",
      "363         wise_fit_sig   double\n",
      "364              wise_ra   double\n",
      "365                   wx    float\n",
      "366                   wy    float\n",
      "367                   xi   double\n",
      "\n",
      "[368 rows x 2 columns]\n"
     ]
    }
   ],
   "source": [
    "import pandas\n",
    "# have a look at the columns\n",
    "query = \"SELECT * from TAP_SCHEMA.columns \"+\\\n",
    "                 \"WHERE table_name = 'gaiaxcatwise.matches_source'\"\n",
    "res = service.search(query)\n",
    "print(res.fieldnames)\n",
    "results_table = res.to_table().to_pandas()\n",
    "print(results_table[['column_name','datatype']])"
   ]
  },
  {
   "cell_type": "markdown",
   "id": "8b586005-d6dd-49a6-a622-b59c48d3d4c1",
   "metadata": {},
   "source": [
    "Simple count query, takes some minutes to complete"
   ]
  },
  {
   "cell_type": "code",
   "execution_count": 3,
   "id": "baf887c2-6fb1-48a0-87c1-e99b0811728d",
   "metadata": {
    "execution": {
     "iopub.execute_input": "2023-11-20T14:25:13.017372Z",
     "iopub.status.busy": "2023-11-20T14:25:13.016352Z",
     "iopub.status.idle": "2023-11-20T14:43:20.771833Z",
     "shell.execute_reply": "2023-11-20T14:43:20.770778Z",
     "shell.execute_reply.started": "2023-11-20T14:25:13.017343Z"
    },
    "tags": []
   },
   "outputs": [
    {
     "name": "stdout",
     "output_type": "stream",
     "text": [
      "<Table length=1>\n",
      "    c       h   \n",
      "  int64   object\n",
      "--------- ------\n",
      "104097233      1\n"
     ]
    }
   ],
   "source": [
    "# simple count rows query, answer is 104097233\n",
    "query = \"select count(*) as c from gaiaxcatwise.matches_source\"\n",
    "results = service.search(query)\n",
    "\n",
    "print(results)"
   ]
  },
  {
   "cell_type": "code",
   "execution_count": 4,
   "id": "fadc0a1d-a417-4867-ad76-22ebef28d96c",
   "metadata": {
    "execution": {
     "iopub.execute_input": "2023-11-20T14:45:02.264528Z",
     "iopub.status.busy": "2023-11-20T14:45:02.264170Z",
     "iopub.status.idle": "2023-11-20T14:45:02.271297Z",
     "shell.execute_reply": "2023-11-20T14:45:02.270178Z",
     "shell.execute_reply.started": "2023-11-20T14:45:02.264500Z"
    },
    "tags": []
   },
   "outputs": [
    {
     "name": "stdout",
     "output_type": "stream",
     "text": [
      "<class 'pyvo.dal.tap.TAPResults'>\n",
      "<class 'astropy.table.table.Table'>\n"
     ]
    }
   ],
   "source": [
    "print(type(results))\n",
    "table=results.to_table()\n",
    "print(type(table))"
   ]
  },
  {
   "cell_type": "code",
   "execution_count": 5,
   "id": "6a375d66-5909-4a15-a645-13df08af9434",
   "metadata": {
    "execution": {
     "iopub.execute_input": "2023-11-20T14:45:14.784795Z",
     "iopub.status.busy": "2023-11-20T14:45:14.783814Z",
     "iopub.status.idle": "2023-11-20T14:46:03.087904Z",
     "shell.execute_reply": "2023-11-20T14:46:03.086961Z",
     "shell.execute_reply.started": "2023-11-20T14:45:14.784761Z"
    },
    "tags": []
   },
   "outputs": [
    {
     "name": "stdout",
     "output_type": "stream",
     "text": [
      "     source_id     \n",
      "-------------------\n",
      "4263950244784476160\n",
      "4263950244784476288\n",
      "4263950244784513536\n",
      "4263950244784513664\n",
      "4263950244784544896\n",
      "4263950249076799744\n",
      "4263950249076842624\n",
      "4263950249076872832\n",
      "4263950249081673088\n",
      "4263950313504064512\n",
      "                ...\n",
      "2081496943002017024\n",
      "2081496973058979712\n",
      "2081496973058988800\n",
      "2081496973059001728\n",
      "2081496973059010688\n",
      "2081496973059021312\n",
      "2081496973059038720\n",
      "2081496977357110656\n",
      "2081496977357110784\n",
      "2081496977357123712\n",
      "2081496977357123840\n",
      "Length = 1000000 rows\n"
     ]
    }
   ],
   "source": [
    "# test to get some sourceIds\n",
    "query=\"select source_id from gaiaxcatwise.matches_source as x  limit 1000000\"\n",
    "results = service.search(query)\n",
    "table = results.to_table()\n",
    "print(table)"
   ]
  },
  {
   "cell_type": "code",
   "execution_count": 6,
   "id": "dfd4d5af-7ed0-45fe-8051-e34eb7e2a0d9",
   "metadata": {
    "execution": {
     "iopub.execute_input": "2023-11-20T14:46:26.918089Z",
     "iopub.status.busy": "2023-11-20T14:46:26.917706Z",
     "iopub.status.idle": "2023-11-20T14:46:30.077480Z",
     "shell.execute_reply": "2023-11-20T14:46:30.076793Z",
     "shell.execute_reply.started": "2023-11-20T14:46:26.918061Z"
    },
    "tags": []
   },
   "outputs": [
    {
     "name": "stdout",
     "output_type": "stream",
     "text": [
      "4263950244784476160 4503645227078649088 160988740193758592\n"
     ]
    }
   ],
   "source": [
    "sourceIds=table['source_id'].data\n",
    "print(sourceIds[0],max(sourceIds),min(sourceIds))"
   ]
  },
  {
   "cell_type": "markdown",
   "id": "f31df47b-b030-464a-97b8-830c415cc84e",
   "metadata": {},
   "source": [
    "load up the provided IDs"
   ]
  },
  {
   "cell_type": "code",
   "execution_count": 7,
   "id": "c0d0d8d7-c00d-4fec-b2b8-65a2e186ffc5",
   "metadata": {
    "execution": {
     "iopub.execute_input": "2023-11-20T14:47:03.670944Z",
     "iopub.status.busy": "2023-11-20T14:47:03.670043Z",
     "iopub.status.idle": "2023-11-20T14:47:03.682337Z",
     "shell.execute_reply": "2023-11-20T14:47:03.681323Z",
     "shell.execute_reply.started": "2023-11-20T14:47:03.670900Z"
    },
    "tags": []
   },
   "outputs": [
    {
     "name": "stdout",
     "output_type": "stream",
     "text": [
      "[4282338859504210048 4282338889562080256 4282338893863946624 ...\n",
      " 2018615353311150592 2018615357602731008 2018615357625887488] 20039800\n"
     ]
    }
   ],
   "source": [
    "# load Andy's sourceIds\n",
    "from astropy.io import fits\n",
    "hdul = fits.open('GaiaEDR3_SourceIds_NGPv4.fits')\n",
    "data = hdul[1].data # assuming the first extension is a table\n",
    "hdul.close()\n",
    "#print(data[0])\n",
    "andysSourceIds=data['source_id']\n",
    "print(andysSourceIds,len(andysSourceIds))"
   ]
  },
  {
   "cell_type": "markdown",
   "id": "1146814d-b12b-4a31-9e9c-a01b990ffbb1",
   "metadata": {},
   "source": [
    "some 20 million IDs so split into 2001 chunks, and around 1000 Ids per chunk. Break after 2 loops as just an example\n"
   ]
  },
  {
   "cell_type": "code",
   "execution_count": 8,
   "id": "2f7f6fe9-baa7-4bb7-af64-305824fd827d",
   "metadata": {
    "execution": {
     "iopub.execute_input": "2023-11-20T14:50:07.804217Z",
     "iopub.status.busy": "2023-11-20T14:50:07.803852Z",
     "iopub.status.idle": "2023-11-20T14:50:44.651707Z",
     "shell.execute_reply": "2023-11-20T14:50:44.650754Z",
     "shell.execute_reply.started": "2023-11-20T14:50:07.804189Z"
    },
    "tags": []
   },
   "outputs": [
    {
     "name": "stdout",
     "output_type": "stream",
     "text": [
      "0 10015 2023-11-20 14:50:07.854296\n",
      "1 10015 2023-11-20 14:50:27.788841\n",
      "11705\n"
     ]
    }
   ],
   "source": [
    "import numpy\n",
    "# split up the sourceIds into N chunks (the number is the number of chunks not size of chunks)\n",
    "chunks = numpy.array_split(numpy.array(andysSourceIds),2001) \n",
    "import datetime\n",
    "i=0\n",
    "from astropy.table import QTable, Table, Column, vstack\n",
    "fullResults=Table()\n",
    "#loop through chunks and submit query for those sourceIds, bringing back a few columns\n",
    "# stacks all results into one table (but maybe they should be kept separate as this might be inefficient)\n",
    "for chunk in chunks:\n",
    "    print(i,len(chunk),datetime.datetime.now())\n",
    "    \n",
    "    inClause=','.join(str(sourceId) for sourceId in chunk) #numpy.array2string(chunk, separator=\",\")\n",
    "    #print(inClause)\n",
    "    query=\"select ra,dec,phot_bp_mean_mag,phot_g_mean_mag,phot_rp_mean_mag from gaiaxcatwise.matches_source where source_id in (\"+inClause+\")\"\n",
    "    #print(query)\n",
    "\n",
    "    results = service.search(query)\n",
    "    table = results.to_table()\n",
    "    if i==0:\n",
    "        fullResults=table\n",
    "    else:\n",
    "        fullResults=(vstack([fullResults, table]))\n",
    "    #print(table)\n",
    "    i+=1\n",
    "    # set to low number for tests\n",
    "    if i==2:\n",
    "        break\n",
    "print(len(fullResults))"
   ]
  },
  {
   "cell_type": "code",
   "execution_count": 9,
   "id": "bd9be3f6-678f-4045-8278-e17b70eddbc4",
   "metadata": {
    "execution": {
     "iopub.execute_input": "2023-11-20T14:51:23.278208Z",
     "iopub.status.busy": "2023-11-20T14:51:23.277343Z",
     "iopub.status.idle": "2023-11-20T14:51:23.286694Z",
     "shell.execute_reply": "2023-11-20T14:51:23.285685Z",
     "shell.execute_reply.started": "2023-11-20T14:51:23.278176Z"
    },
    "tags": []
   },
   "outputs": [
    {
     "name": "stdout",
     "output_type": "stream",
     "text": [
      "        ra                dec        ... phot_g_mean_mag phot_rp_mean_mag\n",
      "------------------ ----------------- ... --------------- ----------------\n",
      "282.79641546539625 5.652166847251163 ...         14.8337          13.8723\n",
      "282.79712793588516 5.664816815400225 ...         19.4495          18.2937\n",
      "282.80214227926376 5.655347556803341 ...         15.0963          14.2137\n",
      "  282.793927141799 5.657256045332002 ...         18.3959          17.3438\n",
      "282.79856528560197 5.663225003812569 ...         19.0944          17.9939\n",
      "282.78183773120344 5.672781063624429 ...         15.2255           14.345\n",
      " 282.8099464029409  5.66342591475745 ...         18.9705          17.7328\n",
      " 282.8052750736308 5.665864747968357 ...         18.0998          17.0404\n",
      " 282.8225793640582 5.685144834121797 ...         19.1917          18.0392\n",
      "282.80466373966846 5.675024798024031 ...         18.7467          17.6633\n",
      "               ...               ... ...             ...              ...\n",
      " 284.2633592808782 6.640518390218935 ...          16.235          15.1851\n",
      "284.25589465689944 6.645912336061825 ...         16.6399          15.4119\n",
      "284.26707643946025 6.651057628253532 ...         17.7216          16.6509\n",
      "284.63366547136155 5.847560968933907 ...         17.3597          16.2861\n",
      " 284.2538949277189 6.664938096203561 ...           18.68          17.4958\n",
      "284.63251487814176 5.855980226959322 ...         18.1811          17.0689\n",
      "284.63968460116075 5.853942193877478 ...         16.5847          15.4645\n",
      "284.66838496607846  5.83714766384652 ...         17.0506          15.9696\n",
      " 284.7155080990073 5.866558895515341 ...         18.1441          17.0841\n",
      "284.69520993324454 5.873547515229422 ...         18.8184          17.6319\n",
      "  284.699888842156 5.881523054127557 ...         17.5528          16.4176\n",
      "Length = 11705 rows\n"
     ]
    }
   ],
   "source": [
    "print(fullResults)"
   ]
  },
  {
   "cell_type": "code",
   "execution_count": null,
   "id": "ea12f2bf-b2d8-4652-96c1-034ee8813886",
   "metadata": {},
   "outputs": [],
   "source": [
    "#import pyvo\n",
    "#tap = pyvo.dal.TAPService('https://rsp.lsst.ac.uk/api/tap')\n",
    "#tap.run_sync('select count(*) from SXDS.director')"
   ]
  },
  {
   "cell_type": "code",
   "execution_count": null,
   "id": "22035224-ddf0-4575-b4c1-0ecc296def97",
   "metadata": {},
   "outputs": [],
   "source": []
  },
  {
   "cell_type": "code",
   "execution_count": null,
   "id": "ab60f9ad-7515-49d1-b37a-a37c1b31541f",
   "metadata": {},
   "outputs": [],
   "source": []
  }
 ],
 "metadata": {
  "kernelspec": {
   "display_name": "LSST",
   "language": "python",
   "name": "lsst"
  },
  "language_info": {
   "codemirror_mode": {
    "name": "ipython",
    "version": 3
   },
   "file_extension": ".py",
   "mimetype": "text/x-python",
   "name": "python",
   "nbconvert_exporter": "python",
   "pygments_lexer": "ipython3",
   "version": "3.11.4"
  }
 },
 "nbformat": 4,
 "nbformat_minor": 5
}
