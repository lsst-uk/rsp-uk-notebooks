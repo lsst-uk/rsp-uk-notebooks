{
 "cells": [
  {
   "cell_type": "markdown",
   "id": "e4e90d79-1bee-4a9a-84f2-1c8f7f249b22",
   "metadata": {},
   "source": [
    "## Crossmatch TAP query demo \n",
    "This notebook was written to show how to access the crossmatch results for a known list of sourceIDs. Initially a sample list of IDs was \n",
    "obtained by querying the table itself. Andy Wilson then provided a file containing the actual IDs they were interested in so the notebook was modified to read \n",
    "in that file."
   ]
  },
  {
   "cell_type": "markdown",
   "id": "7f1f3d8f-916c-4786-a481-8923c7c05748",
   "metadata": {},
   "source": [
    "import and set-up"
   ]
  },
  {
   "cell_type": "code",
   "execution_count": 1,
   "id": "ac0c1729-4a89-4b31-b383-5d08c85ef9bf",
   "metadata": {
    "execution": {
     "iopub.execute_input": "2024-03-25T11:47:52.893527Z",
     "iopub.status.busy": "2024-03-25T11:47:52.892607Z",
     "iopub.status.idle": "2024-03-25T11:47:53.103649Z",
     "shell.execute_reply": "2024-03-25T11:47:53.102696Z",
     "shell.execute_reply.started": "2024-03-25T11:47:52.893488Z"
    },
    "tags": []
   },
   "outputs": [
    {
     "data": {
      "text/html": [
       "<div><i>Table length=6</i>\n",
       "<table id=\"table140363922376400\" class=\"table-striped table-bordered table-condensed\">\n",
       "<thead><tr><th>description</th><th>schema_index</th><th>schema_name</th><th>utype</th></tr></thead>\n",
       "<thead><tr><th>str512</th><th>int32</th><th>str64</th><th>str512</th></tr></thead>\n",
       "<tr><td>Data Preview 0.2 contains the image and catalog products of the Rubin Science Pipelines v23 processing of the DESC Data Challenge 2 simulation, which covered 300 square degrees of the wide-fast-deep LSST survey region over 5 years.</td><td>0</td><td>dp02_dc2_catalogs</td><td></td></tr>\n",
       "<tr><td>allsky gaia_source catwise_2020 matches from Edinburgh. Run late 2023</td><td>1</td><td>gaiaxcatwise2312</td><td></td></tr>\n",
       "<tr><td>A TAP-standard-mandated schema to describe tablesets in a TAP 1.1 service</td><td>100000</td><td>tap_schema</td><td></td></tr>\n",
       "<tr><td>UWS Metadata</td><td>120000</td><td>uws</td><td></td></tr>\n",
       "<tr><td>VIDEO/HSC database from WP3.5</td><td>3</td><td>video</td><td></td></tr>\n",
       "<tr><td>VIKING/HSC database from WP3.5</td><td>2</td><td>viking</td><td></td></tr>\n",
       "</table></div>"
      ],
      "text/plain": [
       "<Table length=6>\n",
       "                                                                                                              description                                                                                                               ...\n",
       "                                                                                                                 str512                                                                                                                 ...\n",
       "--------------------------------------------------------------------------------------------------------------------------------------------------------------------------------------------------------------------------------------- ...\n",
       "Data Preview 0.2 contains the image and catalog products of the Rubin Science Pipelines v23 processing of the DESC Data Challenge 2 simulation, which covered 300 square degrees of the wide-fast-deep LSST survey region over 5 years. ...\n",
       "                                                                                                                                                                  allsky gaia_source catwise_2020 matches from Edinburgh. Run late 2023 ...\n",
       "                                                                                                                                                              A TAP-standard-mandated schema to describe tablesets in a TAP 1.1 service ...\n",
       "                                                                                                                                                                                                                           UWS Metadata ...\n",
       "                                                                                                                                                                                                          VIDEO/HSC database from WP3.5 ...\n",
       "                                                                                                                                                                                                         VIKING/HSC database from WP3.5 ..."
      ]
     },
     "execution_count": 1,
     "metadata": {},
     "output_type": "execute_result"
    }
   ],
   "source": [
    "# Import the Rubin TAP service utilities\n",
    "from lsst.rsp import get_tap_service, retrieve_query\n",
    "\n",
    "service = get_tap_service(\"tap\")\n",
    "assert service is not None\n",
    "assert service.baseurl == \"https://rsp.lsst.ac.uk/api/tap\"\n",
    "\n",
    "# see what databases there are\n",
    "query = \"SELECT * FROM tap_schema.schemas\"\n",
    "resultsSchema = service.search(query).to_table()\n",
    "resultsSchema"
   ]
  },
  {
   "cell_type": "code",
   "execution_count": 2,
   "id": "b85b7c5b-245c-41cf-975a-e412897dd325",
   "metadata": {
    "execution": {
     "iopub.execute_input": "2024-03-25T11:49:14.264958Z",
     "iopub.status.busy": "2024-03-25T11:49:14.264047Z",
     "iopub.status.idle": "2024-03-25T11:49:14.496799Z",
     "shell.execute_reply": "2024-03-25T11:49:14.495810Z",
     "shell.execute_reply.started": "2024-03-25T11:49:14.264925Z"
    },
    "tags": []
   },
   "outputs": [
    {
     "name": "stdout",
     "output_type": "stream",
     "text": [
      "('\"size\"', 'arraysize', 'column_index', 'column_name', 'datatype', 'description', 'indexed', 'principal', 'std', 'table_name', 'ucd', 'unit', 'utype', 'xtype')\n",
      "             column_name datatype\n",
      "0               ab_flags     char\n",
      "1             ag_gspphot    float\n",
      "2       ag_gspphot_lower    float\n",
      "3       ag_gspphot_upper    float\n",
      "4    astrometric_chi2_al    float\n",
      "..                   ...      ...\n",
      "363         wise_fit_sig   double\n",
      "364              wise_ra   double\n",
      "365                   wx    float\n",
      "366                   wy    float\n",
      "367                   xi   double\n",
      "\n",
      "[368 rows x 2 columns]\n"
     ]
    }
   ],
   "source": [
    "import pandas\n",
    "# have a look at the columns\n",
    "query = \"SELECT * from TAP_SCHEMA.columns \"+\\\n",
    "                 \"WHERE table_name = 'gaiaxcatwise2312.matches_source'\"\n",
    "res = service.search(query)\n",
    "print(res.fieldnames)\n",
    "results_table = res.to_table().to_pandas()\n",
    "print(results_table[['column_name','datatype']])"
   ]
  },
  {
   "cell_type": "markdown",
   "id": "8b586005-d6dd-49a6-a622-b59c48d3d4c1",
   "metadata": {},
   "source": [
    "Simple count query, takes some minutes to complete"
   ]
  },
  {
   "cell_type": "code",
   "execution_count": 3,
   "id": "baf887c2-6fb1-48a0-87c1-e99b0811728d",
   "metadata": {
    "execution": {
     "iopub.execute_input": "2024-03-25T11:49:21.714426Z",
     "iopub.status.busy": "2024-03-25T11:49:21.713158Z",
     "iopub.status.idle": "2024-03-25T11:49:22.092789Z",
     "shell.execute_reply": "2024-03-25T11:49:22.091713Z",
     "shell.execute_reply.started": "2024-03-25T11:49:21.714374Z"
    },
    "tags": []
   },
   "outputs": [
    {
     "name": "stdout",
     "output_type": "stream",
     "text": [
      "<DALResultsTable length=1>\n",
      "    c    \n",
      "  int64  \n",
      "---------\n",
      "753681386\n"
     ]
    }
   ],
   "source": [
    "# simple count rows query, answer is 753681386\n",
    "\n",
    "query = \"select count(*) as c from gaiaxcatwise2312.matches_source\"\n",
    "results = service.search(query)\n",
    "\n",
    "print(results)"
   ]
  },
  {
   "cell_type": "code",
   "execution_count": 4,
   "id": "fadc0a1d-a417-4867-ad76-22ebef28d96c",
   "metadata": {
    "execution": {
     "iopub.execute_input": "2024-03-25T11:49:26.790456Z",
     "iopub.status.busy": "2024-03-25T11:49:26.789093Z",
     "iopub.status.idle": "2024-03-25T11:49:26.796336Z",
     "shell.execute_reply": "2024-03-25T11:49:26.795429Z",
     "shell.execute_reply.started": "2024-03-25T11:49:26.790412Z"
    },
    "tags": []
   },
   "outputs": [
    {
     "name": "stdout",
     "output_type": "stream",
     "text": [
      "<class 'pyvo.dal.tap.TAPResults'>\n",
      "<class 'astropy.table.table.Table'>\n"
     ]
    }
   ],
   "source": [
    "print(type(results))\n",
    "table=results.to_table()\n",
    "print(type(table))"
   ]
  },
  {
   "cell_type": "code",
   "execution_count": 5,
   "id": "6a375d66-5909-4a15-a645-13df08af9434",
   "metadata": {
    "execution": {
     "iopub.execute_input": "2024-03-25T11:49:29.376720Z",
     "iopub.status.busy": "2024-03-25T11:49:29.375274Z",
     "iopub.status.idle": "2024-03-25T11:50:12.712770Z",
     "shell.execute_reply": "2024-03-25T11:50:12.711971Z",
     "shell.execute_reply.started": "2024-03-25T11:49:29.376686Z"
    },
    "tags": []
   },
   "outputs": [
    {
     "name": "stdout",
     "output_type": "stream",
     "text": [
      "     source_id     \n",
      "-------------------\n",
      "6357604827140689280\n",
      "6357604831436779008\n",
      "6357604865796654080\n",
      "6357604900156255360\n",
      "6357651693823824384\n",
      "6357651693823825920\n",
      "6357651693823827456\n",
      "6357651698119913728\n",
      "6357651728183570560\n",
      "6357651762543311616\n",
      "                ...\n",
      "4638486579995342592\n",
      "4638486579995346688\n",
      "4638486579995348480\n",
      "4638486579995348608\n",
      "4638486579995389952\n",
      "4638486579995394176\n",
      "4638486579995394432\n",
      "4638486579995930112\n",
      "4638486579995952512\n",
      "4638486580000282112\n",
      "4638486580000297344\n",
      "Length = 1000000 rows\n"
     ]
    }
   ],
   "source": [
    "# test to get some sourceIds\n",
    "query=\"select source_id from gaiaxcatwise2312.matches_source as x  limit 1000000\"\n",
    "results = service.search(query)\n",
    "table = results.to_table()\n",
    "print(table)"
   ]
  },
  {
   "cell_type": "code",
   "execution_count": 6,
   "id": "dfd4d5af-7ed0-45fe-8051-e34eb7e2a0d9",
   "metadata": {
    "execution": {
     "iopub.execute_input": "2024-03-25T11:50:18.160181Z",
     "iopub.status.busy": "2024-03-25T11:50:18.159681Z",
     "iopub.status.idle": "2024-03-25T11:50:21.938482Z",
     "shell.execute_reply": "2024-03-25T11:50:21.937736Z",
     "shell.execute_reply.started": "2024-03-25T11:50:18.160086Z"
    },
    "tags": []
   },
   "outputs": [
    {
     "name": "stdout",
     "output_type": "stream",
     "text": [
      "6357604827140689280 6429985544456040576 288307273246956800\n"
     ]
    }
   ],
   "source": [
    "sourceIds=table['source_id'].data\n",
    "print(sourceIds[0],max(sourceIds),min(sourceIds))"
   ]
  },
  {
   "cell_type": "markdown",
   "id": "f31df47b-b030-464a-97b8-830c415cc84e",
   "metadata": {},
   "source": [
    "load up the provided IDs"
   ]
  },
  {
   "cell_type": "code",
   "execution_count": 7,
   "id": "c0d0d8d7-c00d-4fec-b2b8-65a2e186ffc5",
   "metadata": {
    "execution": {
     "iopub.execute_input": "2024-03-25T11:50:25.857596Z",
     "iopub.status.busy": "2024-03-25T11:50:25.856705Z",
     "iopub.status.idle": "2024-03-25T11:50:25.899798Z",
     "shell.execute_reply": "2024-03-25T11:50:25.899080Z",
     "shell.execute_reply.started": "2024-03-25T11:50:25.857563Z"
    },
    "tags": []
   },
   "outputs": [
    {
     "name": "stdout",
     "output_type": "stream",
     "text": [
      "[4282338859504210048 4282338889562080256 4282338893863946624 ...\n",
      " 2018615353311150592 2018615357602731008 2018615357625887488] 20039800\n"
     ]
    }
   ],
   "source": [
    "# load Andy's sourceIds\n",
    "from astropy.io import fits\n",
    "hdul = fits.open('/home/mikeeread/GaiaEDR3_SourceIds_NGPv4.fits')\n",
    "data = hdul[1].data # assuming the first extension is a table\n",
    "hdul.close()\n",
    "#print(data[0])\n",
    "andysSourceIds=data['source_id']\n",
    "print(andysSourceIds,len(andysSourceIds))"
   ]
  },
  {
   "cell_type": "markdown",
   "id": "1146814d-b12b-4a31-9e9c-a01b990ffbb1",
   "metadata": {},
   "source": [
    "some 20 million IDs so split into 2001 chunks, and around 1000 Ids per chunk. Break after 2 loops as just an example\n"
   ]
  },
  {
   "cell_type": "code",
   "execution_count": 8,
   "id": "2f7f6fe9-baa7-4bb7-af64-305824fd827d",
   "metadata": {
    "execution": {
     "iopub.execute_input": "2024-03-25T11:50:29.089175Z",
     "iopub.status.busy": "2024-03-25T11:50:29.088064Z",
     "iopub.status.idle": "2024-03-25T11:51:08.170569Z",
     "shell.execute_reply": "2024-03-25T11:51:08.169421Z",
     "shell.execute_reply.started": "2024-03-25T11:50:29.089141Z"
    },
    "tags": []
   },
   "outputs": [
    {
     "name": "stdout",
     "output_type": "stream",
     "text": [
      "0 10015 2024-03-25 11:50:29.469824\n",
      "1 10015 2024-03-25 11:50:52.604686\n",
      "13953\n"
     ]
    }
   ],
   "source": [
    "import numpy\n",
    "# split up the sourceIds into N chunks (the number is the number of chunks not size of chunks)\n",
    "chunks = numpy.array_split(numpy.array(andysSourceIds),2001) \n",
    "import datetime\n",
    "i=0\n",
    "from astropy.table import QTable, Table, Column, vstack\n",
    "fullResults=Table()\n",
    "#loop through chunks and submit query for those sourceIds, bringing back a few columns\n",
    "# stacks all results into one table (but maybe they should be kept separate as this might be inefficient)\n",
    "for chunk in chunks:\n",
    "    print(i,len(chunk),datetime.datetime.now())\n",
    "    \n",
    "    inClause=','.join(str(sourceId) for sourceId in chunk) #numpy.array2string(chunk, separator=\",\")\n",
    "    #print(inClause)\n",
    "    query=\"select ra,dec,phot_bp_mean_mag,phot_g_mean_mag,phot_rp_mean_mag from gaiaxcatwise2312.matches_source where source_id in (\"+inClause+\")\"\n",
    "    #print(query)\n",
    "\n",
    "    results = service.search(query)\n",
    "    table = results.to_table()\n",
    "    if i==0:\n",
    "        fullResults=table\n",
    "    else:\n",
    "        fullResults=(vstack([fullResults, table]))\n",
    "    #print(table)\n",
    "    i+=1\n",
    "    # set to low number for tests\n",
    "    if i==2:\n",
    "        break\n",
    "print(len(fullResults))"
   ]
  },
  {
   "cell_type": "code",
   "execution_count": 9,
   "id": "bd9be3f6-678f-4045-8278-e17b70eddbc4",
   "metadata": {
    "execution": {
     "iopub.execute_input": "2024-03-25T11:52:50.934365Z",
     "iopub.status.busy": "2024-03-25T11:52:50.933951Z",
     "iopub.status.idle": "2024-03-25T11:52:50.943054Z",
     "shell.execute_reply": "2024-03-25T11:52:50.942112Z",
     "shell.execute_reply.started": "2024-03-25T11:52:50.934335Z"
    },
    "tags": []
   },
   "outputs": [
    {
     "name": "stdout",
     "output_type": "stream",
     "text": [
      "        ra                dec         ... phot_g_mean_mag phot_rp_mean_mag\n",
      "------------------ ------------------ ... --------------- ----------------\n",
      "  282.138360128723  4.443532834875455 ...         17.2079          16.1848\n",
      " 282.1453523044547 4.4498532842778245 ...         18.3223          17.2477\n",
      " 282.1599689311139  4.451171826526903 ...         17.6882          16.4412\n",
      " 282.1445341478628  4.452055493243423 ...         16.0189          14.9313\n",
      " 282.1160230777142   4.43722356702056 ...         18.9184          17.7303\n",
      " 282.0870939766269  4.442877361154861 ...         17.9538          16.8751\n",
      "282.09706619686176   4.43927813379696 ...         15.4824          14.4274\n",
      "282.10620742763234  4.454777372628117 ...         17.9685          16.8901\n",
      " 282.1057034003062  4.460084808475075 ...         17.6387          16.4353\n",
      " 282.1373414992661  4.453260767628231 ...         17.9423          16.8716\n",
      "               ...                ... ...             ...              ...\n",
      " 284.2633592808782  6.640518390218935 ...          16.235          15.1851\n",
      "284.25589465689944  6.645912336061825 ...         16.6399          15.4119\n",
      "284.26707643946025  6.651057628253532 ...         17.7216          16.6509\n",
      "284.63366547136155  5.847560968933907 ...         17.3597          16.2861\n",
      "284.25168256988195  6.659089464509443 ...         16.9894          15.7365\n",
      " 284.2538949277189  6.664938096203561 ...           18.68          17.4958\n",
      "284.63251487814176  5.855980226959322 ...         18.1811          17.0689\n",
      "284.63968460116075  5.853942193877478 ...         16.5847          15.4645\n",
      " 284.7155080990073  5.866558895515341 ...         18.1441          17.0841\n",
      "284.69520993324454  5.873547515229422 ...         18.8184          17.6319\n",
      "  284.699888842156  5.881523054127557 ...         17.5528          16.4176\n",
      "Length = 13953 rows\n"
     ]
    }
   ],
   "source": [
    "print(fullResults)"
   ]
  },
  {
   "cell_type": "code",
   "execution_count": 18,
   "id": "ea12f2bf-b2d8-4652-96c1-034ee8813886",
   "metadata": {
    "execution": {
     "iopub.execute_input": "2024-03-20T18:02:11.541112Z",
     "iopub.status.busy": "2024-03-20T18:02:11.540669Z",
     "iopub.status.idle": "2024-03-20T18:02:11.545979Z",
     "shell.execute_reply": "2024-03-20T18:02:11.544690Z",
     "shell.execute_reply.started": "2024-03-20T18:02:11.541081Z"
    }
   },
   "outputs": [],
   "source": [
    "#import pyvo\n",
    "#tap = pyvo.dal.TAPService('https://rsp.lsst.ac.uk/api/tap')\n",
    "#tap.run_sync('select count(*) from SXDS.director')"
   ]
  },
  {
   "cell_type": "code",
   "execution_count": null,
   "id": "22035224-ddf0-4575-b4c1-0ecc296def97",
   "metadata": {},
   "outputs": [],
   "source": []
  },
  {
   "cell_type": "code",
   "execution_count": null,
   "id": "ab60f9ad-7515-49d1-b37a-a37c1b31541f",
   "metadata": {},
   "outputs": [],
   "source": []
  }
 ],
 "metadata": {
  "kernelspec": {
   "display_name": "LSST",
   "language": "python",
   "name": "lsst"
  },
  "language_info": {
   "codemirror_mode": {
    "name": "ipython",
    "version": 3
   },
   "file_extension": ".py",
   "mimetype": "text/x-python",
   "name": "python",
   "nbconvert_exporter": "python",
   "pygments_lexer": "ipython3",
   "version": "3.11.7"
  }
 },
 "nbformat": 4,
 "nbformat_minor": 5
}
