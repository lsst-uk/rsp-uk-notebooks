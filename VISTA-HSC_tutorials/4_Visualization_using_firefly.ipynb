{
 "cells": [
  {
   "cell_type": "markdown",
   "id": "9f4a74f2-3305-43fb-a654-e1ac29ac0871",
   "metadata": {},
   "source": [
    "## 4. Visualization using firefly\n",
    "We previously used awfDisplay to visualize images, but we can also do so using a different backend, such as firefly. First we import the necessary packages and initialize a butler instance:"
   ]
  },
  {
   "cell_type": "code",
   "execution_count": 2,
   "id": "7e68f104-36eb-41ac-a295-7856552ab0d0",
   "metadata": {
    "execution": {
     "iopub.execute_input": "2023-10-31T16:53:09.864642Z",
     "iopub.status.busy": "2023-10-31T16:53:09.864310Z",
     "iopub.status.idle": "2023-10-31T16:53:11.450277Z",
     "shell.execute_reply": "2023-10-31T16:53:11.449392Z",
     "shell.execute_reply.started": "2023-10-31T16:53:09.864618Z"
    },
    "tags": []
   },
   "outputs": [],
   "source": [
    "import lsst.afw.display as afwDisplay\n",
    "from lsst.daf.butler import Butler\n",
    "butler = Butler('/data/butler/dmu4')"
   ]
  },
  {
   "cell_type": "markdown",
   "id": "5dfbd244-df7d-4e44-b439-64a98cbc3acc",
   "metadata": {},
   "source": [
    "Now we retrieve a coadd"
   ]
  },
  {
   "cell_type": "code",
   "execution_count": 3,
   "id": "94b0ede7-35a6-41d0-85e2-895c32fc330b",
   "metadata": {
    "execution": {
     "iopub.execute_input": "2023-10-31T16:53:12.940353Z",
     "iopub.status.busy": "2023-10-31T16:53:12.939563Z",
     "iopub.status.idle": "2023-10-31T16:53:24.380161Z",
     "shell.execute_reply": "2023-10-31T16:53:24.379075Z",
     "shell.execute_reply.started": "2023-10-31T16:53:12.940320Z"
    },
    "tags": []
   },
   "outputs": [],
   "source": [
    "my_deepCoadd = butler.get('deepCoadd_calexp.image', band='H', tract=8525, patch=70, skymap='hscPdr2',collections='u/ir-shir1/DRP/videoCoaddDetect/20221130T131608Z')"
   ]
  },
  {
   "cell_type": "markdown",
   "id": "9788669f-c3b1-48ed-a63d-d8ad5c00884e",
   "metadata": {},
   "source": [
    "We need to set firefly as the default backend and initialize it."
   ]
  },
  {
   "cell_type": "code",
   "execution_count": 5,
   "id": "c288752f-404e-4392-b2ba-baeb41258939",
   "metadata": {
    "execution": {
     "iopub.execute_input": "2023-10-31T16:56:13.513841Z",
     "iopub.status.busy": "2023-10-31T16:56:13.513116Z",
     "iopub.status.idle": "2023-10-31T16:56:13.760280Z",
     "shell.execute_reply": "2023-10-31T16:56:13.759675Z",
     "shell.execute_reply.started": "2023-10-31T16:56:13.513813Z"
    },
    "tags": []
   },
   "outputs": [],
   "source": [
    "afwDisplay.setDefaultBackend('firefly')\n",
    "afw_display = afwDisplay.Display(frame=1)"
   ]
  },
  {
   "cell_type": "markdown",
   "id": "81193c25-d512-4e04-9ae7-6bad9572db43",
   "metadata": {},
   "source": [
    "We can display our deep coadd and change parameters."
   ]
  },
  {
   "cell_type": "code",
   "execution_count": null,
   "id": "a40d83e6-2ccd-4237-86c0-8abedde9ff49",
   "metadata": {
    "execution": {
     "iopub.execute_input": "2023-10-31T16:56:19.302964Z",
     "iopub.status.busy": "2023-10-31T16:56:19.302382Z"
    },
    "tags": []
   },
   "outputs": [],
   "source": [
    "afw_display.mtv(my_deepCoadd)"
   ]
  },
  {
   "cell_type": "code",
   "execution_count": 6,
   "id": "bf80b05b-0385-4611-b319-db419c33b9ac",
   "metadata": {
    "execution": {
     "iopub.execute_input": "2023-10-29T20:05:08.098442Z",
     "iopub.status.busy": "2023-10-29T20:05:08.097347Z",
     "iopub.status.idle": "2023-10-29T20:05:08.944838Z",
     "shell.execute_reply": "2023-10-29T20:05:08.944026Z",
     "shell.execute_reply.started": "2023-10-29T20:05:08.098413Z"
    },
    "tags": []
   },
   "outputs": [],
   "source": [
    "afw_display.setMaskTransparency(20)"
   ]
  },
  {
   "cell_type": "code",
   "execution_count": 7,
   "id": "ecc69b4e-db8a-4301-80fb-dc3fe2ffea87",
   "metadata": {
    "execution": {
     "iopub.execute_input": "2023-10-29T20:05:11.387366Z",
     "iopub.status.busy": "2023-10-29T20:05:11.386208Z",
     "iopub.status.idle": "2023-10-29T20:05:11.622029Z",
     "shell.execute_reply": "2023-10-29T20:05:11.621183Z",
     "shell.execute_reply.started": "2023-10-29T20:05:11.387341Z"
    },
    "tags": []
   },
   "outputs": [],
   "source": [
    "afw_display.setMaskTransparency(80)"
   ]
  },
  {
   "cell_type": "code",
   "execution_count": 8,
   "id": "c41f548f-6877-4d4d-a21b-10c0f6f68438",
   "metadata": {
    "execution": {
     "iopub.execute_input": "2023-10-29T20:05:14.156161Z",
     "iopub.status.busy": "2023-10-29T20:05:14.155862Z",
     "iopub.status.idle": "2023-10-29T20:05:14.177906Z",
     "shell.execute_reply": "2023-10-29T20:05:14.177048Z",
     "shell.execute_reply.started": "2023-10-29T20:05:14.156139Z"
    },
    "tags": []
   },
   "outputs": [],
   "source": [
    "afw_display.scale(\"asinh\", -5, 20)"
   ]
  },
  {
   "cell_type": "code",
   "execution_count": 9,
   "id": "533ed774-94af-4aed-aed9-67cb78aee1fe",
   "metadata": {
    "execution": {
     "iopub.execute_input": "2023-10-29T20:05:20.228828Z",
     "iopub.status.busy": "2023-10-29T20:05:20.227881Z",
     "iopub.status.idle": "2023-10-29T20:05:20.250031Z",
     "shell.execute_reply": "2023-10-29T20:05:20.249487Z",
     "shell.execute_reply.started": "2023-10-29T20:05:20.228805Z"
    },
    "tags": []
   },
   "outputs": [],
   "source": [
    "afw_display.scale(\"asinh\", \"zscale\")"
   ]
  },
  {
   "cell_type": "markdown",
   "id": "2e44c4ec-d72f-4551-b1ef-0b8b23edab3b",
   "metadata": {},
   "source": [
    "The display framework renders each plane of the mask in a different color (plane being a different bit in the mask). To interpret these colors you can get a dictionary of mask planes from `my_deepCoadd` and query the display for the colors it rendered each mask plane with."
   ]
  },
  {
   "cell_type": "code",
   "execution_count": 10,
   "id": "c73bada0-90e8-402b-a08c-79d0fa8f9f18",
   "metadata": {
    "execution": {
     "iopub.execute_input": "2023-10-29T20:06:35.369223Z",
     "iopub.status.busy": "2023-10-29T20:06:35.368873Z",
     "iopub.status.idle": "2023-10-29T20:06:35.374435Z",
     "shell.execute_reply": "2023-10-29T20:06:35.373652Z",
     "shell.execute_reply.started": "2023-10-29T20:06:35.369198Z"
    },
    "tags": []
   },
   "outputs": [
    {
     "name": "stdout",
     "output_type": "stream",
     "text": [
      "BAD: red\n",
      "CLIPPED: red\n",
      "CR: magenta\n",
      "DETECTED: blue\n",
      "DETECTED_NEGATIVE: cyan\n",
      "EDGE: yellow\n",
      "INEXACT_PSF: green\n",
      "INTRP: green\n",
      "NO_DATA: orange\n",
      "REJECTED: blue\n",
      "SAT: green\n",
      "SENSOR_EDGE: cyan\n",
      "SUSPECT: yellow\n",
      "UNMASKEDNAN: magenta\n"
     ]
    }
   ],
   "source": [
    "mask = my_deepCoadd.getMask()\n",
    "for maskName, maskBit in mask.getMaskPlaneDict().items():\n",
    "    print('{}: {}'.format(maskName, afw_display.getMaskPlaneColor(maskName)))"
   ]
  },
  {
   "cell_type": "markdown",
   "id": "daf408de-8a47-439b-a644-ba778f444ce6",
   "metadata": {},
   "source": [
    "We can adjust the display colours, but let's first save the current configuration so we can use it again if needed."
   ]
  },
  {
   "cell_type": "code",
   "execution_count": 11,
   "id": "95ae2d0f-c359-46d6-b42e-9dbd8e1bbcd2",
   "metadata": {
    "execution": {
     "iopub.execute_input": "2023-10-29T20:07:34.113818Z",
     "iopub.status.busy": "2023-10-29T20:07:34.113490Z",
     "iopub.status.idle": "2023-10-29T20:07:34.118411Z",
     "shell.execute_reply": "2023-10-29T20:07:34.117776Z",
     "shell.execute_reply.started": "2023-10-29T20:07:34.113795Z"
    },
    "tags": []
   },
   "outputs": [
    {
     "name": "stdout",
     "output_type": "stream",
     "text": [
      "{'BAD': 'red', 'CLIPPED': 'red', 'CR': 'magenta', 'DETECTED': 'blue', 'DETECTED_NEGATIVE': 'cyan', 'EDGE': 'yellow', 'INEXACT_PSF': 'green', 'INTRP': 'green', 'NO_DATA': 'orange', 'REJECTED': 'blue', 'SAT': 'green', 'SENSOR_EDGE': 'cyan', 'SUSPECT': 'yellow', 'UNMASKEDNAN': 'magenta'}\n"
     ]
    }
   ],
   "source": [
    "origMaskPlaneColorsDict = {}\n",
    "for maskName, maskBit in mask.getMaskPlaneDict().items():\n",
    "    origMaskPlaneColorsDict[maskName] = afw_display.getMaskPlaneColor(maskName)\n",
    "\n",
    "print(origMaskPlaneColorsDict)"
   ]
  },
  {
   "cell_type": "markdown",
   "id": "e14fd5c0-b5f7-4c25-826b-d6c1838cdfdd",
   "metadata": {},
   "source": [
    "Let's do some changes:"
   ]
  },
  {
   "cell_type": "code",
   "execution_count": 12,
   "id": "8e2acbac-a223-499a-9afa-02999fb67506",
   "metadata": {
    "execution": {
     "iopub.execute_input": "2023-10-29T20:07:56.664770Z",
     "iopub.status.busy": "2023-10-29T20:07:56.663861Z",
     "iopub.status.idle": "2023-10-29T20:07:56.667655Z",
     "shell.execute_reply": "2023-10-29T20:07:56.667079Z",
     "shell.execute_reply.started": "2023-10-29T20:07:56.664730Z"
    },
    "tags": []
   },
   "outputs": [],
   "source": [
    "afw_display.setMaskPlaneColor('DETECTED','red')"
   ]
  },
  {
   "cell_type": "code",
   "execution_count": 13,
   "id": "e19f68f3-e719-4ef8-adaa-22c378575a60",
   "metadata": {
    "execution": {
     "iopub.execute_input": "2023-10-29T20:07:57.817359Z",
     "iopub.status.busy": "2023-10-29T20:07:57.816332Z",
     "iopub.status.idle": "2023-10-29T20:07:59.247608Z",
     "shell.execute_reply": "2023-10-29T20:07:59.246909Z",
     "shell.execute_reply.started": "2023-10-29T20:07:57.817334Z"
    },
    "tags": []
   },
   "outputs": [],
   "source": [
    "afw_display.mtv(my_deepCoadd)"
   ]
  },
  {
   "cell_type": "code",
   "execution_count": 14,
   "id": "25429f6d-46ae-4439-92e7-acc08006bd40",
   "metadata": {
    "execution": {
     "iopub.execute_input": "2023-10-29T20:08:04.425435Z",
     "iopub.status.busy": "2023-10-29T20:08:04.424387Z",
     "iopub.status.idle": "2023-10-29T20:08:04.446249Z",
     "shell.execute_reply": "2023-10-29T20:08:04.445730Z",
     "shell.execute_reply.started": "2023-10-29T20:08:04.425408Z"
    },
    "tags": []
   },
   "outputs": [],
   "source": [
    "afw_display.setMaskTransparency(0,'SENSOR_EDGE')"
   ]
  },
  {
   "cell_type": "code",
   "execution_count": 15,
   "id": "ce4eab4d-349d-4495-bf9c-e65ad0459080",
   "metadata": {
    "execution": {
     "iopub.execute_input": "2023-10-29T20:08:06.208398Z",
     "iopub.status.busy": "2023-10-29T20:08:06.207735Z",
     "iopub.status.idle": "2023-10-29T20:08:06.231484Z",
     "shell.execute_reply": "2023-10-29T20:08:06.230464Z",
     "shell.execute_reply.started": "2023-10-29T20:08:06.208373Z"
    },
    "tags": []
   },
   "outputs": [],
   "source": [
    "afw_display.setMaskTransparency(100,'SENSOR_EDGE')"
   ]
  }
 ],
 "metadata": {
  "kernelspec": {
   "display_name": "LSST",
   "language": "python",
   "name": "lsst"
  },
  "language_info": {
   "codemirror_mode": {
    "name": "ipython",
    "version": 3
   },
   "file_extension": ".py",
   "mimetype": "text/x-python",
   "name": "python",
   "nbconvert_exporter": "python",
   "pygments_lexer": "ipython3",
   "version": "3.11.4"
  }
 },
 "nbformat": 4,
 "nbformat_minor": 5
}
