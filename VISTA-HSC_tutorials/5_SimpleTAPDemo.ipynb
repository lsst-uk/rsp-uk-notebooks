{
 "cells": [
  {
   "cell_type": "markdown",
   "id": "3d081c06-b738-4b72-acc3-782ffec298d8",
   "metadata": {},
   "source": [
    "## Introduction to the TAP service and database queries\n",
    "This notebook demos how to access the TAP service that sits in front of the qserv database and gives examples of some simple queries.\n",
    "\n",
    "Additional information the infrared fusion database is given in the confluence doc:  \n",
    "<a href=\"https://lsst-uk.atlassian.net/wiki/spaces/LUSC/pages/3292463109/Working+with+the+LSST-VISTA+Fusion+database\">Working with the LSST-VISTA Fusion database</a>"
   ]
  },
  {
   "cell_type": "markdown",
   "id": "b41dff63-0bf7-499f-be87-9b53f23abd80",
   "metadata": {},
   "source": [
    "Import modules and checj the TAP service"
   ]
  },
  {
   "cell_type": "code",
   "execution_count": 2,
   "id": "6c37a12a-c0a7-4a2d-aa68-7a9bccd1d557",
   "metadata": {
    "execution": {
     "iopub.execute_input": "2023-11-20T13:54:45.773235Z",
     "iopub.status.busy": "2023-11-20T13:54:45.772960Z",
     "iopub.status.idle": "2023-11-20T13:54:45.878228Z",
     "shell.execute_reply": "2023-11-20T13:54:45.877366Z",
     "shell.execute_reply.started": "2023-11-20T13:54:45.773214Z"
    },
    "tags": []
   },
   "outputs": [
    {
     "name": "stdout",
     "output_type": "stream",
     "text": [
      "134217728\n",
      "134217728\n"
     ]
    }
   ],
   "source": [
    "# Import the Rubin TAP service utilities\n",
    "from lsst.rsp import get_tap_service, retrieve_query\n",
    "\n",
    "service = get_tap_service(\"tap\")\n",
    "assert service is not None\n",
    "assert service.baseurl == \"https://rsp.lsst.ac.uk/api/tap\"\n",
    "\n",
    "print(service.maxrec)\n",
    "print(service.hardlimit)"
   ]
  },
  {
   "cell_type": "markdown",
   "id": "cb228257-6505-4874-9607-58df00600036",
   "metadata": {},
   "source": [
    "See what databases the TAP service can access, and get resultset as astropy table\n"
   ]
  },
  {
   "cell_type": "code",
   "execution_count": 3,
   "id": "2bede886-db8b-4827-9476-397f27b0c8bc",
   "metadata": {
    "execution": {
     "iopub.execute_input": "2023-11-20T13:54:48.409183Z",
     "iopub.status.busy": "2023-11-20T13:54:48.408025Z",
     "iopub.status.idle": "2023-11-20T13:54:48.607150Z",
     "shell.execute_reply": "2023-11-20T13:54:48.606198Z",
     "shell.execute_reply.started": "2023-11-20T13:54:48.409148Z"
    },
    "tags": []
   },
   "outputs": [
    {
     "data": {
      "text/html": [
       "<div><i>Table length=8</i>\n",
       "<table id=\"table139635474825168\" class=\"table-striped table-bordered table-condensed\">\n",
       "<thead><tr><th>description</th><th>schema_index</th><th>schema_name</th><th>utype</th></tr></thead>\n",
       "<thead><tr><th>str512</th><th>int32</th><th>str64</th><th>str512</th></tr></thead>\n",
       "<tr><td>no database description provided</td><td>1</td><td>dc2_run2_1i_dr1b</td><td></td></tr>\n",
       "<tr><td>gaia_source catwise_2020 matches from Edinburgh</td><td>2</td><td>gaiaxcatwise</td><td></td></tr>\n",
       "<tr><td>allsky gaia_source catwise_2020 matches from Edinburgh</td><td>3</td><td>gaiaxcatwiseallsky</td><td></td></tr>\n",
       "<tr><td>A TAP-standard-mandated schema to describe tablesets in a TAP 1.1 service</td><td>100000</td><td>tap_schema</td><td></td></tr>\n",
       "<tr><td>no database description provided</td><td>0</td><td>UDS</td><td></td></tr>\n",
       "<tr><td>UWS Metadata</td><td>120000</td><td>uws</td><td></td></tr>\n",
       "<tr><td>VIDEO/HSC database from WP3.5</td><td>4</td><td>video</td><td></td></tr>\n",
       "<tr><td>VIKING/HSC database from WP3.5</td><td>5</td><td>viking</td><td></td></tr>\n",
       "</table></div>"
      ],
      "text/plain": [
       "<Table length=8>\n",
       "                               description                                ...\n",
       "                                  str512                                  ...\n",
       "------------------------------------------------------------------------- ...\n",
       "                                         no database description provided ...\n",
       "                          gaia_source catwise_2020 matches from Edinburgh ...\n",
       "                   allsky gaia_source catwise_2020 matches from Edinburgh ...\n",
       "A TAP-standard-mandated schema to describe tablesets in a TAP 1.1 service ...\n",
       "                                         no database description provided ...\n",
       "                                                             UWS Metadata ...\n",
       "                                            VIDEO/HSC database from WP3.5 ...\n",
       "                                           VIKING/HSC database from WP3.5 ..."
      ]
     },
     "execution_count": 3,
     "metadata": {},
     "output_type": "execute_result"
    }
   ],
   "source": [
    "query = \"SELECT * FROM tap_schema.schemas\"\n",
    "resultsSchema = service.search(query).to_table()\n",
    "resultsSchema"
   ]
  },
  {
   "cell_type": "markdown",
   "id": "6f9fc03d-44fa-4325-b828-32def33fed8f",
   "metadata": {},
   "source": [
    "see what tables are in the VIDEO database"
   ]
  },
  {
   "cell_type": "code",
   "execution_count": 4,
   "id": "87a380e2-cd8a-40bf-ab20-9f38a58a9245",
   "metadata": {
    "execution": {
     "iopub.execute_input": "2023-11-20T13:54:51.359800Z",
     "iopub.status.busy": "2023-11-20T13:54:51.358804Z",
     "iopub.status.idle": "2023-11-20T13:54:51.559181Z",
     "shell.execute_reply": "2023-11-20T13:54:51.558391Z",
     "shell.execute_reply.started": "2023-11-20T13:54:51.359763Z"
    },
    "tags": []
   },
   "outputs": [
    {
     "name": "stdout",
     "output_type": "stream",
     "text": [
      "SELECT * FROM tap_schema.tables WHERE tap_schema.tables.schema_name = 'video' order by table_index ASC\n"
     ]
    },
    {
     "data": {
      "text/html": [
       "<div><i>Table length=21</i>\n",
       "<table id=\"table139635478270864\" class=\"table-striped table-bordered table-condensed\">\n",
       "<thead><tr><th>description</th><th>schema_name</th><th>table_index</th><th>table_name</th><th>table_type</th><th>utype</th></tr></thead>\n",
       "<thead><tr><th>str512</th><th>str512</th><th>int32</th><th>str64</th><th>str8</th><th>str512</th></tr></thead>\n",
       "<tr><td>merged table</td><td>video</td><td>0</td><td>video.merged</td><td>table</td><td></td></tr>\n",
       "<tr><td>hsc_g_f measured results</td><td>video</td><td>0</td><td>video.hsc_g_f</td><td>table</td><td></td></tr>\n",
       "<tr><td>hsc_g_m measured results</td><td>video</td><td>0</td><td>video.hsc_g_m</td><td>table</td><td></td></tr>\n",
       "<tr><td>hsc_i_f measured results</td><td>video</td><td>0</td><td>video.hsc_i_f</td><td>table</td><td></td></tr>\n",
       "<tr><td>hsc_i_m measured results</td><td>video</td><td>0</td><td>video.hsc_i_m</td><td>table</td><td></td></tr>\n",
       "<tr><td>hsc_r_f measured results</td><td>video</td><td>0</td><td>video.hsc_r_f</td><td>table</td><td></td></tr>\n",
       "<tr><td>hsc_r_m measured results</td><td>video</td><td>0</td><td>video.hsc_r_m</td><td>table</td><td></td></tr>\n",
       "<tr><td>hsc_y_f measured results</td><td>video</td><td>0</td><td>video.hsc_y_f</td><td>table</td><td></td></tr>\n",
       "<tr><td>hsc_y_m measured results</td><td>video</td><td>0</td><td>video.hsc_y_m</td><td>table</td><td></td></tr>\n",
       "<tr><td>hsc_z_f measured results</td><td>video</td><td>0</td><td>video.hsc_z_f</td><td>table</td><td></td></tr>\n",
       "<tr><td>hsc_z_m measured results</td><td>video</td><td>0</td><td>video.hsc_z_m</td><td>table</td><td></td></tr>\n",
       "<tr><td>vir_h_f measured results</td><td>video</td><td>0</td><td>video.vir_h_f</td><td>table</td><td></td></tr>\n",
       "<tr><td>vir_h_m measured results</td><td>video</td><td>0</td><td>video.vir_h_m</td><td>table</td><td></td></tr>\n",
       "<tr><td>vir_j_f measured results</td><td>video</td><td>0</td><td>video.vir_j_f</td><td>table</td><td></td></tr>\n",
       "<tr><td>vir_j_m measured results</td><td>video</td><td>0</td><td>video.vir_j_m</td><td>table</td><td></td></tr>\n",
       "<tr><td>vir_k_f measured results</td><td>video</td><td>0</td><td>video.vir_k_f</td><td>table</td><td></td></tr>\n",
       "<tr><td>vir_k_m measured results</td><td>video</td><td>0</td><td>video.vir_k_m</td><td>table</td><td></td></tr>\n",
       "<tr><td>vir_y_f measured results</td><td>video</td><td>0</td><td>video.vir_y_f</td><td>table</td><td></td></tr>\n",
       "<tr><td>vir_y_m measured results</td><td>video</td><td>0</td><td>video.vir_y_m</td><td>table</td><td></td></tr>\n",
       "<tr><td>vir_z_f measured results</td><td>video</td><td>0</td><td>video.vir_z_f</td><td>table</td><td></td></tr>\n",
       "<tr><td>vir_z_m measured results</td><td>video</td><td>0</td><td>video.vir_z_m</td><td>table</td><td></td></tr>\n",
       "</table></div>"
      ],
      "text/plain": [
       "<Table length=21>\n",
       "      description        schema_name table_index   table_name  table_type utype \n",
       "         str512             str512      int32        str64        str8    str512\n",
       "------------------------ ----------- ----------- ------------- ---------- ------\n",
       "            merged table       video           0  video.merged      table       \n",
       "hsc_g_f measured results       video           0 video.hsc_g_f      table       \n",
       "hsc_g_m measured results       video           0 video.hsc_g_m      table       \n",
       "hsc_i_f measured results       video           0 video.hsc_i_f      table       \n",
       "hsc_i_m measured results       video           0 video.hsc_i_m      table       \n",
       "hsc_r_f measured results       video           0 video.hsc_r_f      table       \n",
       "hsc_r_m measured results       video           0 video.hsc_r_m      table       \n",
       "hsc_y_f measured results       video           0 video.hsc_y_f      table       \n",
       "hsc_y_m measured results       video           0 video.hsc_y_m      table       \n",
       "hsc_z_f measured results       video           0 video.hsc_z_f      table       \n",
       "hsc_z_m measured results       video           0 video.hsc_z_m      table       \n",
       "vir_h_f measured results       video           0 video.vir_h_f      table       \n",
       "vir_h_m measured results       video           0 video.vir_h_m      table       \n",
       "vir_j_f measured results       video           0 video.vir_j_f      table       \n",
       "vir_j_m measured results       video           0 video.vir_j_m      table       \n",
       "vir_k_f measured results       video           0 video.vir_k_f      table       \n",
       "vir_k_m measured results       video           0 video.vir_k_m      table       \n",
       "vir_y_f measured results       video           0 video.vir_y_f      table       \n",
       "vir_y_m measured results       video           0 video.vir_y_m      table       \n",
       "vir_z_f measured results       video           0 video.vir_z_f      table       \n",
       "vir_z_m measured results       video           0 video.vir_z_m      table       "
      ]
     },
     "execution_count": 4,
     "metadata": {},
     "output_type": "execute_result"
    }
   ],
   "source": [
    "query = \"SELECT * FROM tap_schema.tables \" \\\n",
    "        \"WHERE tap_schema.tables.schema_name = '\" \\\n",
    "        + 'video' + \"' order by table_index ASC\"\n",
    "print(query)\n",
    "\n",
    "results = service.search(query)\n",
    "results = results.to_table()\n",
    "results"
   ]
  },
  {
   "cell_type": "markdown",
   "id": "6488e4b4-505f-491c-9621-1830910c747f",
   "metadata": {},
   "source": [
    "\n",
    "run a cone query of the <b>merged</b> table selecting the various mags\n"
   ]
  },
  {
   "cell_type": "code",
   "execution_count": 11,
   "id": "5d8053a4-6ce4-4041-9ce0-9dc6877c11ca",
   "metadata": {
    "execution": {
     "iopub.execute_input": "2023-11-20T13:08:13.732774Z",
     "iopub.status.busy": "2023-11-20T13:08:13.732106Z",
     "iopub.status.idle": "2023-11-20T13:09:18.226147Z",
     "shell.execute_reply": "2023-11-20T13:09:18.225260Z",
     "shell.execute_reply.started": "2023-11-20T13:08:13.732744Z"
    },
    "tags": []
   },
   "outputs": [
    {
     "data": {
      "text/html": [
       "<div><i>Table length=681</i>\n",
       "<table id=\"table139817689533520\" class=\"table-striped table-bordered table-condensed\">\n",
       "<thead><tr><th>ra</th><th>dec</th><th>g</th><th>r</th><th>i</th><th>z</th><th>y</th><th>vZ</th><th>vY</th><th>J</th><th>H</th><th>K</th></tr></thead>\n",
       "<thead><tr><th>float64</th><th>float64</th><th>float32</th><th>float32</th><th>float32</th><th>float32</th><th>float32</th><th>float32</th><th>float32</th><th>float32</th><th>float32</th><th>float32</th></tr></thead>\n",
       "<tr><td>35.997668055572646</td><td>-5.012762096521284</td><td>21.1462</td><td>20.0168</td><td>19.5063</td><td>19.2597</td><td>19.0787</td><td>19.4497</td><td>19.1858</td><td>18.8189</td><td>18.4942</td><td>18.206</td></tr>\n",
       "<tr><td>36.00644905183114</td><td>-5.014298879131164</td><td>23.5438</td><td>22.7717</td><td>22.4788</td><td>22.3809</td><td>22.1564</td><td>22.5476</td><td>22.2646</td><td>22.2332</td><td>21.9897</td><td>21.89</td></tr>\n",
       "<tr><td>35.99621147124081</td><td>-5.013280452168841</td><td>25.3675</td><td>25.0273</td><td>24.5536</td><td>24.2729</td><td>24.1416</td><td>24.4387</td><td>24.4648</td><td>24.2061</td><td>24.2031</td><td>23.6728</td></tr>\n",
       "<tr><td>35.99542208939584</td><td>-5.015639959094359</td><td>26.0834</td><td>25.5603</td><td>24.8588</td><td>24.603</td><td>24.3392</td><td>24.6028</td><td>24.3497</td><td>24.1385</td><td>23.8535</td><td>24.0075</td></tr>\n",
       "<tr><td>35.99927836140051</td><td>-5.013912066268159</td><td>26.942</td><td>25.6749</td><td>24.7923</td><td>24.2022</td><td>23.4323</td><td>24.5154</td><td>23.485</td><td>22.9364</td><td>22.0742</td><td>21.5446</td></tr>\n",
       "<tr><td>36.000272497131206</td><td>-5.014486067031779</td><td>25.8131</td><td>25.4237</td><td>24.8091</td><td>24.3961</td><td>23.9021</td><td>24.46</td><td>23.9489</td><td>23.6811</td><td>23.2801</td><td>23.1479</td></tr>\n",
       "<tr><td>35.99580306651626</td><td>-5.0128925556492785</td><td>25.5509</td><td>25.4257</td><td>25.2706</td><td>25.3032</td><td>25.9004</td><td>25.7723</td><td>25.0809</td><td>25.469</td><td>24.4855</td><td>24.3444</td></tr>\n",
       "<tr><td>35.996265513127014</td><td>-5.01552752482956</td><td>27.0539</td><td>25.6366</td><td>25.3904</td><td>25.1492</td><td>25.1248</td><td>25.2351</td><td>25.0514</td><td>25.2712</td><td>24.5474</td><td>24.5885</td></tr>\n",
       "<tr><td>35.99962357667754</td><td>-5.016348483138161</td><td>26.7941</td><td>25.8118</td><td>25.7111</td><td>25.7408</td><td>25.1196</td><td>25.5295</td><td>25.9734</td><td>26.2866</td><td>25.8118</td><td>24.6133</td></tr>\n",
       "<tr><td>35.999058209233475</td><td>-5.0121949018638565</td><td>25.7616</td><td>25.5724</td><td>25.5939</td><td>25.3894</td><td>25.467</td><td>25.3866</td><td>24.995</td><td>24.8566</td><td>24.1781</td><td>23.7886</td></tr>\n",
       "<tr><td>...</td><td>...</td><td>...</td><td>...</td><td>...</td><td>...</td><td>...</td><td>...</td><td>...</td><td>...</td><td>...</td><td>...</td></tr>\n",
       "<tr><td>36.00118190733145</td><td>-4.991793195059399</td><td>27.1283</td><td>27.0331</td><td>27.7088</td><td>26.5905</td><td>--</td><td>25.8738</td><td>26.436</td><td>25.0417</td><td>25.0447</td><td>--</td></tr>\n",
       "<tr><td>35.99896754920302</td><td>-4.991864221356691</td><td>27.1774</td><td>27.226</td><td>27.3718</td><td>27.0077</td><td>26.5673</td><td>26.1448</td><td>26.5482</td><td>25.461</td><td>25.2992</td><td>25.2816</td></tr>\n",
       "<tr><td>35.99122305626992</td><td>-4.991042860949699</td><td>27.425</td><td>27.821</td><td>26.9041</td><td>26.9032</td><td>25.4448</td><td>25.7881</td><td>26.2587</td><td>26.1231</td><td>25.4557</td><td>25.2411</td></tr>\n",
       "<tr><td>35.9872326188788</td><td>-4.991954986542226</td><td>27.0913</td><td>27.1274</td><td>27.4383</td><td>26.3368</td><td>26.3294</td><td>25.684</td><td>25.9769</td><td>25.5199</td><td>33.5752</td><td>25.2763</td></tr>\n",
       "<tr><td>35.98708350011314</td><td>-4.992531235391889</td><td>26.7203</td><td>26.7397</td><td>26.6328</td><td>26.5396</td><td>--</td><td>26.134</td><td>27.1878</td><td>26.1799</td><td>25.3002</td><td>25.6128</td></tr>\n",
       "<tr><td>36.0006374937723</td><td>-4.989032070619227</td><td>27.0835</td><td>27.003</td><td>27.4913</td><td>29.0599</td><td>27.2533</td><td>25.6901</td><td>25.9892</td><td>25.2281</td><td>25.2495</td><td>25.8853</td></tr>\n",
       "<tr><td>36.01072608516227</td><td>-4.989086536874912</td><td>26.9327</td><td>26.8715</td><td>27.7888</td><td>27.286</td><td>--</td><td>25.694</td><td>25.3138</td><td>25.2888</td><td>25.0435</td><td>25.5358</td></tr>\n",
       "<tr><td>35.99658496954967</td><td>-4.989336006661009</td><td>27.3948</td><td>28.1123</td><td>30.6739</td><td>27.5963</td><td>--</td><td>26.0893</td><td>25.7776</td><td>26.7235</td><td>25.3107</td><td>--</td></tr>\n",
       "<tr><td>36.01319220228649</td><td>-4.990892904226976</td><td>26.9888</td><td>27.0907</td><td>27.7965</td><td>26.6204</td><td>25.669</td><td>25.3913</td><td>25.4163</td><td>25.2306</td><td>25.4538</td><td>25.0078</td></tr>\n",
       "<tr><td>35.99051874780836</td><td>-4.987403265873485</td><td>28.5804</td><td>27.9155</td><td>27.2194</td><td>26.9048</td><td>25.9311</td><td>25.1967</td><td>25.6573</td><td>26.3092</td><td>26.2664</td><td>24.8915</td></tr>\n",
       "</table></div>"
      ],
      "text/plain": [
       "<Table length=681>\n",
       "        ra                 dec            g    ...    J       H       K   \n",
       "     float64             float64       float32 ... float32 float32 float32\n",
       "------------------ ------------------- ------- ... ------- ------- -------\n",
       "35.997668055572646  -5.012762096521284 21.1462 ... 18.8189 18.4942  18.206\n",
       " 36.00644905183114  -5.014298879131164 23.5438 ... 22.2332 21.9897   21.89\n",
       " 35.99621147124081  -5.013280452168841 25.3675 ... 24.2061 24.2031 23.6728\n",
       " 35.99542208939584  -5.015639959094359 26.0834 ... 24.1385 23.8535 24.0075\n",
       " 35.99927836140051  -5.013912066268159  26.942 ... 22.9364 22.0742 21.5446\n",
       "36.000272497131206  -5.014486067031779 25.8131 ... 23.6811 23.2801 23.1479\n",
       " 35.99580306651626 -5.0128925556492785 25.5509 ...  25.469 24.4855 24.3444\n",
       "35.996265513127014   -5.01552752482956 27.0539 ... 25.2712 24.5474 24.5885\n",
       " 35.99962357667754  -5.016348483138161 26.7941 ... 26.2866 25.8118 24.6133\n",
       "35.999058209233475 -5.0121949018638565 25.7616 ... 24.8566 24.1781 23.7886\n",
       "               ...                 ...     ... ...     ...     ...     ...\n",
       " 36.00118190733145  -4.991793195059399 27.1283 ... 25.0417 25.0447      --\n",
       " 35.99896754920302  -4.991864221356691 27.1774 ...  25.461 25.2992 25.2816\n",
       " 35.99122305626992  -4.991042860949699  27.425 ... 26.1231 25.4557 25.2411\n",
       "  35.9872326188788  -4.991954986542226 27.0913 ... 25.5199 33.5752 25.2763\n",
       " 35.98708350011314  -4.992531235391889 26.7203 ... 26.1799 25.3002 25.6128\n",
       "  36.0006374937723  -4.989032070619227 27.0835 ... 25.2281 25.2495 25.8853\n",
       " 36.01072608516227  -4.989086536874912 26.9327 ... 25.2888 25.0435 25.5358\n",
       " 35.99658496954967  -4.989336006661009 27.3948 ... 26.7235 25.3107      --\n",
       " 36.01319220228649  -4.990892904226976 26.9888 ... 25.2306 25.4538 25.0078\n",
       " 35.99051874780836  -4.987403265873485 28.5804 ... 26.3092 26.2664 24.8915"
      ]
     },
     "execution_count": 11,
     "metadata": {},
     "output_type": "execute_result"
    }
   ],
   "source": [
    "query = \"\"\"SELECT hsc_r_m_coord_ra as ra, hsc_r_m_coord_dec as dec,\n",
    "       hsc_g_m_base_circularapertureflux_6_0_mag as g,\n",
    "       hsc_r_m_base_circularapertureflux_6_0_mag as r,hsc_i_m_base_circularapertureflux_6_0_mag as i,\n",
    "       hsc_z_m_base_circularapertureflux_6_0_mag as z,hsc_y_m_base_circularapertureflux_6_0_mag as y,\n",
    "       vircam_z_m_base_circularapertureflux_6_0_mag as vZ,vircam_y_m_base_circularapertureflux_6_0_mag as vY,\n",
    "       vircam_j_m_base_circularapertureflux_6_0_mag as J, vircam_h_m_base_circularapertureflux_6_0_mag as H,\n",
    "       vircam_ks_m_base_circularapertureflux_6_0_mag as K \n",
    "FROM video.merged \n",
    "WHERE CONTAINS(POINT('ICRS', hsc_r_m_coord_ra, hsc_r_m_coord_dec),CIRCLE('ICRS', 36, -5, 0.016666666666666666))=1\"\"\"\n",
    "results = service.search(query)\n",
    "results.to_table()"
   ]
  },
  {
   "cell_type": "markdown",
   "id": "23c47636-6bd1-4777-ac5a-072e16c7a332",
   "metadata": {},
   "source": [
    "\n",
    "Similar query but now joining with one of the other single band tables\n"
   ]
  },
  {
   "cell_type": "code",
   "execution_count": 12,
   "id": "87cab5aa-8bb8-45c3-926a-8720bd61fb3f",
   "metadata": {
    "execution": {
     "iopub.execute_input": "2023-11-20T13:25:56.007594Z",
     "iopub.status.busy": "2023-11-20T13:25:56.006616Z",
     "iopub.status.idle": "2023-11-20T13:26:22.245758Z",
     "shell.execute_reply": "2023-11-20T13:26:22.244731Z",
     "shell.execute_reply.started": "2023-11-20T13:25:56.007561Z"
    },
    "tags": []
   },
   "outputs": [
    {
     "data": {
      "text/html": [
       "<div><i>Table length=681</i>\n",
       "<table id=\"table139817689571408\" class=\"table-striped table-bordered table-condensed\">\n",
       "<thead><tr><th>ra</th><th>dec</th><th>objectId</th><th>g</th><th>r</th><th>i</th><th>z</th><th>y</th><th>vZ</th><th>vY</th><th>J</th><th>H</th><th>K</th><th>g2</th></tr></thead>\n",
       "<thead><tr><th>float64</th><th>float64</th><th>int64</th><th>float32</th><th>float32</th><th>float32</th><th>float32</th><th>float32</th><th>float32</th><th>float32</th><th>float32</th><th>float32</th><th>float32</th><th>float32</th></tr></thead>\n",
       "<tr><td>35.997668055572646</td><td>-5.012762096521284</td><td>3036811533498715972</td><td>21.1462</td><td>20.0168</td><td>19.5063</td><td>19.2597</td><td>19.0787</td><td>19.4497</td><td>19.1858</td><td>18.8189</td><td>18.4942</td><td>18.206</td><td>21.1462</td></tr>\n",
       "<tr><td>36.00644905183114</td><td>-5.014298879131164</td><td>3036811533498715942</td><td>23.5438</td><td>22.7717</td><td>22.4788</td><td>22.3809</td><td>22.1564</td><td>22.5476</td><td>22.2646</td><td>22.2332</td><td>21.9897</td><td>21.89</td><td>23.5438</td></tr>\n",
       "<tr><td>35.99621147124081</td><td>-5.013280452168841</td><td>3036811533498737963</td><td>25.3675</td><td>25.0273</td><td>24.5536</td><td>24.2729</td><td>24.1416</td><td>24.4387</td><td>24.4648</td><td>24.2061</td><td>24.2031</td><td>23.6728</td><td>25.3675</td></tr>\n",
       "<tr><td>35.99542208939584</td><td>-5.015639959094359</td><td>3036811533498737964</td><td>26.0834</td><td>25.5603</td><td>24.8588</td><td>24.603</td><td>24.3392</td><td>24.6028</td><td>24.3497</td><td>24.1385</td><td>23.8535</td><td>24.0075</td><td>26.0834</td></tr>\n",
       "<tr><td>35.99927836140051</td><td>-5.013912066268159</td><td>3036811533498737965</td><td>26.942</td><td>25.6749</td><td>24.7923</td><td>24.2022</td><td>23.4323</td><td>24.5154</td><td>23.485</td><td>22.9364</td><td>22.0742</td><td>21.5446</td><td>26.942</td></tr>\n",
       "<tr><td>36.000272497131206</td><td>-5.014486067031779</td><td>3036811533498737966</td><td>25.8131</td><td>25.4237</td><td>24.8091</td><td>24.3961</td><td>23.9021</td><td>24.46</td><td>23.9489</td><td>23.6811</td><td>23.2801</td><td>23.1479</td><td>25.8131</td></tr>\n",
       "<tr><td>35.99580306651626</td><td>-5.0128925556492785</td><td>3036811533498737967</td><td>25.5509</td><td>25.4257</td><td>25.2706</td><td>25.3032</td><td>25.9004</td><td>25.7723</td><td>25.0809</td><td>25.469</td><td>24.4855</td><td>24.3444</td><td>25.5509</td></tr>\n",
       "<tr><td>35.996265513127014</td><td>-5.01552752482956</td><td>3036811533498737968</td><td>27.0539</td><td>25.6366</td><td>25.3904</td><td>25.1492</td><td>25.1248</td><td>25.2351</td><td>25.0514</td><td>25.2712</td><td>24.5474</td><td>24.5885</td><td>27.0539</td></tr>\n",
       "<tr><td>35.99962357667754</td><td>-5.016348483138161</td><td>3036811533498737969</td><td>26.7941</td><td>25.8118</td><td>25.7111</td><td>25.7408</td><td>25.1196</td><td>25.5295</td><td>25.9734</td><td>26.2866</td><td>25.8118</td><td>24.6133</td><td>26.7941</td></tr>\n",
       "<tr><td>35.999058209233475</td><td>-5.0121949018638565</td><td>3036811533498737970</td><td>25.7616</td><td>25.5724</td><td>25.5939</td><td>25.3894</td><td>25.467</td><td>25.3866</td><td>24.995</td><td>24.8566</td><td>24.1781</td><td>23.7886</td><td>25.7616</td></tr>\n",
       "<tr><td>...</td><td>...</td><td>...</td><td>...</td><td>...</td><td>...</td><td>...</td><td>...</td><td>...</td><td>...</td><td>...</td><td>...</td><td>...</td><td>...</td></tr>\n",
       "<tr><td>36.00118190733145</td><td>-4.991793195059399</td><td>3036811533498747512</td><td>27.1283</td><td>27.0331</td><td>27.7088</td><td>26.5905</td><td>--</td><td>25.8738</td><td>26.436</td><td>25.0417</td><td>25.0447</td><td>--</td><td>27.1283</td></tr>\n",
       "<tr><td>35.99896754920302</td><td>-4.991864221356691</td><td>3036811533498747511</td><td>27.1774</td><td>27.226</td><td>27.3718</td><td>27.0077</td><td>26.5673</td><td>26.1448</td><td>26.5482</td><td>25.461</td><td>25.2992</td><td>25.2816</td><td>27.1774</td></tr>\n",
       "<tr><td>35.99122305626992</td><td>-4.991042860949699</td><td>3036811533498747516</td><td>27.425</td><td>27.821</td><td>26.9041</td><td>26.9032</td><td>25.4448</td><td>25.7881</td><td>26.2587</td><td>26.1231</td><td>25.4557</td><td>25.2411</td><td>27.425</td></tr>\n",
       "<tr><td>35.9872326188788</td><td>-4.991954986542226</td><td>3036811533498747505</td><td>27.0913</td><td>27.1274</td><td>27.4383</td><td>26.3368</td><td>26.3294</td><td>25.684</td><td>25.9769</td><td>25.5199</td><td>33.5752</td><td>25.2763</td><td>27.0913</td></tr>\n",
       "<tr><td>35.98708350011314</td><td>-4.992531235391889</td><td>3036811533498747504</td><td>26.7203</td><td>26.7397</td><td>26.6328</td><td>26.5396</td><td>--</td><td>26.134</td><td>27.1878</td><td>26.1799</td><td>25.3002</td><td>25.6128</td><td>26.7203</td></tr>\n",
       "<tr><td>36.0006374937723</td><td>-4.989032070619227</td><td>3036811533498747531</td><td>27.0835</td><td>27.003</td><td>27.4913</td><td>29.0599</td><td>27.2533</td><td>25.6901</td><td>25.9892</td><td>25.2281</td><td>25.2495</td><td>25.8853</td><td>27.0835</td></tr>\n",
       "<tr><td>36.01072608516227</td><td>-4.989086536874912</td><td>3036811533498747529</td><td>26.9327</td><td>26.8715</td><td>27.7888</td><td>27.286</td><td>--</td><td>25.694</td><td>25.3138</td><td>25.2888</td><td>25.0435</td><td>25.5358</td><td>26.9327</td></tr>\n",
       "<tr><td>35.99658496954967</td><td>-4.989336006661009</td><td>3036811533498747528</td><td>27.3948</td><td>28.1123</td><td>30.6739</td><td>27.5963</td><td>--</td><td>26.0893</td><td>25.7776</td><td>26.7235</td><td>25.3107</td><td>--</td><td>27.3948</td></tr>\n",
       "<tr><td>36.01319220228649</td><td>-4.990892904226976</td><td>3036811533498747519</td><td>26.9888</td><td>27.0907</td><td>27.7965</td><td>26.6204</td><td>25.669</td><td>25.3913</td><td>25.4163</td><td>25.2306</td><td>25.4538</td><td>25.0078</td><td>26.9888</td></tr>\n",
       "<tr><td>35.99051874780836</td><td>-4.987403265873485</td><td>3036811533498747890</td><td>28.5804</td><td>27.9155</td><td>27.2194</td><td>26.9048</td><td>25.9311</td><td>25.1967</td><td>25.6573</td><td>26.3092</td><td>26.2664</td><td>24.8915</td><td>28.5804</td></tr>\n",
       "</table></div>"
      ],
      "text/plain": [
       "<Table length=681>\n",
       "        ra                 dec               objectId      ...    K       g2  \n",
       "     float64             float64              int64        ... float32 float32\n",
       "------------------ ------------------- ------------------- ... ------- -------\n",
       "35.997668055572646  -5.012762096521284 3036811533498715972 ...  18.206 21.1462\n",
       " 36.00644905183114  -5.014298879131164 3036811533498715942 ...   21.89 23.5438\n",
       " 35.99621147124081  -5.013280452168841 3036811533498737963 ... 23.6728 25.3675\n",
       " 35.99542208939584  -5.015639959094359 3036811533498737964 ... 24.0075 26.0834\n",
       " 35.99927836140051  -5.013912066268159 3036811533498737965 ... 21.5446  26.942\n",
       "36.000272497131206  -5.014486067031779 3036811533498737966 ... 23.1479 25.8131\n",
       " 35.99580306651626 -5.0128925556492785 3036811533498737967 ... 24.3444 25.5509\n",
       "35.996265513127014   -5.01552752482956 3036811533498737968 ... 24.5885 27.0539\n",
       " 35.99962357667754  -5.016348483138161 3036811533498737969 ... 24.6133 26.7941\n",
       "35.999058209233475 -5.0121949018638565 3036811533498737970 ... 23.7886 25.7616\n",
       "               ...                 ...                 ... ...     ...     ...\n",
       " 36.00118190733145  -4.991793195059399 3036811533498747512 ...      -- 27.1283\n",
       " 35.99896754920302  -4.991864221356691 3036811533498747511 ... 25.2816 27.1774\n",
       " 35.99122305626992  -4.991042860949699 3036811533498747516 ... 25.2411  27.425\n",
       "  35.9872326188788  -4.991954986542226 3036811533498747505 ... 25.2763 27.0913\n",
       " 35.98708350011314  -4.992531235391889 3036811533498747504 ... 25.6128 26.7203\n",
       "  36.0006374937723  -4.989032070619227 3036811533498747531 ... 25.8853 27.0835\n",
       " 36.01072608516227  -4.989086536874912 3036811533498747529 ... 25.5358 26.9327\n",
       " 35.99658496954967  -4.989336006661009 3036811533498747528 ...      -- 27.3948\n",
       " 36.01319220228649  -4.990892904226976 3036811533498747519 ... 25.0078 26.9888\n",
       " 35.99051874780836  -4.987403265873485 3036811533498747890 ... 24.8915 28.5804"
      ]
     },
     "execution_count": 12,
     "metadata": {},
     "output_type": "execute_result"
    }
   ],
   "source": [
    "query = \"\"\"SELECT hsc_r_m_coord_ra as ra, hsc_r_m_coord_dec as dec,m.objectId,\n",
    "       m.hsc_g_m_base_circularapertureflux_6_0_mag as g,\n",
    "       hsc_r_m_base_circularapertureflux_6_0_mag as r,hsc_i_m_base_circularapertureflux_6_0_mag as i,\n",
    "       hsc_z_m_base_circularapertureflux_6_0_mag as z,hsc_y_m_base_circularapertureflux_6_0_mag as y,\n",
    "       vircam_z_m_base_circularapertureflux_6_0_mag as vZ,vircam_y_m_base_circularapertureflux_6_0_mag as vY,\n",
    "       vircam_j_m_base_circularapertureflux_6_0_mag as J, vircam_h_m_base_circularapertureflux_6_0_mag as H,\n",
    "       vircam_ks_m_base_circularapertureflux_6_0_mag as K,\n",
    "       g.hsc_g_m_base_circularapertureflux_6_0_mag as g2\n",
    "FROM video.merged as m join video.hsc_g_m as g on m.objectId=g.objectId\n",
    "WHERE CONTAINS(POINT('ICRS', hsc_r_m_coord_ra, hsc_r_m_coord_dec),CIRCLE('ICRS', 36, -5, 0.016666666666666666))=1\"\"\"\n",
    "results = service.search(query)\n",
    "results.to_table()"
   ]
  },
  {
   "cell_type": "code",
   "execution_count": 13,
   "id": "fadc0a1d-a417-4867-ad76-22ebef28d96c",
   "metadata": {
    "execution": {
     "iopub.execute_input": "2023-11-20T13:26:28.274169Z",
     "iopub.status.busy": "2023-11-20T13:26:28.273831Z",
     "iopub.status.idle": "2023-11-20T13:26:28.282572Z",
     "shell.execute_reply": "2023-11-20T13:26:28.281580Z",
     "shell.execute_reply.started": "2023-11-20T13:26:28.274142Z"
    },
    "tags": []
   },
   "outputs": [
    {
     "name": "stdout",
     "output_type": "stream",
     "text": [
      "<class 'pyvo.dal.tap.TAPResults'>\n",
      "<class 'astropy.table.table.Table'>\n"
     ]
    }
   ],
   "source": [
    "print(type(results))\n",
    "table=results.to_table()\n",
    "print(type(table))"
   ]
  },
  {
   "cell_type": "markdown",
   "id": "b99ad2e0-57af-4e2a-9a2e-4aab78edb63a",
   "metadata": {},
   "source": [
    "Below we obtain a sample of objectIds and then use those in a set of queries"
   ]
  },
  {
   "cell_type": "code",
   "execution_count": 6,
   "id": "6a375d66-5909-4a15-a645-13df08af9434",
   "metadata": {
    "execution": {
     "iopub.execute_input": "2023-11-20T13:59:22.337392Z",
     "iopub.status.busy": "2023-11-20T13:59:22.336682Z",
     "iopub.status.idle": "2023-11-20T13:59:49.064440Z",
     "shell.execute_reply": "2023-11-20T13:59:49.063486Z",
     "shell.execute_reply.started": "2023-11-20T13:59:22.337361Z"
    },
    "tags": []
   },
   "outputs": [
    {
     "name": "stdout",
     "output_type": "stream",
     "text": [
      "      objectId     \n",
      "-------------------\n",
      "3036327748382490625\n",
      "3036327748382490626\n",
      "3036327748382490627\n",
      "3036327748382490628\n",
      "3036327748382490629\n",
      "3036327748382490630\n",
      "3036327748382490631\n",
      "3036327748382490632\n",
      "3036327748382490633\n",
      "3036327748382490634\n",
      "                ...\n",
      "3036327748382511553\n",
      "3036327748382511554\n",
      "3036327748382511555\n",
      "3036327748382511556\n",
      "3036327748382511557\n",
      "3036327748382511558\n",
      "3036327748382511559\n",
      "3036327748382511560\n",
      "3036327748382511561\n",
      "3036327748382511562\n",
      "3036327748382511563\n",
      "Length = 10000 rows\n"
     ]
    }
   ],
   "source": [
    "query=\"select objectId from video.merged order by objectId limit 10000\"\n",
    "results = service.search(query)\n",
    "objIdTable = results.to_table()\n",
    "print(objIdTable)"
   ]
  },
  {
   "cell_type": "code",
   "execution_count": 7,
   "id": "dfd4d5af-7ed0-45fe-8051-e34eb7e2a0d9",
   "metadata": {
    "execution": {
     "iopub.execute_input": "2023-11-20T13:59:53.309048Z",
     "iopub.status.busy": "2023-11-20T13:59:53.307851Z",
     "iopub.status.idle": "2023-11-20T13:59:53.357428Z",
     "shell.execute_reply": "2023-11-20T13:59:53.356489Z",
     "shell.execute_reply.started": "2023-11-20T13:59:53.309014Z"
    },
    "tags": []
   },
   "outputs": [
    {
     "name": "stdout",
     "output_type": "stream",
     "text": [
      "3036327748382490625 3036327748382511563 3036327748382490625\n",
      "10000\n"
     ]
    }
   ],
   "source": [
    "objectIds=objIdTable['objectId'].data\n",
    "print(objectIds[0],max(objectIds),min(objectIds))\n",
    "print(len(objectIds))"
   ]
  },
  {
   "cell_type": "markdown",
   "id": "051881b6-4b00-4c5f-8614-42193c2b8ce9",
   "metadata": {},
   "source": [
    "loop through the objectIds in batches and then submit queries of the form\n",
    "... where objectId in (.,.,.,)\n",
    "and pull out the info from another table"
   ]
  },
  {
   "cell_type": "code",
   "execution_count": 9,
   "id": "e2312fa5-d7a6-4a49-a8bf-b578b0f10905",
   "metadata": {
    "execution": {
     "iopub.execute_input": "2023-11-20T14:00:59.560690Z",
     "iopub.status.busy": "2023-11-20T14:00:59.560304Z",
     "iopub.status.idle": "2023-11-20T14:06:26.742567Z",
     "shell.execute_reply": "2023-11-20T14:06:26.741304Z",
     "shell.execute_reply.started": "2023-11-20T14:00:59.560644Z"
    },
    "tags": []
   },
   "outputs": [
    {
     "name": "stdout",
     "output_type": "stream",
     "text": [
      "0 1000 2023-11-20 14:00:59.564880\n",
      "1 1000 2023-11-20 14:01:44.514594\n",
      "2 1000 2023-11-20 14:02:09.590983\n",
      "3 1000 2023-11-20 14:02:45.059237\n",
      "4 1000 2023-11-20 14:03:35.725699\n",
      "5 1000 2023-11-20 14:03:50.721035\n",
      "6 1000 2023-11-20 14:04:15.670907\n",
      "7 1000 2023-11-20 14:05:10.694693\n",
      "8 1000 2023-11-20 14:05:41.335129\n",
      "9 1000 2023-11-20 14:05:56.907277\n",
      "10000\n"
     ]
    }
   ],
   "source": [
    "import numpy\n",
    "chunks = numpy.array_split(numpy.array(objectIds),10)\n",
    "import datetime\n",
    "i=0\n",
    "from astropy.table import QTable, Table, Column, vstack\n",
    "fullResults=Table()\n",
    "for chunk in chunks:\n",
    "    print(i,len(chunk),datetime.datetime.now())\n",
    "    \n",
    "    inClause=','.join(str(objId) for objId in chunk) #numpy.array2string(chunk, separator=\",\")\n",
    "    #print(inClause)\n",
    "    query=\"select * from video.vir_k_f where objectId in (\"+inClause+\")\"\n",
    "    #print(query)\n",
    "    results = service.search(query)\n",
    "    table = results.to_table()\n",
    "    if i==0:\n",
    "        fullResults=table\n",
    "    else:\n",
    "        fullResults=(vstack([fullResults, table]))\n",
    "    #print(table)\n",
    "    i+=1\n",
    "print(len(fullResults))"
   ]
  },
  {
   "cell_type": "code",
   "execution_count": 10,
   "id": "84c55ebf-3a46-4db0-89df-fc91f043a758",
   "metadata": {
    "execution": {
     "iopub.execute_input": "2023-11-20T14:08:53.082872Z",
     "iopub.status.busy": "2023-11-20T14:08:53.081593Z",
     "iopub.status.idle": "2023-11-20T14:08:53.356697Z",
     "shell.execute_reply": "2023-11-20T14:08:53.355940Z",
     "shell.execute_reply.started": "2023-11-20T14:08:53.082837Z"
    },
    "tags": []
   },
   "outputs": [
    {
     "name": "stdout",
     "output_type": "stream",
     "text": [
      "chunkId       objectId      ... vir_k_f_slot_shape_xy vir_k_f_slot_shape_yy\n",
      "------- ------------------- ... --------------------- ---------------------\n",
      "  30274 3036327748382490625 ...              0.534636               9.10167\n",
      "  30274 3036327748382490626 ...             -0.713247               5.47227\n",
      "  30274 3036327748382490627 ...             -0.147149                2.2759\n",
      "  30274 3036327748382490628 ...             -0.516365               1.96049\n",
      "  30274 3036327748382490629 ...              0.170879               3.35284\n",
      "  30274 3036327748382490630 ...               3.24481               7.86276\n",
      "  30274 3036327748382490631 ...               0.13163               3.79302\n",
      "  30274 3036327748382490632 ...              0.139035               3.84471\n",
      "  30274 3036327748382490633 ...                  1.89               5.68733\n",
      "  30274 3036327748382490634 ...              -1.91697                4.9075\n",
      "    ...                 ... ...                   ...                   ...\n",
      "  30274 3036327748382511553 ...                    --                    --\n",
      "  30274 3036327748382511554 ...                    --                    --\n",
      "  30274 3036327748382511555 ...               2.45591               6.72314\n",
      "  30274 3036327748382511556 ...              -1.06568               3.35609\n",
      "  30274 3036327748382511557 ...                    --                    --\n",
      "  30274 3036327748382511558 ...             -0.280326               5.21552\n",
      "  30274 3036327748382511559 ...             -0.230749               4.82882\n",
      "  30274 3036327748382511560 ...             -0.231278               3.30855\n",
      "  30274 3036327748382511561 ...               0.94089               11.4258\n",
      "  30274 3036327748382511562 ...                    --                    --\n",
      "  30274 3036327748382511563 ...                    --                    --\n",
      "Length = 10000 rows\n"
     ]
    }
   ],
   "source": [
    "print(fullResults)"
   ]
  },
  {
   "cell_type": "markdown",
   "id": "12a41903-f251-4f4f-9661-4a03bbad1973",
   "metadata": {
    "execution": {
     "iopub.execute_input": "2023-11-20T14:12:10.020339Z",
     "iopub.status.busy": "2023-11-20T14:12:10.019982Z",
     "iopub.status.idle": "2023-11-20T14:12:10.027233Z",
     "shell.execute_reply": "2023-11-20T14:12:10.025829Z",
     "shell.execute_reply.started": "2023-11-20T14:12:10.020313Z"
    }
   },
   "source": [
    "cleanup ?"
   ]
  },
  {
   "cell_type": "code",
   "execution_count": 11,
   "id": "8beb53f7-c6cb-407c-ba56-ca31dd83944e",
   "metadata": {
    "execution": {
     "iopub.execute_input": "2023-11-20T14:09:12.100305Z",
     "iopub.status.busy": "2023-11-20T14:09:12.099308Z",
     "iopub.status.idle": "2023-11-20T14:09:12.301462Z",
     "shell.execute_reply": "2023-11-20T14:09:12.300560Z",
     "shell.execute_reply.started": "2023-11-20T14:09:12.100274Z"
    },
    "tags": []
   },
   "outputs": [
    {
     "data": {
      "text/plain": [
       "5700"
      ]
     },
     "execution_count": 11,
     "metadata": {},
     "output_type": "execute_result"
    }
   ],
   "source": [
    "fullResults=None\n",
    "del fullResults\n",
    "import gc\n",
    "gc.collect()"
   ]
  },
  {
   "cell_type": "code",
   "execution_count": null,
   "id": "7d41b6e9-79d7-40b2-98f7-224f4e2a2d79",
   "metadata": {},
   "outputs": [],
   "source": []
  }
 ],
 "metadata": {
  "kernelspec": {
   "display_name": "LSST",
   "language": "python",
   "name": "lsst"
  },
  "language_info": {
   "codemirror_mode": {
    "name": "ipython",
    "version": 3
   },
   "file_extension": ".py",
   "mimetype": "text/x-python",
   "name": "python",
   "nbconvert_exporter": "python",
   "pygments_lexer": "ipython3",
   "version": "3.11.4"
  }
 },
 "nbformat": 4,
 "nbformat_minor": 5
}
