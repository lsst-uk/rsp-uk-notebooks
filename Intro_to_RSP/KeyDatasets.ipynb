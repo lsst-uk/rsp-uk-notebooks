{
 "cells": [
  {
   "cell_type": "markdown",
   "id": "b22c782a-e596-4827-8e92-e713365958ea",
   "metadata": {},
   "source": [
    "# Key Datasets...\n",
    "## ...and how to retrieve them."
   ]
  },
  {
   "cell_type": "code",
   "execution_count": 1,
   "id": "209c4f71-f460-47b7-b7e7-d51759ae8742",
   "metadata": {
    "execution": {
     "iopub.execute_input": "2024-01-11T23:08:56.840320Z",
     "iopub.status.busy": "2024-01-11T23:08:56.839940Z",
     "iopub.status.idle": "2024-01-11T23:08:59.085804Z",
     "shell.execute_reply": "2024-01-11T23:08:59.085221Z",
     "shell.execute_reply.started": "2024-01-11T23:08:56.840296Z"
    }
   },
   "outputs": [],
   "source": [
    "import lsst.daf.butler as dafButler\n",
    "butler = dafButler.Butler('dp02', collections='2.2i/runs/DP0.2')\n",
    "registry = butler.registry"
   ]
  },
  {
   "cell_type": "markdown",
   "id": "bd1a5f50-3bd2-4af7-b5b9-75ef1a02b48a",
   "metadata": {},
   "source": [
    "## Image Datasets:"
   ]
  },
  {
   "cell_type": "markdown",
   "id": "346d741c-c1e4-4180-bd11-120ba1c680c3",
   "metadata": {},
   "source": [
    "### A raw science exposure (`raw`):"
   ]
  },
  {
   "cell_type": "code",
   "execution_count": 2,
   "id": "6fd9035d-cc45-45de-b28d-da69faad39b3",
   "metadata": {
    "execution": {
     "iopub.execute_input": "2024-01-11T23:08:59.088721Z",
     "iopub.status.busy": "2024-01-11T23:08:59.088307Z",
     "iopub.status.idle": "2024-01-11T23:09:12.862281Z",
     "shell.execute_reply": "2024-01-11T23:09:12.861601Z",
     "shell.execute_reply.started": "2024-01-11T23:08:59.088697Z"
    }
   },
   "outputs": [
    {
     "name": "stdout",
     "output_type": "stream",
     "text": [
      "dict_keys(['instrument', 'detector', 'exposure'])\n"
     ]
    },
    {
     "data": {
      "text/plain": [
       "<lsst.afw.image._exposure.ExposureF at 0x7a1f416a84f0>"
      ]
     },
     "execution_count": 2,
     "metadata": {},
     "output_type": "execute_result"
    }
   ],
   "source": [
    "dType = registry.getDatasetType('raw')\n",
    "print(dType.dimensions.required.names)\n",
    "\n",
    "dataId = {'instrument':'LSSTCam-imSim', 'detector':1, 'exposure':1472}\n",
    "data = butler.get('raw', dataId=dataId)\n",
    "data"
   ]
  },
  {
   "cell_type": "markdown",
   "id": "0afc4b48-c815-4f9c-968c-6452a1e059b8",
   "metadata": {},
   "source": [
    "### A bias, flat, dark-corrected, uncalibrated exposire (`postISRCCD`)"
   ]
  },
  {
   "cell_type": "code",
   "execution_count": 3,
   "id": "b050c463-8221-4b15-b28e-269ac45f2c62",
   "metadata": {
    "execution": {
     "iopub.execute_input": "2024-01-11T23:09:12.863300Z",
     "iopub.status.busy": "2024-01-11T23:09:12.863078Z",
     "iopub.status.idle": "2024-01-11T23:09:14.955393Z",
     "shell.execute_reply": "2024-01-11T23:09:14.954705Z",
     "shell.execute_reply.started": "2024-01-11T23:09:12.863274Z"
    }
   },
   "outputs": [
    {
     "name": "stdout",
     "output_type": "stream",
     "text": [
      "dict_keys(['instrument', 'detector', 'exposure'])\n"
     ]
    },
    {
     "data": {
      "text/plain": [
       "<lsst.afw.image._exposure.ExposureF at 0x7a1f44790030>"
      ]
     },
     "execution_count": 3,
     "metadata": {},
     "output_type": "execute_result"
    }
   ],
   "source": [
    "dType = registry.getDatasetType('postISRCCD')\n",
    "print(dType.dimensions.required.names)\n",
    "\n",
    "dataId = {'instrument':'LSSTCam-imSim', 'detector':1, 'visit':479540}\n",
    "data = butler.get('calexp', dataId=dataId)\n",
    "data"
   ]
  },
  {
   "cell_type": "markdown",
   "id": "bad7078b-adaa-45ad-8d24-c9b5b406a932",
   "metadata": {},
   "source": [
    "### A calibrated science exposure (`calexp`):"
   ]
  },
  {
   "cell_type": "code",
   "execution_count": 4,
   "id": "054a5fff-37ed-4bec-b141-280f238ede3c",
   "metadata": {
    "execution": {
     "iopub.execute_input": "2024-01-11T23:09:14.956598Z",
     "iopub.status.busy": "2024-01-11T23:09:14.956360Z",
     "iopub.status.idle": "2024-01-11T23:09:16.134501Z",
     "shell.execute_reply": "2024-01-11T23:09:16.133897Z",
     "shell.execute_reply.started": "2024-01-11T23:09:14.956578Z"
    }
   },
   "outputs": [
    {
     "name": "stdout",
     "output_type": "stream",
     "text": [
      "dict_keys(['instrument', 'detector', 'visit'])\n"
     ]
    },
    {
     "data": {
      "text/plain": [
       "<lsst.afw.image._exposure.ExposureF at 0x7a1f5454be70>"
      ]
     },
     "execution_count": 4,
     "metadata": {},
     "output_type": "execute_result"
    }
   ],
   "source": [
    "dType = registry.getDatasetType('calexp')\n",
    "print(dType.dimensions.required.names)\n",
    "\n",
    "dataId = {'instrument':'LSSTCam-imSim', 'detector':1, 'visit':479540}\n",
    "data = butler.get('calexp', dataId=dataId)\n",
    "data"
   ]
  },
  {
   "cell_type": "markdown",
   "id": "95f9d615-0754-4e67-bac1-211286ff0113",
   "metadata": {},
   "source": [
    "### A sky background model (`calexpBackground`):"
   ]
  },
  {
   "cell_type": "code",
   "execution_count": 5,
   "id": "3ff912e3-563c-4bae-978e-af1365378d59",
   "metadata": {
    "execution": {
     "iopub.execute_input": "2024-01-11T23:09:16.135534Z",
     "iopub.status.busy": "2024-01-11T23:09:16.135330Z",
     "iopub.status.idle": "2024-01-11T23:09:16.958588Z",
     "shell.execute_reply": "2024-01-11T23:09:16.957852Z",
     "shell.execute_reply.started": "2024-01-11T23:09:16.135517Z"
    }
   },
   "outputs": [
    {
     "name": "stdout",
     "output_type": "stream",
     "text": [
      "dict_keys(['instrument', 'detector', 'visit'])\n"
     ]
    },
    {
     "data": {
      "text/plain": [
       "lsst.afw.image._image.ImageF=[[3153.3647 3153.3643 3153.3638 ... 3151.9758 3151.9756 3151.9756]\n",
       " [3153.3638 3153.3635 3153.363  ... 3151.9749 3151.9746 3151.9744]\n",
       " [3153.363  3153.3625 3153.362  ... 3151.974  3151.9739 3151.9736]\n",
       " ...\n",
       " [3149.9875 3149.987  3149.9868 ... 3148.5986 3148.5984 3148.598 ]\n",
       " [3149.9866 3149.9863 3149.986  ... 3148.5977 3148.5974 3148.5972]\n",
       " [3149.9858 3149.9854 3149.985  ... 3148.5972 3148.5967 3148.5964]], bbox=(minimum=(0, 0), maximum=(4071, 3999))"
      ]
     },
     "execution_count": 5,
     "metadata": {},
     "output_type": "execute_result"
    }
   ],
   "source": [
    "dType = registry.getDatasetType('calexpBackground')\n",
    "print(dType.dimensions.required.names)\n",
    "\n",
    "dataId = {'instrument':'LSSTCam-imSim', 'detector':1, 'visit':479540}\n",
    "data = butler.get('calexpBackground', dataId=dataId)\n",
    "#What's returned are model parameters, but these can be turned into an image:\n",
    "data.getImage()"
   ]
  },
  {
   "cell_type": "markdown",
   "id": "aac335fb-5ff2-4816-a90d-ba4a314198f6",
   "metadata": {},
   "source": [
    "### A calibrated coadded image (`deepCoadd_calexp`):"
   ]
  },
  {
   "cell_type": "code",
   "execution_count": 6,
   "id": "2ea245c6-8d8a-4a34-a1ec-4de4b5a668d3",
   "metadata": {
    "execution": {
     "iopub.execute_input": "2024-01-11T23:09:16.959683Z",
     "iopub.status.busy": "2024-01-11T23:09:16.959457Z",
     "iopub.status.idle": "2024-01-11T23:09:19.938846Z",
     "shell.execute_reply": "2024-01-11T23:09:19.938213Z",
     "shell.execute_reply.started": "2024-01-11T23:09:16.959665Z"
    }
   },
   "outputs": [
    {
     "name": "stdout",
     "output_type": "stream",
     "text": [
      "dict_keys(['band', 'skymap', 'tract', 'patch'])\n"
     ]
    },
    {
     "data": {
      "text/plain": [
       "<lsst.afw.image._exposure.ExposureF at 0x7a1f41407df0>"
      ]
     },
     "execution_count": 6,
     "metadata": {},
     "output_type": "execute_result"
    }
   ],
   "source": [
    "dType = registry.getDatasetType('deepCoadd_calexp')\n",
    "print(dType.dimensions.required.names)\n",
    "\n",
    "dataId = {'tract':4028, 'patch':27, 'band':'i'}\n",
    "data = butler.get('deepCoadd_calexp', dataId=dataId)\n",
    "data"
   ]
  },
  {
   "cell_type": "markdown",
   "id": "dc9566ad-b4c3-4d07-aeaa-ddab64431aca",
   "metadata": {},
   "source": [
    "### A difference image (`goodSeeingDiff_differenceExp`)"
   ]
  },
  {
   "cell_type": "code",
   "execution_count": 7,
   "id": "ff5e81a1-f7a7-42ca-9e95-3bea9e07df82",
   "metadata": {
    "execution": {
     "iopub.execute_input": "2024-01-11T23:09:19.939953Z",
     "iopub.status.busy": "2024-01-11T23:09:19.939730Z",
     "iopub.status.idle": "2024-01-11T23:09:22.100667Z",
     "shell.execute_reply": "2024-01-11T23:09:22.100096Z",
     "shell.execute_reply.started": "2024-01-11T23:09:19.939936Z"
    }
   },
   "outputs": [
    {
     "name": "stdout",
     "output_type": "stream",
     "text": [
      "dict_keys(['instrument', 'detector', 'visit'])\n"
     ]
    },
    {
     "data": {
      "text/plain": [
       "<lsst.afw.image._exposure.ExposureF at 0x7a1f4cf67470>"
      ]
     },
     "execution_count": 7,
     "metadata": {},
     "output_type": "execute_result"
    }
   ],
   "source": [
    "dType = registry.getDatasetType('goodSeeingDiff_differenceExp')\n",
    "print(dType.dimensions.required.names)\n",
    "\n",
    "dataId = {'instrument':'LSSTCam-imSim', 'detector':1, 'visit':479540}\n",
    "data = butler.get('goodSeeingDiff_differenceExp', dataId=dataId)\n",
    "data"
   ]
  },
  {
   "cell_type": "markdown",
   "id": "1f915c71-05e9-4d22-a1f0-9927d378800b",
   "metadata": {},
   "source": [
    "## Table Datasets:"
   ]
  },
  {
   "cell_type": "markdown",
   "id": "9d0424c4-a57b-48cc-9802-cbdf40d719ff",
   "metadata": {},
   "source": [
    "### Source table from all detectors in a single visit (`sourceTable_visit`) "
   ]
  },
  {
   "cell_type": "code",
   "execution_count": 8,
   "id": "09102c1b-17d2-4518-be8b-794eee4e6bab",
   "metadata": {
    "execution": {
     "iopub.execute_input": "2024-01-11T23:09:22.101856Z",
     "iopub.status.busy": "2024-01-11T23:09:22.101457Z",
     "iopub.status.idle": "2024-01-11T23:09:24.384247Z",
     "shell.execute_reply": "2024-01-11T23:09:24.383639Z",
     "shell.execute_reply.started": "2024-01-11T23:09:22.101837Z"
    }
   },
   "outputs": [
    {
     "name": "stdout",
     "output_type": "stream",
     "text": [
      "dict_keys(['instrument', 'visit'])\n",
      "Table contains 408401 sources\n"
     ]
    }
   ],
   "source": [
    "dType = registry.getDatasetType('sourceTable_visit')\n",
    "print(dType.dimensions.required.names)\n",
    "\n",
    "dataId = {'instrument':'LSSTCam-imSim', 'visit':479540}\n",
    "data = butler.get('sourceTable_visit', dataId=dataId)\n",
    "print(\"Table contains {} sources\".format(len(data)))"
   ]
  },
  {
   "cell_type": "markdown",
   "id": "348c63e0-8d3f-46f3-ac89-3f4be0067603",
   "metadata": {},
   "source": [
    "### Object table for a single patch (`objectTable`):"
   ]
  },
  {
   "cell_type": "code",
   "execution_count": 9,
   "id": "747a0cdb-47fc-458c-b090-6ebaa32469b9",
   "metadata": {
    "execution": {
     "iopub.execute_input": "2024-01-11T23:09:24.385535Z",
     "iopub.status.busy": "2024-01-11T23:09:24.385100Z",
     "iopub.status.idle": "2024-01-11T23:09:26.216411Z",
     "shell.execute_reply": "2024-01-11T23:09:26.215712Z",
     "shell.execute_reply.started": "2024-01-11T23:09:24.385515Z"
    }
   },
   "outputs": [
    {
     "name": "stdout",
     "output_type": "stream",
     "text": [
      "dict_keys(['skymap', 'tract', 'patch'])\n",
      "Table contains 34888 sources\n"
     ]
    }
   ],
   "source": [
    "dType = registry.getDatasetType('objectTable')\n",
    "print(dType.dimensions.required.names)\n",
    "\n",
    "dataId = {'tract':4028, 'patch':27, 'band':'i'}\n",
    "data = butler.get('objectTable', dataId=dataId)\n",
    "print(\"Table contains {} sources\".format(len(data)))"
   ]
  },
  {
   "cell_type": "markdown",
   "id": "cb989a5c-cf1b-42ee-9d57-5e72fcf20a89",
   "metadata": {},
   "source": [
    "### Object table for a single tract (`objectTable_tract`)\n",
    "**Note:** A typical whole-tract objectTable will contain many, many rows and its retrieval will often cause a time-out in a notebook. It's here mostly for completeness."
   ]
  },
  {
   "cell_type": "code",
   "execution_count": null,
   "id": "9f4309aa-06a7-40fe-b1e4-cc72b625cb1c",
   "metadata": {
    "execution": {
     "iopub.execute_input": "2024-01-11T23:09:26.217414Z",
     "iopub.status.busy": "2024-01-11T23:09:26.217211Z"
    }
   },
   "outputs": [
    {
     "name": "stdout",
     "output_type": "stream",
     "text": [
      "dict_keys(['skymap', 'tract'])\n"
     ]
    }
   ],
   "source": [
    "dType = registry.getDatasetType('objectTable_tract')\n",
    "print(dType.dimensions.required.names)\n",
    "\n",
    "dataId = {'tract':4028}\n",
    "data = butler.get('objectTable_tract', dataId=dataId)\n",
    "print(\"Table contains {} sources\".format(len(data)))"
   ]
  },
  {
   "cell_type": "markdown",
   "id": "d1d740fc-ea07-4398-a99f-d2cbdbc6a9c6",
   "metadata": {},
   "source": [
    "### Detected sources in a difference image (`diaSourceTable`) "
   ]
  },
  {
   "cell_type": "code",
   "execution_count": null,
   "id": "ef61c568-f60c-40f6-ae00-36f41bb42328",
   "metadata": {},
   "outputs": [],
   "source": [
    "dType = registry.getDatasetType('diaSourceTable')\n",
    "print(dType.dimensions.required.names)\n",
    "\n",
    "dataId = {'visit':479540}\n",
    "data = butler.get('diaSourceTable', dataId=dataId)\n",
    "print(\"Table contains {} sources\".format(len(data)))"
   ]
  },
  {
   "cell_type": "markdown",
   "id": "912d632c-a33e-4b2d-ac8c-41e7dd444769",
   "metadata": {},
   "source": [
    "### Forced photometry for objects in a calexp (`forced_src`):"
   ]
  },
  {
   "cell_type": "code",
   "execution_count": null,
   "id": "4fa0c6f2-6b11-4f0d-b2c8-5c78abd74c76",
   "metadata": {},
   "outputs": [],
   "source": [
    "dType = registry.getDatasetType('forced_src')\n",
    "print(dType.dimensions.required.names)\n",
    "\n",
    "dataId = {'visit':479540}\n",
    "#data = butler.get('forced_src', dataId=dataId)\n",
    "#print(\"Table contains {} sources\".format(len(data)))"
   ]
  },
  {
   "cell_type": "markdown",
   "id": "af4d5f26-2901-4ffd-a812-7a29e41a2413",
   "metadata": {},
   "source": [
    "### A table summarising the properties of a visit (`visitSummary`)\n",
    "\n",
    "By \"properties\" I mean things like zeropoint, PSF dimensions, (ra,dec) of centre."
   ]
  },
  {
   "cell_type": "code",
   "execution_count": null,
   "id": "86b2e679-3872-4ecb-85a9-cfa26b44d168",
   "metadata": {},
   "outputs": [],
   "source": [
    "dType = registry.getDatasetType('visitSummary')\n",
    "print(dType.dimensions.required.names)\n",
    "\n",
    "dataId = {'instrument':'LSSTCam-imSim', 'visit':479540}\n",
    "data = butler.get('visitSummary', dataId=dataId)\n",
    "print(\"Table contains {} sources\".format(len(data)))"
   ]
  }
 ],
 "metadata": {
  "kernelspec": {
   "display_name": "LSST",
   "language": "python",
   "name": "lsst"
  },
  "language_info": {
   "codemirror_mode": {
    "name": "ipython",
    "version": 3
   },
   "file_extension": ".py",
   "mimetype": "text/x-python",
   "name": "python",
   "nbconvert_exporter": "python",
   "pygments_lexer": "ipython3",
   "version": "3.11.7"
  }
 },
 "nbformat": 4,
 "nbformat_minor": 5
}
