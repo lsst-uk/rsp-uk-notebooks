{
 "cells": [
  {
   "cell_type": "markdown",
   "id": "a0b2b80e-9696-44db-9e7e-3024ca40720e",
   "metadata": {},
   "source": [
    "# Retrieving Table Data"
   ]
  },
  {
   "cell_type": "markdown",
   "id": "9c02356f-e962-4618-a60b-07e010694f87",
   "metadata": {
    "jp-MarkdownHeadingCollapsed": true
   },
   "source": [
    "## Aside: Introduction"
   ]
  },
  {
   "cell_type": "markdown",
   "id": "0fdb63ee-9fd8-42ec-9f12-807c9e15abe5",
   "metadata": {},
   "source": [
    "**Note:** These **Asides** are scattered throughout the Intro to RSP notebooks. They're roughly what I'd say while presenting, but hide them during the sessions so people don't feel like they need to read them.\n",
    "\n",
    "The end products of the LSST Science Pipeline are a series of measurements for each detected source in the survey. These measurements are collated within a series of tables, which can be queried using the Astronomical Data Query Language (ADQL). ADQL is based on the Structured Query Language (SQL), which is used widely across many areas (academia, business, IT,...). If you've used the SDSS CasJobs, then you'll have probably written some SQL queries, and you may have written ADQL queries if you've searched the GAIA data archive. Other astronomical surveys, such as PanSTARRS and ZTF are also queryable using ADQL/SQL, so you may be familiar with ADQL/SQL from querying them.\n",
    "\n",
    "With SDSS CasJobs (and possibly the others mentioned above - I'm less familiar with them), one had to write an SQL query which was then executed on the data servers, but then one had to download the resulting tables to your local machine to perform one's analysis. This worked really well if you could write an SQL query that pretty much delivered your final sample. It worked less well if, say, your local analysis identified an interesting subsample which you then wanted to get more information on. This last step would require you to upload your subsample to the server and do another SQL query that referred to that subsample.\n",
    "\n",
    "The RSP, by contrast, allows one to do all one's analysis on the data servers. This avoids ever having to download-then-reupload samples, as everything remains on the servers. It also means one needs to be less of an ADQL/SQL wizard to hone-in on your final sample; while you *can* do more advanced queries that do things like JOINing multiple tables, there is less of a need to do so since you can just query one table, get the results, then pass those to a second query that interrogates a different table. While the latter method may be less efficient and somewhat less elegant, I expect people who are new to ADQL/SQL will find it more approachable.\n",
    "\n",
    "**In this first \"Intro the RSP\" session** we'll look at how one can find out what tables are available to query, then go on to do some basic queries. By the end of this session, we'll have retrieved a lightcurve for an object whose sky coordinates we knew in advance.\n",
    "\n",
    "**Note:** Most of what's here is a re-writing of what's available in the DP0 Tutorials, notably Tutorial Notebooks 01 and 07b."
   ]
  },
  {
   "cell_type": "markdown",
   "id": "c9cb74af-78fb-41e6-beed-2edde5f6f02d",
   "metadata": {},
   "source": [
    "## As per usual, start with importing the required modules..."
   ]
  },
  {
   "cell_type": "code",
   "execution_count": 1,
   "id": "128079a6-b6f4-4451-9871-3a20202f93e6",
   "metadata": {
    "execution": {
     "iopub.execute_input": "2024-01-05T16:50:04.406351Z",
     "iopub.status.busy": "2024-01-05T16:50:04.406159Z",
     "iopub.status.idle": "2024-01-05T16:50:05.197376Z",
     "shell.execute_reply": "2024-01-05T16:50:05.196469Z",
     "shell.execute_reply.started": "2024-01-05T16:50:04.406324Z"
    }
   },
   "outputs": [],
   "source": [
    "from lsst.rsp import get_tap_service, retrieve_query\n",
    "\n",
    "import pandas as pd #This is only so I can set the maximum column width.\n",
    "import numpy as np\n",
    "import matplotlib.pyplot as plt"
   ]
  },
  {
   "cell_type": "code",
   "execution_count": 2,
   "id": "dc56b349-e052-4d81-a582-0fb857c573e2",
   "metadata": {
    "execution": {
     "iopub.execute_input": "2024-01-05T16:50:05.200757Z",
     "iopub.status.busy": "2024-01-05T16:50:05.200510Z",
     "iopub.status.idle": "2024-01-05T16:50:05.204174Z",
     "shell.execute_reply": "2024-01-05T16:50:05.203557Z",
     "shell.execute_reply.started": "2024-01-05T16:50:05.200735Z"
    }
   },
   "outputs": [],
   "source": [
    "# Set the maximum column width when displaying pandas tables. The default is too narrow for the table descriptions.\n",
    "pd.set_option('max_colwidth', 400)"
   ]
  },
  {
   "cell_type": "markdown",
   "id": "b7bbf376-d889-489f-8f00-8cffa22e8d94",
   "metadata": {
    "jp-MarkdownHeadingCollapsed": true
   },
   "source": [
    "## Aside: The Table Access Protocol"
   ]
  },
  {
   "cell_type": "markdown",
   "id": "4a038e7b-ba66-4a6f-8a95-137759312f13",
   "metadata": {},
   "source": [
    "The RSP database is accessed using the Table Access Protocol, which is a service for accessing general table data. The TAP standards are defined by the International Virtual Observatory Alliance (i.e., it's broader in scope than \"just\" the RSP).\n",
    "\n",
    "In the notebook form of the RSP (i.e., what we're using here), the TAP service is started using `get_tap_service(\"tap\")`."
   ]
  },
  {
   "cell_type": "markdown",
   "id": "a6d29189-64fc-404a-a82e-634d4ba1dead",
   "metadata": {},
   "source": [
    "# Exporing what's available via the TAP"
   ]
  },
  {
   "cell_type": "markdown",
   "id": "51da5afb-1e49-440c-9089-c139719ad0ef",
   "metadata": {},
   "source": [
    "## Start the TAP service"
   ]
  },
  {
   "cell_type": "code",
   "execution_count": 3,
   "id": "5008f234-a403-44e3-a843-86e2a38df0da",
   "metadata": {
    "execution": {
     "iopub.execute_input": "2024-01-05T16:50:05.205174Z",
     "iopub.status.busy": "2024-01-05T16:50:05.204958Z",
     "iopub.status.idle": "2024-01-05T16:50:05.282199Z",
     "shell.execute_reply": "2024-01-05T16:50:05.281336Z",
     "shell.execute_reply.started": "2024-01-05T16:50:05.205156Z"
    }
   },
   "outputs": [],
   "source": [
    "service = get_tap_service(\"tap\")"
   ]
  },
  {
   "cell_type": "markdown",
   "id": "cf2d32dc-cd49-4bb6-8e9e-59a74632d4f2",
   "metadata": {
    "jp-MarkdownHeadingCollapsed": true
   },
   "source": [
    "## Aside: A note about databases"
   ]
  },
  {
   "cell_type": "markdown",
   "id": "98045b6f-ba14-4aaa-9092-0c70f870fe77",
   "metadata": {},
   "source": [
    "Many people who are new to SQL databases often think of them as giant spreadsheets, with each item represented by a row across multiple columns, with each column containing a property of that item. However, while there are some similarities, databases usually contain _multiple_ tables that can be queried separately or joined together and queried if data from multiple tables need to be combined. Whilst the downside of this approach is that it makes them conceptually more complicated than simply using huge spreadsheets, this is more than made up for by the huge gains in efficiency that this system provides. "
   ]
  },
  {
   "cell_type": "markdown",
   "id": "91de9b78-af46-4595-9011-60ade2139bfe",
   "metadata": {},
   "source": [
    "## What tables are available for me to query?"
   ]
  },
  {
   "cell_type": "code",
   "execution_count": 4,
   "id": "20b42122-1a73-4c73-b645-fada4b0414b5",
   "metadata": {
    "execution": {
     "iopub.execute_input": "2024-01-05T16:50:05.283463Z",
     "iopub.status.busy": "2024-01-05T16:50:05.283212Z",
     "iopub.status.idle": "2024-01-05T16:50:05.423310Z",
     "shell.execute_reply": "2024-01-05T16:50:05.422572Z",
     "shell.execute_reply.started": "2024-01-05T16:50:05.283435Z"
    }
   },
   "outputs": [
    {
     "data": {
      "text/html": [
       "<div>\n",
       "<style scoped>\n",
       "    .dataframe tbody tr th:only-of-type {\n",
       "        vertical-align: middle;\n",
       "    }\n",
       "\n",
       "    .dataframe tbody tr th {\n",
       "        vertical-align: top;\n",
       "    }\n",
       "\n",
       "    .dataframe thead th {\n",
       "        text-align: right;\n",
       "    }\n",
       "</style>\n",
       "<table border=\"1\" class=\"dataframe\">\n",
       "  <thead>\n",
       "    <tr style=\"text-align: right;\">\n",
       "      <th></th>\n",
       "      <th>description</th>\n",
       "      <th>schema_name</th>\n",
       "      <th>table_index</th>\n",
       "      <th>table_name</th>\n",
       "      <th>table_type</th>\n",
       "      <th>utype</th>\n",
       "    </tr>\n",
       "  </thead>\n",
       "  <tbody>\n",
       "    <tr>\n",
       "      <th>0</th>\n",
       "      <td>Forced photometry measurements for objects detected in the coadded images, at the locations defined by the position table. (747 columns)</td>\n",
       "      <td>dp01_dc2_catalogs</td>\n",
       "      <td>5</td>\n",
       "      <td>dp01_dc2_catalogs.forced_photometry</td>\n",
       "      <td>table</td>\n",
       "      <td></td>\n",
       "    </tr>\n",
       "    <tr>\n",
       "      <th>1</th>\n",
       "      <td>The object table from the DESC DC2 simulated sky survey as described in arXiv:2101.04855. Includes astrometric and photometric parameters for objects detected in coadded images. (137 columns)</td>\n",
       "      <td>dp01_dc2_catalogs</td>\n",
       "      <td>1</td>\n",
       "      <td>dp01_dc2_catalogs.object</td>\n",
       "      <td>table</td>\n",
       "      <td></td>\n",
       "    </tr>\n",
       "    <tr>\n",
       "      <th>2</th>\n",
       "      <td>Select astrometry-related parameters for objects detected in the coadded images, such as coordinates, footprints, patch/tract information, and deblending parameters. (29 columns)</td>\n",
       "      <td>dp01_dc2_catalogs</td>\n",
       "      <td>3</td>\n",
       "      <td>dp01_dc2_catalogs.position</td>\n",
       "      <td>table</td>\n",
       "      <td></td>\n",
       "    </tr>\n",
       "    <tr>\n",
       "      <th>3</th>\n",
       "      <td>Measurements for objects detected in the coadded images, including photometry, astrometry, shape, deblending, model fits, and related background and flag parameters. This table joined with the position table is very similar to the object table, but with additional columns. (236 columns)</td>\n",
       "      <td>dp01_dc2_catalogs</td>\n",
       "      <td>4</td>\n",
       "      <td>dp01_dc2_catalogs.reference</td>\n",
       "      <td>table</td>\n",
       "      <td></td>\n",
       "    </tr>\n",
       "    <tr>\n",
       "      <th>4</th>\n",
       "      <td>The truth-match table for the DESC DC2's object table as described in arXiv:2101.04855. Includes the noiseless astrometric and photometric parameters and the best matches to the object table. (30 columns)</td>\n",
       "      <td>dp01_dc2_catalogs</td>\n",
       "      <td>2</td>\n",
       "      <td>dp01_dc2_catalogs.truth_match</td>\n",
       "      <td>table</td>\n",
       "      <td></td>\n",
       "    </tr>\n",
       "    <tr>\n",
       "      <th>5</th>\n",
       "      <td>Metadata about the 189 individual CCD images for each Visit in the DC2 simulated survey.</td>\n",
       "      <td>dp02_dc2_catalogs</td>\n",
       "      <td>8</td>\n",
       "      <td>dp02_dc2_catalogs.CcdVisit</td>\n",
       "      <td>table</td>\n",
       "      <td></td>\n",
       "    </tr>\n",
       "    <tr>\n",
       "      <th>6</th>\n",
       "      <td>Static information about the subset of tracts and patches from the standard LSST skymap that apply to coadds in these catalogs</td>\n",
       "      <td>dp02_dc2_catalogs</td>\n",
       "      <td>9</td>\n",
       "      <td>dp02_dc2_catalogs.CoaddPatches</td>\n",
       "      <td>table</td>\n",
       "      <td></td>\n",
       "    </tr>\n",
       "    <tr>\n",
       "      <th>7</th>\n",
       "      <td>Properties of time-varying astronomical objects based on association of data from one or more spatially-related DiaSource detections on individual single-epoch difference images.</td>\n",
       "      <td>dp02_dc2_catalogs</td>\n",
       "      <td>4</td>\n",
       "      <td>dp02_dc2_catalogs.DiaObject</td>\n",
       "      <td>table</td>\n",
       "      <td></td>\n",
       "    </tr>\n",
       "    <tr>\n",
       "      <th>8</th>\n",
       "      <td>Properties of transient-object detections on the single-epoch difference images.</td>\n",
       "      <td>dp02_dc2_catalogs</td>\n",
       "      <td>5</td>\n",
       "      <td>dp02_dc2_catalogs.DiaSource</td>\n",
       "      <td>table</td>\n",
       "      <td></td>\n",
       "    </tr>\n",
       "    <tr>\n",
       "      <th>9</th>\n",
       "      <td>Forced-photometry measurements on individual single-epoch visit images and difference images, based on and linked to the entries in the Object table. Point-source PSF photometry is performed, based on coordinates from a reference band chosen for each Object and reported in the Object.refBand column.</td>\n",
       "      <td>dp02_dc2_catalogs</td>\n",
       "      <td>3</td>\n",
       "      <td>dp02_dc2_catalogs.ForcedSource</td>\n",
       "      <td>table</td>\n",
       "      <td></td>\n",
       "    </tr>\n",
       "    <tr>\n",
       "      <th>10</th>\n",
       "      <td>Point-source forced-photometry measurements on individual single-epoch visit images and difference images, based on and linked to the entries in the DiaObject table.</td>\n",
       "      <td>dp02_dc2_catalogs</td>\n",
       "      <td>6</td>\n",
       "      <td>dp02_dc2_catalogs.ForcedSourceOnDiaObject</td>\n",
       "      <td>table</td>\n",
       "      <td></td>\n",
       "    </tr>\n",
       "    <tr>\n",
       "      <th>11</th>\n",
       "      <td>Match information for TruthSummary objects.</td>\n",
       "      <td>dp02_dc2_catalogs</td>\n",
       "      <td>11</td>\n",
       "      <td>dp02_dc2_catalogs.MatchesTruth</td>\n",
       "      <td>table</td>\n",
       "      <td></td>\n",
       "    </tr>\n",
       "    <tr>\n",
       "      <th>12</th>\n",
       "      <td>Properties of the astronomical objects detected and measured on the deep coadded images.</td>\n",
       "      <td>dp02_dc2_catalogs</td>\n",
       "      <td>1</td>\n",
       "      <td>dp02_dc2_catalogs.Object</td>\n",
       "      <td>table</td>\n",
       "      <td></td>\n",
       "    </tr>\n",
       "    <tr>\n",
       "      <th>13</th>\n",
       "      <td>Properties of detections on the single-epoch visit images, performed independently of the Object detections on coadded images.</td>\n",
       "      <td>dp02_dc2_catalogs</td>\n",
       "      <td>2</td>\n",
       "      <td>dp02_dc2_catalogs.Source</td>\n",
       "      <td>table</td>\n",
       "      <td></td>\n",
       "    </tr>\n",
       "    <tr>\n",
       "      <th>14</th>\n",
       "      <td>Summary properties of objects from the DESC DC2 truth catalog, as described in arXiv:2101.04855. Includes the noiseless astrometric and photometric parameters.</td>\n",
       "      <td>dp02_dc2_catalogs</td>\n",
       "      <td>10</td>\n",
       "      <td>dp02_dc2_catalogs.TruthSummary</td>\n",
       "      <td>table</td>\n",
       "      <td></td>\n",
       "    </tr>\n",
       "    <tr>\n",
       "      <th>15</th>\n",
       "      <td>Metadata about the pointings of the DC2 simulated survey, largely associated with the boresight of the entire focal plane.</td>\n",
       "      <td>dp02_dc2_catalogs</td>\n",
       "      <td>7</td>\n",
       "      <td>dp02_dc2_catalogs.Visit</td>\n",
       "      <td>table</td>\n",
       "      <td></td>\n",
       "    </tr>\n",
       "    <tr>\n",
       "      <th>16</th>\n",
       "      <td>Observation metadata in the ObsTAP relational realization of the IVOA ObsCore data model</td>\n",
       "      <td>ivoa</td>\n",
       "      <td>1</td>\n",
       "      <td>ivoa.ObsCore</td>\n",
       "      <td>table</td>\n",
       "      <td></td>\n",
       "    </tr>\n",
       "    <tr>\n",
       "      <th>17</th>\n",
       "      <td>description of columns in this tableset</td>\n",
       "      <td>tap_schema</td>\n",
       "      <td>102000</td>\n",
       "      <td>tap_schema.columns</td>\n",
       "      <td>table</td>\n",
       "      <td></td>\n",
       "    </tr>\n",
       "    <tr>\n",
       "      <th>18</th>\n",
       "      <td>description of foreign key columns in this tableset</td>\n",
       "      <td>tap_schema</td>\n",
       "      <td>104000</td>\n",
       "      <td>tap_schema.key_columns</td>\n",
       "      <td>table</td>\n",
       "      <td></td>\n",
       "    </tr>\n",
       "    <tr>\n",
       "      <th>19</th>\n",
       "      <td>description of foreign keys in this tableset</td>\n",
       "      <td>tap_schema</td>\n",
       "      <td>103000</td>\n",
       "      <td>tap_schema.keys</td>\n",
       "      <td>table</td>\n",
       "      <td></td>\n",
       "    </tr>\n",
       "    <tr>\n",
       "      <th>20</th>\n",
       "      <td>description of schemas in this tableset</td>\n",
       "      <td>tap_schema</td>\n",
       "      <td>100000</td>\n",
       "      <td>tap_schema.schemas</td>\n",
       "      <td>table</td>\n",
       "      <td></td>\n",
       "    </tr>\n",
       "    <tr>\n",
       "      <th>21</th>\n",
       "      <td>description of tables in this tableset</td>\n",
       "      <td>tap_schema</td>\n",
       "      <td>101000</td>\n",
       "      <td>tap_schema.tables</td>\n",
       "      <td>table</td>\n",
       "      <td></td>\n",
       "    </tr>\n",
       "    <tr>\n",
       "      <th>22</th>\n",
       "      <td>Job history table.</td>\n",
       "      <td>uws</td>\n",
       "      <td>120000</td>\n",
       "      <td>uws.Job</td>\n",
       "      <td>table</td>\n",
       "      <td></td>\n",
       "    </tr>\n",
       "  </tbody>\n",
       "</table>\n",
       "</div>"
      ],
      "text/plain": [
       "                                                                                                                                                                                                                                                                                                     description  \\\n",
       "0                                                                                                                                                                       Forced photometry measurements for objects detected in the coadded images, at the locations defined by the position table. (747 columns)   \n",
       "1                                                                                                                The object table from the DESC DC2 simulated sky survey as described in arXiv:2101.04855. Includes astrometric and photometric parameters for objects detected in coadded images. (137 columns)   \n",
       "2                                                                                                                             Select astrometry-related parameters for objects detected in the coadded images, such as coordinates, footprints, patch/tract information, and deblending parameters. (29 columns)   \n",
       "3                Measurements for objects detected in the coadded images, including photometry, astrometry, shape, deblending, model fits, and related background and flag parameters. This table joined with the position table is very similar to the object table, but with additional columns. (236 columns)   \n",
       "4                                                                                                   The truth-match table for the DESC DC2's object table as described in arXiv:2101.04855. Includes the noiseless astrometric and photometric parameters and the best matches to the object table. (30 columns)   \n",
       "5                                                                                                                                                                                                                       Metadata about the 189 individual CCD images for each Visit in the DC2 simulated survey.   \n",
       "6                                                                                                                                                                                 Static information about the subset of tracts and patches from the standard LSST skymap that apply to coadds in these catalogs   \n",
       "7                                                                                                                             Properties of time-varying astronomical objects based on association of data from one or more spatially-related DiaSource detections on individual single-epoch difference images.   \n",
       "8                                                                                                                                                                                                                               Properties of transient-object detections on the single-epoch difference images.   \n",
       "9   Forced-photometry measurements on individual single-epoch visit images and difference images, based on and linked to the entries in the Object table. Point-source PSF photometry is performed, based on coordinates from a reference band chosen for each Object and reported in the Object.refBand column.   \n",
       "10                                                                                                                                         Point-source forced-photometry measurements on individual single-epoch visit images and difference images, based on and linked to the entries in the DiaObject table.   \n",
       "11                                                                                                                                                                                                                                                                   Match information for TruthSummary objects.   \n",
       "12                                                                                                                                                                                                                      Properties of the astronomical objects detected and measured on the deep coadded images.   \n",
       "13                                                                                                                                                                                Properties of detections on the single-epoch visit images, performed independently of the Object detections on coadded images.   \n",
       "14                                                                                                                                               Summary properties of objects from the DESC DC2 truth catalog, as described in arXiv:2101.04855. Includes the noiseless astrometric and photometric parameters.   \n",
       "15                                                                                                                                                                                    Metadata about the pointings of the DC2 simulated survey, largely associated with the boresight of the entire focal plane.   \n",
       "16                                                                                                                                                                                                                      Observation metadata in the ObsTAP relational realization of the IVOA ObsCore data model   \n",
       "17                                                                                                                                                                                                                                                                       description of columns in this tableset   \n",
       "18                                                                                                                                                                                                                                                           description of foreign key columns in this tableset   \n",
       "19                                                                                                                                                                                                                                                                  description of foreign keys in this tableset   \n",
       "20                                                                                                                                                                                                                                                                       description of schemas in this tableset   \n",
       "21                                                                                                                                                                                                                                                                        description of tables in this tableset   \n",
       "22                                                                                                                                                                                                                                                                                            Job history table.   \n",
       "\n",
       "          schema_name  table_index                                 table_name  \\\n",
       "0   dp01_dc2_catalogs            5        dp01_dc2_catalogs.forced_photometry   \n",
       "1   dp01_dc2_catalogs            1                   dp01_dc2_catalogs.object   \n",
       "2   dp01_dc2_catalogs            3                 dp01_dc2_catalogs.position   \n",
       "3   dp01_dc2_catalogs            4                dp01_dc2_catalogs.reference   \n",
       "4   dp01_dc2_catalogs            2              dp01_dc2_catalogs.truth_match   \n",
       "5   dp02_dc2_catalogs            8                 dp02_dc2_catalogs.CcdVisit   \n",
       "6   dp02_dc2_catalogs            9             dp02_dc2_catalogs.CoaddPatches   \n",
       "7   dp02_dc2_catalogs            4                dp02_dc2_catalogs.DiaObject   \n",
       "8   dp02_dc2_catalogs            5                dp02_dc2_catalogs.DiaSource   \n",
       "9   dp02_dc2_catalogs            3             dp02_dc2_catalogs.ForcedSource   \n",
       "10  dp02_dc2_catalogs            6  dp02_dc2_catalogs.ForcedSourceOnDiaObject   \n",
       "11  dp02_dc2_catalogs           11             dp02_dc2_catalogs.MatchesTruth   \n",
       "12  dp02_dc2_catalogs            1                   dp02_dc2_catalogs.Object   \n",
       "13  dp02_dc2_catalogs            2                   dp02_dc2_catalogs.Source   \n",
       "14  dp02_dc2_catalogs           10             dp02_dc2_catalogs.TruthSummary   \n",
       "15  dp02_dc2_catalogs            7                    dp02_dc2_catalogs.Visit   \n",
       "16               ivoa            1                               ivoa.ObsCore   \n",
       "17         tap_schema       102000                         tap_schema.columns   \n",
       "18         tap_schema       104000                     tap_schema.key_columns   \n",
       "19         tap_schema       103000                            tap_schema.keys   \n",
       "20         tap_schema       100000                         tap_schema.schemas   \n",
       "21         tap_schema       101000                          tap_schema.tables   \n",
       "22                uws       120000                                    uws.Job   \n",
       "\n",
       "   table_type utype  \n",
       "0       table        \n",
       "1       table        \n",
       "2       table        \n",
       "3       table        \n",
       "4       table        \n",
       "5       table        \n",
       "6       table        \n",
       "7       table        \n",
       "8       table        \n",
       "9       table        \n",
       "10      table        \n",
       "11      table        \n",
       "12      table        \n",
       "13      table        \n",
       "14      table        \n",
       "15      table        \n",
       "16      table        \n",
       "17      table        \n",
       "18      table        \n",
       "19      table        \n",
       "20      table        \n",
       "21      table        \n",
       "22      table        "
      ]
     },
     "execution_count": 4,
     "metadata": {},
     "output_type": "execute_result"
    }
   ],
   "source": [
    "my_adql_query = \"SELECT * FROM tap_schema.tables\"\n",
    "tables = service.search(my_adql_query)\n",
    "tables.to_table().to_pandas()"
   ]
  },
  {
   "cell_type": "markdown",
   "id": "20a4a1a8-8cf1-4bd7-9cac-9e73ac5338dd",
   "metadata": {},
   "source": [
    "## How do I find out what columns exist in each table?"
   ]
  },
  {
   "cell_type": "code",
   "execution_count": 5,
   "id": "e739d22e-331b-4624-94a9-58f52f23b585",
   "metadata": {
    "execution": {
     "iopub.execute_input": "2024-01-05T16:50:05.424712Z",
     "iopub.status.busy": "2024-01-05T16:50:05.424410Z",
     "iopub.status.idle": "2024-01-05T16:50:05.701879Z",
     "shell.execute_reply": "2024-01-05T16:50:05.701091Z",
     "shell.execute_reply.started": "2024-01-05T16:50:05.424688Z"
    }
   },
   "outputs": [
    {
     "data": {
      "text/html": [
       "<div>\n",
       "<style scoped>\n",
       "    .dataframe tbody tr th:only-of-type {\n",
       "        vertical-align: middle;\n",
       "    }\n",
       "\n",
       "    .dataframe tbody tr th {\n",
       "        vertical-align: top;\n",
       "    }\n",
       "\n",
       "    .dataframe thead th {\n",
       "        text-align: right;\n",
       "    }\n",
       "</style>\n",
       "<table border=\"1\" class=\"dataframe\">\n",
       "  <thead>\n",
       "    <tr style=\"text-align: right;\">\n",
       "      <th></th>\n",
       "      <th>\"size\"</th>\n",
       "      <th>arraysize</th>\n",
       "      <th>column_index</th>\n",
       "      <th>column_name</th>\n",
       "      <th>datatype</th>\n",
       "      <th>description</th>\n",
       "      <th>indexed</th>\n",
       "      <th>principal</th>\n",
       "      <th>std</th>\n",
       "      <th>table_name</th>\n",
       "      <th>ucd</th>\n",
       "      <th>unit</th>\n",
       "      <th>utype</th>\n",
       "      <th>xtype</th>\n",
       "    </tr>\n",
       "  </thead>\n",
       "  <tbody>\n",
       "    <tr>\n",
       "      <th>0</th>\n",
       "      <td>&lt;NA&gt;</td>\n",
       "      <td></td>\n",
       "      <td>3</td>\n",
       "      <td>coord_dec</td>\n",
       "      <td>double</td>\n",
       "      <td>position in ra/dec</td>\n",
       "      <td>0</td>\n",
       "      <td>1</td>\n",
       "      <td>0</td>\n",
       "      <td>dp01_dc2_catalogs.forced_photometry</td>\n",
       "      <td>pos.eq.dec</td>\n",
       "      <td></td>\n",
       "      <td></td>\n",
       "      <td></td>\n",
       "    </tr>\n",
       "    <tr>\n",
       "      <th>1</th>\n",
       "      <td>&lt;NA&gt;</td>\n",
       "      <td></td>\n",
       "      <td>2</td>\n",
       "      <td>coord_ra</td>\n",
       "      <td>double</td>\n",
       "      <td>position in ra/dec</td>\n",
       "      <td>0</td>\n",
       "      <td>1</td>\n",
       "      <td>0</td>\n",
       "      <td>dp01_dc2_catalogs.forced_photometry</td>\n",
       "      <td>pos.eq.ra</td>\n",
       "      <td></td>\n",
       "      <td></td>\n",
       "      <td></td>\n",
       "    </tr>\n",
       "    <tr>\n",
       "      <th>2</th>\n",
       "      <td>&lt;NA&gt;</td>\n",
       "      <td></td>\n",
       "      <td>999</td>\n",
       "      <td>g_base_ClassificationExtendedness_flag</td>\n",
       "      <td>boolean</td>\n",
       "      <td>Set to 1 for any fatal failure.</td>\n",
       "      <td>0</td>\n",
       "      <td>1</td>\n",
       "      <td>0</td>\n",
       "      <td>dp01_dc2_catalogs.forced_photometry</td>\n",
       "      <td></td>\n",
       "      <td></td>\n",
       "      <td></td>\n",
       "      <td></td>\n",
       "    </tr>\n",
       "    <tr>\n",
       "      <th>3</th>\n",
       "      <td>&lt;NA&gt;</td>\n",
       "      <td></td>\n",
       "      <td>999</td>\n",
       "      <td>g_base_ClassificationExtendedness_value</td>\n",
       "      <td>double</td>\n",
       "      <td>Set to 1 for extended sources, 0 for point sources.</td>\n",
       "      <td>0</td>\n",
       "      <td>1</td>\n",
       "      <td>0</td>\n",
       "      <td>dp01_dc2_catalogs.forced_photometry</td>\n",
       "      <td></td>\n",
       "      <td></td>\n",
       "      <td></td>\n",
       "      <td></td>\n",
       "    </tr>\n",
       "    <tr>\n",
       "      <th>4</th>\n",
       "      <td>&lt;NA&gt;</td>\n",
       "      <td></td>\n",
       "      <td>999</td>\n",
       "      <td>g_base_InputCount_flag</td>\n",
       "      <td>boolean</td>\n",
       "      <td>Set for any fatal failure</td>\n",
       "      <td>0</td>\n",
       "      <td>0</td>\n",
       "      <td>0</td>\n",
       "      <td>dp01_dc2_catalogs.forced_photometry</td>\n",
       "      <td></td>\n",
       "      <td></td>\n",
       "      <td></td>\n",
       "      <td></td>\n",
       "    </tr>\n",
       "    <tr>\n",
       "      <th>...</th>\n",
       "      <td>...</td>\n",
       "      <td>...</td>\n",
       "      <td>...</td>\n",
       "      <td>...</td>\n",
       "      <td>...</td>\n",
       "      <td>...</td>\n",
       "      <td>...</td>\n",
       "      <td>...</td>\n",
       "      <td>...</td>\n",
       "      <td>...</td>\n",
       "      <td>...</td>\n",
       "      <td>...</td>\n",
       "      <td>...</td>\n",
       "      <td>...</td>\n",
       "    </tr>\n",
       "    <tr>\n",
       "      <th>2741</th>\n",
       "      <td>&lt;NA&gt;</td>\n",
       "      <td></td>\n",
       "      <td>6</td>\n",
       "      <td>table_index</td>\n",
       "      <td>int</td>\n",
       "      <td>recommended sort order when listing tables</td>\n",
       "      <td>0</td>\n",
       "      <td>1</td>\n",
       "      <td>1</td>\n",
       "      <td>tap_schema.tables</td>\n",
       "      <td></td>\n",
       "      <td></td>\n",
       "      <td></td>\n",
       "      <td></td>\n",
       "    </tr>\n",
       "    <tr>\n",
       "      <th>2742</th>\n",
       "      <td>&lt;NA&gt;</td>\n",
       "      <td>64*</td>\n",
       "      <td>2</td>\n",
       "      <td>table_name</td>\n",
       "      <td>char</td>\n",
       "      <td>the fully qualified table name</td>\n",
       "      <td>0</td>\n",
       "      <td>1</td>\n",
       "      <td>1</td>\n",
       "      <td>tap_schema.tables</td>\n",
       "      <td></td>\n",
       "      <td></td>\n",
       "      <td></td>\n",
       "      <td></td>\n",
       "    </tr>\n",
       "    <tr>\n",
       "      <th>2743</th>\n",
       "      <td>&lt;NA&gt;</td>\n",
       "      <td>8*</td>\n",
       "      <td>3</td>\n",
       "      <td>table_type</td>\n",
       "      <td>char</td>\n",
       "      <td>one of: table view</td>\n",
       "      <td>0</td>\n",
       "      <td>1</td>\n",
       "      <td>1</td>\n",
       "      <td>tap_schema.tables</td>\n",
       "      <td></td>\n",
       "      <td></td>\n",
       "      <td></td>\n",
       "      <td></td>\n",
       "    </tr>\n",
       "    <tr>\n",
       "      <th>2744</th>\n",
       "      <td>&lt;NA&gt;</td>\n",
       "      <td>512*</td>\n",
       "      <td>4</td>\n",
       "      <td>utype</td>\n",
       "      <td>char</td>\n",
       "      <td>lists the utype of tables in the tableset</td>\n",
       "      <td>0</td>\n",
       "      <td>1</td>\n",
       "      <td>1</td>\n",
       "      <td>tap_schema.tables</td>\n",
       "      <td></td>\n",
       "      <td></td>\n",
       "      <td></td>\n",
       "      <td></td>\n",
       "    </tr>\n",
       "    <tr>\n",
       "      <th>2745</th>\n",
       "      <td>&lt;NA&gt;</td>\n",
       "      <td>16</td>\n",
       "      <td>1</td>\n",
       "      <td>jobid</td>\n",
       "      <td>char</td>\n",
       "      <td>Job ID</td>\n",
       "      <td>1</td>\n",
       "      <td>0</td>\n",
       "      <td>0</td>\n",
       "      <td>uws.Job</td>\n",
       "      <td></td>\n",
       "      <td></td>\n",
       "      <td></td>\n",
       "      <td></td>\n",
       "    </tr>\n",
       "  </tbody>\n",
       "</table>\n",
       "<p>2746 rows × 14 columns</p>\n",
       "</div>"
      ],
      "text/plain": [
       "      \"size\" arraysize  column_index                              column_name  \\\n",
       "0       <NA>                       3                                coord_dec   \n",
       "1       <NA>                       2                                 coord_ra   \n",
       "2       <NA>                     999   g_base_ClassificationExtendedness_flag   \n",
       "3       <NA>                     999  g_base_ClassificationExtendedness_value   \n",
       "4       <NA>                     999                   g_base_InputCount_flag   \n",
       "...      ...       ...           ...                                      ...   \n",
       "2741    <NA>                       6                              table_index   \n",
       "2742    <NA>       64*             2                               table_name   \n",
       "2743    <NA>        8*             3                               table_type   \n",
       "2744    <NA>      512*             4                                    utype   \n",
       "2745    <NA>        16             1                                    jobid   \n",
       "\n",
       "     datatype                                          description  indexed  \\\n",
       "0      double                                   position in ra/dec        0   \n",
       "1      double                                   position in ra/dec        0   \n",
       "2     boolean                      Set to 1 for any fatal failure.        0   \n",
       "3      double  Set to 1 for extended sources, 0 for point sources.        0   \n",
       "4     boolean                            Set for any fatal failure        0   \n",
       "...       ...                                                  ...      ...   \n",
       "2741      int           recommended sort order when listing tables        0   \n",
       "2742     char                       the fully qualified table name        0   \n",
       "2743     char                                   one of: table view        0   \n",
       "2744     char            lists the utype of tables in the tableset        0   \n",
       "2745     char                                               Job ID        1   \n",
       "\n",
       "      principal  std                           table_name         ucd unit  \\\n",
       "0             1    0  dp01_dc2_catalogs.forced_photometry  pos.eq.dec        \n",
       "1             1    0  dp01_dc2_catalogs.forced_photometry   pos.eq.ra        \n",
       "2             1    0  dp01_dc2_catalogs.forced_photometry                    \n",
       "3             1    0  dp01_dc2_catalogs.forced_photometry                    \n",
       "4             0    0  dp01_dc2_catalogs.forced_photometry                    \n",
       "...         ...  ...                                  ...         ...  ...   \n",
       "2741          1    1                    tap_schema.tables                    \n",
       "2742          1    1                    tap_schema.tables                    \n",
       "2743          1    1                    tap_schema.tables                    \n",
       "2744          1    1                    tap_schema.tables                    \n",
       "2745          0    0                              uws.Job                    \n",
       "\n",
       "     utype xtype  \n",
       "0                 \n",
       "1                 \n",
       "2                 \n",
       "3                 \n",
       "4                 \n",
       "...    ...   ...  \n",
       "2741              \n",
       "2742              \n",
       "2743              \n",
       "2744              \n",
       "2745              \n",
       "\n",
       "[2746 rows x 14 columns]"
      ]
     },
     "execution_count": 5,
     "metadata": {},
     "output_type": "execute_result"
    }
   ],
   "source": [
    "my_adql_query = \"SELECT * from tap_schema.columns\"\n",
    "columns = service.search(my_adql_query)\n",
    "columns.to_table().to_pandas()"
   ]
  },
  {
   "cell_type": "markdown",
   "id": "12e5b199-6b2b-455e-a6c4-ce824a44948f",
   "metadata": {},
   "source": [
    "## But what columns are available in a specific table?"
   ]
  },
  {
   "cell_type": "code",
   "execution_count": 6,
   "id": "9beb77b3-fdab-4799-a0f2-963a6ecf22ca",
   "metadata": {
    "execution": {
     "iopub.execute_input": "2024-01-05T16:50:05.703120Z",
     "iopub.status.busy": "2024-01-05T16:50:05.702783Z",
     "iopub.status.idle": "2024-01-05T16:50:05.838727Z",
     "shell.execute_reply": "2024-01-05T16:50:05.837998Z",
     "shell.execute_reply.started": "2024-01-05T16:50:05.703100Z"
    }
   },
   "outputs": [
    {
     "data": {
      "text/html": [
       "<div>\n",
       "<style scoped>\n",
       "    .dataframe tbody tr th:only-of-type {\n",
       "        vertical-align: middle;\n",
       "    }\n",
       "\n",
       "    .dataframe tbody tr th {\n",
       "        vertical-align: top;\n",
       "    }\n",
       "\n",
       "    .dataframe thead th {\n",
       "        text-align: right;\n",
       "    }\n",
       "</style>\n",
       "<table border=\"1\" class=\"dataframe\">\n",
       "  <thead>\n",
       "    <tr style=\"text-align: right;\">\n",
       "      <th></th>\n",
       "      <th>table_name</th>\n",
       "      <th>column_name</th>\n",
       "      <th>description</th>\n",
       "      <th>unit</th>\n",
       "    </tr>\n",
       "  </thead>\n",
       "  <tbody>\n",
       "    <tr>\n",
       "      <th>0</th>\n",
       "      <td>dp02_dc2_catalogs.Object</td>\n",
       "      <td>coord_dec</td>\n",
       "      <td>Fiducial ICRS Declination of centroid used for database indexing</td>\n",
       "      <td>deg</td>\n",
       "    </tr>\n",
       "    <tr>\n",
       "      <th>1</th>\n",
       "      <td>dp02_dc2_catalogs.Object</td>\n",
       "      <td>coord_ra</td>\n",
       "      <td>Fiducial ICRS Right Ascension of centroid used for database indexing</td>\n",
       "      <td>deg</td>\n",
       "    </tr>\n",
       "    <tr>\n",
       "      <th>2</th>\n",
       "      <td>dp02_dc2_catalogs.Object</td>\n",
       "      <td>deblend_nChild</td>\n",
       "      <td>Number of children this object has (defaults to 0)</td>\n",
       "      <td></td>\n",
       "    </tr>\n",
       "    <tr>\n",
       "      <th>3</th>\n",
       "      <td>dp02_dc2_catalogs.Object</td>\n",
       "      <td>deblend_skipped</td>\n",
       "      <td>Deblender skipped this source</td>\n",
       "      <td></td>\n",
       "    </tr>\n",
       "    <tr>\n",
       "      <th>4</th>\n",
       "      <td>dp02_dc2_catalogs.Object</td>\n",
       "      <td>detect_fromBlend</td>\n",
       "      <td>This source is deblended from a parent with more than one child.</td>\n",
       "      <td></td>\n",
       "    </tr>\n",
       "    <tr>\n",
       "      <th>...</th>\n",
       "      <td>...</td>\n",
       "      <td>...</td>\n",
       "      <td>...</td>\n",
       "      <td>...</td>\n",
       "    </tr>\n",
       "    <tr>\n",
       "      <th>986</th>\n",
       "      <td>dp02_dc2_catalogs.Object</td>\n",
       "      <td>z_psfFlux_flag_apCorr</td>\n",
       "      <td>Set if unable to aperture correct base_PsfFlux. Forced on z-band.</td>\n",
       "      <td></td>\n",
       "    </tr>\n",
       "    <tr>\n",
       "      <th>987</th>\n",
       "      <td>dp02_dc2_catalogs.Object</td>\n",
       "      <td>z_psfFlux_flag_edge</td>\n",
       "      <td>Object was too close to the edge of the image to use the full PSF model. Forced on z-band.</td>\n",
       "      <td></td>\n",
       "    </tr>\n",
       "    <tr>\n",
       "      <th>988</th>\n",
       "      <td>dp02_dc2_catalogs.Object</td>\n",
       "      <td>z_psfFlux_flag_noGoodPixels</td>\n",
       "      <td>Not enough non-rejected pixels in data to attempt the fit. Forced on z-band.</td>\n",
       "      <td></td>\n",
       "    </tr>\n",
       "    <tr>\n",
       "      <th>989</th>\n",
       "      <td>dp02_dc2_catalogs.Object</td>\n",
       "      <td>z_psfFluxErr</td>\n",
       "      <td>Flux uncertainty derived from linear least-squares fit of PSF model. Forced on z-band.</td>\n",
       "      <td>nJy</td>\n",
       "    </tr>\n",
       "    <tr>\n",
       "      <th>990</th>\n",
       "      <td>dp02_dc2_catalogs.Object</td>\n",
       "      <td>z_ra</td>\n",
       "      <td>Position in ra/dec. Measured on z-band.</td>\n",
       "      <td>deg</td>\n",
       "    </tr>\n",
       "  </tbody>\n",
       "</table>\n",
       "<p>991 rows × 4 columns</p>\n",
       "</div>"
      ],
      "text/plain": [
       "                   table_name                  column_name  \\\n",
       "0    dp02_dc2_catalogs.Object                    coord_dec   \n",
       "1    dp02_dc2_catalogs.Object                     coord_ra   \n",
       "2    dp02_dc2_catalogs.Object               deblend_nChild   \n",
       "3    dp02_dc2_catalogs.Object              deblend_skipped   \n",
       "4    dp02_dc2_catalogs.Object             detect_fromBlend   \n",
       "..                        ...                          ...   \n",
       "986  dp02_dc2_catalogs.Object        z_psfFlux_flag_apCorr   \n",
       "987  dp02_dc2_catalogs.Object          z_psfFlux_flag_edge   \n",
       "988  dp02_dc2_catalogs.Object  z_psfFlux_flag_noGoodPixels   \n",
       "989  dp02_dc2_catalogs.Object                 z_psfFluxErr   \n",
       "990  dp02_dc2_catalogs.Object                         z_ra   \n",
       "\n",
       "                                                                                    description  \\\n",
       "0                              Fiducial ICRS Declination of centroid used for database indexing   \n",
       "1                          Fiducial ICRS Right Ascension of centroid used for database indexing   \n",
       "2                                            Number of children this object has (defaults to 0)   \n",
       "3                                                                 Deblender skipped this source   \n",
       "4                              This source is deblended from a parent with more than one child.   \n",
       "..                                                                                          ...   \n",
       "986                           Set if unable to aperture correct base_PsfFlux. Forced on z-band.   \n",
       "987  Object was too close to the edge of the image to use the full PSF model. Forced on z-band.   \n",
       "988                Not enough non-rejected pixels in data to attempt the fit. Forced on z-band.   \n",
       "989      Flux uncertainty derived from linear least-squares fit of PSF model. Forced on z-band.   \n",
       "990                                                     Position in ra/dec. Measured on z-band.   \n",
       "\n",
       "    unit  \n",
       "0    deg  \n",
       "1    deg  \n",
       "2         \n",
       "3         \n",
       "4         \n",
       "..   ...  \n",
       "986       \n",
       "987       \n",
       "988       \n",
       "989  nJy  \n",
       "990  deg  \n",
       "\n",
       "[991 rows x 4 columns]"
      ]
     },
     "execution_count": 6,
     "metadata": {},
     "output_type": "execute_result"
    }
   ],
   "source": [
    "my_adql_query = (\n",
    "    \"SELECT table_name, column_name, description, unit from tap_schema.columns \"+\n",
    "    \"WHERE table_name = 'dp02_dc2_catalogs.Object'\"\n",
    ")\n",
    "columns = service.search(my_adql_query)\n",
    "#pd.set_option('display.max_rows', 1000) #Uncomment if you want to see all rows.\n",
    "pd.reset_option('display.max_rows')#Uncomment if you want to limit the number of displayed rows.\n",
    "columns.to_table().to_pandas()"
   ]
  },
  {
   "cell_type": "markdown",
   "id": "a281190b-b41a-4ad7-878b-f826c0a9fe52",
   "metadata": {},
   "source": [
    "# Extracting science data from the tables\n",
    "\n",
    "So far we've only asked the TAP service to tell us what tables and columns are available. But of course what we really want if information about astronomical sources.\n",
    "\n",
    "In what follows, we'll first query an object table to find all the _objects_ within one degree of a given on-sky position and extract their g, r, and i-band fluxes. This can be thought of as a search of a traditional static single-epoch survey. Next, we'll move on to querying a source table to extract the multi-epoch measurements of a given object."
   ]
  },
  {
   "cell_type": "markdown",
   "id": "843977b9-d068-462d-a30a-6756dd1b3f71",
   "metadata": {
    "jp-MarkdownHeadingCollapsed": true
   },
   "source": [
    "## Aside: Querying tables for objects and sources"
   ]
  },
  {
   "cell_type": "markdown",
   "id": "c6a1019c-6841-4f07-8794-ce68455a9f70",
   "metadata": {},
   "source": [
    "At this stage, it's important to introduce the difference between \"objects\" and \"sources\" in the LSST databases.\n",
    "\n",
    "In a static survey -- one that only performs a single sweep of the sky, or does multiple sweeps, but then combined them all to produce a single image of the sky -- an object and a source is the same thing: a detected astrophysical object produces light which is detected as a source. This unity breaks down, however, in the case of multi-epoch surveys like the LSST, since the same object will be repeatedly detected as a source every time that same patch of sky is surveyed. As such, the LSST defines objects and sources as two subtly different things: an \"object\" is just that - an astrophysical object (like a physical star/galaxy/asteroid etc.) which _should_ have (if everything's working as it should) a unique ID across multiple epochs of observation. A \"source\", on the other hand, refers to each measurement of that object in each separate observation of that object. As such, each object will be associated with multiple sources due to the fact that the LSST is a multi-epoch survey.\n",
    "\n",
    "Within the LSST database, there are tables that contain information about objects and there are separate tables that contain information about sources. Thankfully, the processing pipelines have done hard work of associating each source with their corresponding object, meaning it is straightforward for us, as users, to obtain all the multi-epoch measurements for a given object.  "
   ]
  },
  {
   "cell_type": "markdown",
   "id": "04b3dba0-80bd-4c9e-97d4-4427b4406b80",
   "metadata": {},
   "source": [
    "## Performing a position-based query of the Object table \n",
    "\n",
    "The following returns the first 10,000* objects to be found within 1.0 degrees of the coordinates (ra, dec) = (62.0 deg, -37.0 deg).\n",
    "\n",
    "*I'm only limiting the query to the first 10,000 objects to ensure that it doesn't take too long to execute."
   ]
  },
  {
   "cell_type": "code",
   "execution_count": 7,
   "id": "3130e6c9-b175-4bc6-8831-88e73fb07f77",
   "metadata": {
    "execution": {
     "iopub.execute_input": "2024-01-05T16:50:05.839925Z",
     "iopub.status.busy": "2024-01-05T16:50:05.839625Z",
     "iopub.status.idle": "2024-01-05T16:53:43.278737Z",
     "shell.execute_reply": "2024-01-05T16:53:43.278115Z",
     "shell.execute_reply.started": "2024-01-05T16:50:05.839906Z"
    }
   },
   "outputs": [
    {
     "data": {
      "text/html": [
       "<div>\n",
       "<style scoped>\n",
       "    .dataframe tbody tr th:only-of-type {\n",
       "        vertical-align: middle;\n",
       "    }\n",
       "\n",
       "    .dataframe tbody tr th {\n",
       "        vertical-align: top;\n",
       "    }\n",
       "\n",
       "    .dataframe thead th {\n",
       "        text-align: right;\n",
       "    }\n",
       "</style>\n",
       "<table border=\"1\" class=\"dataframe\">\n",
       "  <thead>\n",
       "    <tr style=\"text-align: right;\">\n",
       "      <th></th>\n",
       "      <th>coord_ra</th>\n",
       "      <th>coord_dec</th>\n",
       "      <th>g_calibFlux</th>\n",
       "      <th>r_calibFlux</th>\n",
       "      <th>i_calibFlux</th>\n",
       "    </tr>\n",
       "  </thead>\n",
       "  <tbody>\n",
       "    <tr>\n",
       "      <th>0</th>\n",
       "      <td>61.334854</td>\n",
       "      <td>-37.821138</td>\n",
       "      <td>5964.973723</td>\n",
       "      <td>7835.467862</td>\n",
       "      <td>8515.728729</td>\n",
       "    </tr>\n",
       "    <tr>\n",
       "      <th>1</th>\n",
       "      <td>60.988606</td>\n",
       "      <td>-37.593009</td>\n",
       "      <td>498.814783</td>\n",
       "      <td>1419.673001</td>\n",
       "      <td>5338.335032</td>\n",
       "    </tr>\n",
       "    <tr>\n",
       "      <th>2</th>\n",
       "      <td>61.042425</td>\n",
       "      <td>-37.590702</td>\n",
       "      <td>2378.355049</td>\n",
       "      <td>3654.982898</td>\n",
       "      <td>4250.719658</td>\n",
       "    </tr>\n",
       "    <tr>\n",
       "      <th>3</th>\n",
       "      <td>61.002182</td>\n",
       "      <td>-37.594369</td>\n",
       "      <td>1075.665201</td>\n",
       "      <td>3412.631859</td>\n",
       "      <td>7430.391898</td>\n",
       "    </tr>\n",
       "    <tr>\n",
       "      <th>4</th>\n",
       "      <td>61.327786</td>\n",
       "      <td>-37.838125</td>\n",
       "      <td>542.294585</td>\n",
       "      <td>2048.694285</td>\n",
       "      <td>10236.744231</td>\n",
       "    </tr>\n",
       "    <tr>\n",
       "      <th>...</th>\n",
       "      <td>...</td>\n",
       "      <td>...</td>\n",
       "      <td>...</td>\n",
       "      <td>...</td>\n",
       "      <td>...</td>\n",
       "    </tr>\n",
       "    <tr>\n",
       "      <th>9995</th>\n",
       "      <td>61.137177</td>\n",
       "      <td>-37.208470</td>\n",
       "      <td>8796.848383</td>\n",
       "      <td>30267.582263</td>\n",
       "      <td>150739.652571</td>\n",
       "    </tr>\n",
       "    <tr>\n",
       "      <th>9996</th>\n",
       "      <td>61.090556</td>\n",
       "      <td>-37.200981</td>\n",
       "      <td>5406.380524</td>\n",
       "      <td>7148.598778</td>\n",
       "      <td>7933.698135</td>\n",
       "    </tr>\n",
       "    <tr>\n",
       "      <th>9997</th>\n",
       "      <td>61.156848</td>\n",
       "      <td>-37.199926</td>\n",
       "      <td>115126.235398</td>\n",
       "      <td>168294.967943</td>\n",
       "      <td>192307.882654</td>\n",
       "    </tr>\n",
       "    <tr>\n",
       "      <th>9998</th>\n",
       "      <td>61.252812</td>\n",
       "      <td>-37.201605</td>\n",
       "      <td>12281.802064</td>\n",
       "      <td>34388.668569</td>\n",
       "      <td>54094.019875</td>\n",
       "    </tr>\n",
       "    <tr>\n",
       "      <th>9999</th>\n",
       "      <td>61.055192</td>\n",
       "      <td>-37.210037</td>\n",
       "      <td>467.280436</td>\n",
       "      <td>1354.646690</td>\n",
       "      <td>4777.075629</td>\n",
       "    </tr>\n",
       "  </tbody>\n",
       "</table>\n",
       "<p>10000 rows × 5 columns</p>\n",
       "</div>"
      ],
      "text/plain": [
       "       coord_ra  coord_dec    g_calibFlux    r_calibFlux    i_calibFlux\n",
       "0     61.334854 -37.821138    5964.973723    7835.467862    8515.728729\n",
       "1     60.988606 -37.593009     498.814783    1419.673001    5338.335032\n",
       "2     61.042425 -37.590702    2378.355049    3654.982898    4250.719658\n",
       "3     61.002182 -37.594369    1075.665201    3412.631859    7430.391898\n",
       "4     61.327786 -37.838125     542.294585    2048.694285   10236.744231\n",
       "...         ...        ...            ...            ...            ...\n",
       "9995  61.137177 -37.208470    8796.848383   30267.582263  150739.652571\n",
       "9996  61.090556 -37.200981    5406.380524    7148.598778    7933.698135\n",
       "9997  61.156848 -37.199926  115126.235398  168294.967943  192307.882654\n",
       "9998  61.252812 -37.201605   12281.802064   34388.668569   54094.019875\n",
       "9999  61.055192 -37.210037     467.280436    1354.646690    4777.075629\n",
       "\n",
       "[10000 rows x 5 columns]"
      ]
     },
     "execution_count": 7,
     "metadata": {},
     "output_type": "execute_result"
    }
   ],
   "source": [
    "my_adql_query = (\n",
    "    \"SELECT TOP 10000 \"\n",
    "    \"coord_ra, coord_dec, \"\n",
    "    \"g_calibFlux, r_calibFlux, i_calibFlux \"\n",
    "    \"FROM dp02_dc2_catalogs.Object \"\n",
    "    \"WHERE \"\n",
    "    \"CONTAINS(POINT('ICRS', coord_ra, coord_dec), CIRCLE('ICRS', 62.0, -37.0, 1.0)) = 1 \"\n",
    "    \"AND g_calibFlux > 360 AND r_calibFlux > 360 AND i_calibFlux > 360\" # This ensures robust detections.\n",
    "    \"AND g_extendedness = 0 \" # Restricts to point-like objects (i.e., stars); see later for why.\n",
    ")\n",
    "results = service.search(my_adql_query)\n",
    "table = results.to_table().to_pandas()\n",
    "table"
   ]
  },
  {
   "cell_type": "markdown",
   "id": "c15c5024-e8d7-498e-a7d5-f28452bb7344",
   "metadata": {},
   "source": [
    "## Make a colour-magnitude plot using all those 10,000 sources\n",
    "\n",
    "The first box just defines a function I can use to convert the nJy fluxes from the table into AB magnitudes.\n",
    "\n",
    "**Note:** There is an ADQL function that will do this for you if you add it to your query, but I wanted to keep the queries as straightforward as possible. I refer you to the end of this notebook if you want to see how this is done.\n",
    "\n",
    "This is why I requested only point-like objects which will mostly return stars (though not exclusively - think quasars and most solar-system objects)."
   ]
  },
  {
   "cell_type": "code",
   "execution_count": 8,
   "id": "55a8e8e7-1e28-4e02-8e36-a347bccc4523",
   "metadata": {
    "execution": {
     "iopub.execute_input": "2024-01-05T16:53:43.279832Z",
     "iopub.status.busy": "2024-01-05T16:53:43.279616Z",
     "iopub.status.idle": "2024-01-05T16:53:43.283003Z",
     "shell.execute_reply": "2024-01-05T16:53:43.282454Z",
     "shell.execute_reply.started": "2024-01-05T16:53:43.279814Z"
    }
   },
   "outputs": [],
   "source": [
    "def fluxToMag(nJFlux):\n",
    "    return -2.5*np.log10(nJFlux) + 31.4"
   ]
  },
  {
   "cell_type": "code",
   "execution_count": 9,
   "id": "0c98313e-51cf-4a66-8293-deb79f9745a6",
   "metadata": {
    "execution": {
     "iopub.execute_input": "2024-01-05T16:53:43.283999Z",
     "iopub.status.busy": "2024-01-05T16:53:43.283790Z",
     "iopub.status.idle": "2024-01-05T16:53:43.678217Z",
     "shell.execute_reply": "2024-01-05T16:53:43.677507Z",
     "shell.execute_reply.started": "2024-01-05T16:53:43.283982Z"
    }
   },
   "outputs": [
    {
     "data": {
      "image/png": "[encoded data removed]",
      "text/plain": [
       "<Figure size 640x480 with 1 Axes>"
      ]
     },
     "metadata": {},
     "output_type": "display_data"
    }
   ],
   "source": [
    "plt.plot(fluxToMag(table['r_calibFlux'].values) - fluxToMag(table['i_calibFlux'].values),\n",
    "         fluxToMag(table['g_calibFlux'].values),\n",
    "         'o', ms=2, alpha=0.2)\n",
    "\n",
    "plt.xlabel('mag_r - mag_i', fontsize=16)\n",
    "plt.ylabel('mag_g', fontsize=16)\n",
    "plt.xticks(fontsize=16)\n",
    "plt.yticks(fontsize=16)\n",
    "\n",
    "plt.xlim([-0.5, 2.0])\n",
    "plt.ylim([25.5, 16.5])\n",
    "\n",
    "plt.show()"
   ]
  },
  {
   "cell_type": "markdown",
   "id": "82e70927-c666-4b94-808c-3ab53fb205ee",
   "metadata": {},
   "source": [
    "**Note**: The \"quantisation\" of the colours is a consequence of the simulated data that went into producing DP0."
   ]
  },
  {
   "cell_type": "markdown",
   "id": "afd7e09d-d517-4760-bb05-1b737c1b9a0a",
   "metadata": {
    "jp-MarkdownHeadingCollapsed": true
   },
   "source": [
    "## Aside: Known sources in DP0"
   ]
  },
  {
   "cell_type": "markdown",
   "id": "0dd5b529-699e-4309-9ec4-01de1479643c",
   "metadata": {},
   "source": [
    "The DP0 dataset is based on a simulation of the sky, the \"images\" of which have been passed through the LSST Data Release Production pipelines to produces the measurements that we extract from the tables. Since it's based on a simulation, we know everything that went into it (i.e., the \"truth\"), so we know where each object should be, and what type of object it really is.\n",
    "\n",
    "This means that with DP0, we can use this truth information to hone-in on an object that we know will have a meaningful lightcurve - whereby I mean something whose flux changes due to a physical change in the object, not just random noise. In what follows, this is an RR-Lyrae star."
   ]
  },
  {
   "cell_type": "markdown",
   "id": "a7bddace-6693-4d6c-9e63-881d18e26827",
   "metadata": {},
   "source": [
    "## Query the object table again to get the objectId of our object"
   ]
  },
  {
   "cell_type": "code",
   "execution_count": 10,
   "id": "237269c1-8fcf-46ab-9bb6-a6dfbc751333",
   "metadata": {
    "execution": {
     "iopub.execute_input": "2024-01-05T16:53:43.679565Z",
     "iopub.status.busy": "2024-01-05T16:53:43.679240Z",
     "iopub.status.idle": "2024-01-05T16:53:43.682845Z",
     "shell.execute_reply": "2024-01-05T16:53:43.682153Z",
     "shell.execute_reply.started": "2024-01-05T16:53:43.679545Z"
    }
   },
   "outputs": [],
   "source": [
    "known_rrl = \"62.1479031, -35.799138\""
   ]
  },
  {
   "cell_type": "markdown",
   "id": "e6a92b84-2215-4f6d-b492-f8b61776ec05",
   "metadata": {},
   "source": [
    "In the following, I don't have to return the ra and dec, but it's good as a sanity check..."
   ]
  },
  {
   "cell_type": "code",
   "execution_count": 11,
   "id": "a2c95aac-a3c1-4808-8e15-b3afcda95305",
   "metadata": {
    "execution": {
     "iopub.execute_input": "2024-01-05T16:53:43.684065Z",
     "iopub.status.busy": "2024-01-05T16:53:43.683834Z",
     "iopub.status.idle": "2024-01-05T16:53:44.572832Z",
     "shell.execute_reply": "2024-01-05T16:53:44.572218Z",
     "shell.execute_reply.started": "2024-01-05T16:53:43.684047Z"
    }
   },
   "outputs": [
    {
     "data": {
      "text/html": [
       "<div><i>Table length=1</i>\n",
       "<table id=\"table138155009054800\" class=\"table-striped table-bordered table-condensed\">\n",
       "<thead><tr><th>coord_ra</th><th>coord_dec</th><th>objectId</th></tr></thead>\n",
       "<thead><tr><th>deg</th><th>deg</th><th></th></tr></thead>\n",
       "<thead><tr><th>float64</th><th>float64</th><th>int64</th></tr></thead>\n",
       "<tr><td>62.1479018</td><td>-35.7991382</td><td>1651589610221899038</td></tr>\n",
       "</table></div>"
      ],
      "text/plain": [
       "<Table length=1>\n",
       " coord_ra   coord_dec        objectId     \n",
       "   deg         deg                        \n",
       " float64     float64          int64       \n",
       "---------- ----------- -------------------\n",
       "62.1479018 -35.7991382 1651589610221899038"
      ]
     },
     "execution_count": 11,
     "metadata": {},
     "output_type": "execute_result"
    }
   ],
   "source": [
    "my_adql_query = (\n",
    "    \"SELECT TOP 10 \"\n",
    "    \"coord_ra, coord_dec, objectId \"\n",
    "    \"FROM dp02_dc2_catalogs.Object \"\n",
    "    \"WHERE \"\n",
    "    \"CONTAINS(POINT('ICRS', coord_ra, coord_dec), CIRCLE('ICRS',\"+known_rrl + \", 0.001)) = 1 \"\n",
    "    \"AND detect_isPrimary = 1\" #This ensures we ignore sources deblended from the primary detection. \n",
    ")\n",
    "results = service.search(my_adql_query)\n",
    "obj = results.to_table()\n",
    "obj"
   ]
  },
  {
   "cell_type": "code",
   "execution_count": 12,
   "id": "15369b75-6cbe-4bbf-b2d3-b3ac0445c335",
   "metadata": {
    "execution": {
     "iopub.execute_input": "2024-01-05T16:53:44.573804Z",
     "iopub.status.busy": "2024-01-05T16:53:44.573601Z",
     "iopub.status.idle": "2024-01-05T16:53:44.576874Z",
     "shell.execute_reply": "2024-01-05T16:53:44.576248Z",
     "shell.execute_reply.started": "2024-01-05T16:53:44.573788Z"
    }
   },
   "outputs": [],
   "source": [
    "objid = obj[0]['objectId']"
   ]
  },
  {
   "cell_type": "markdown",
   "id": "ff5c4354-8493-40bb-a970-081194fde4a7",
   "metadata": {},
   "source": [
    "## Now use that objectId to query the table containing forced source measurements..."
   ]
  },
  {
   "cell_type": "code",
   "execution_count": 13,
   "id": "7dbe736e-1150-4a37-a0af-ee03657f1e2b",
   "metadata": {
    "execution": {
     "iopub.execute_input": "2024-01-05T16:53:44.577988Z",
     "iopub.status.busy": "2024-01-05T16:53:44.577657Z",
     "iopub.status.idle": "2024-01-05T16:53:45.242744Z",
     "shell.execute_reply": "2024-01-05T16:53:45.242181Z",
     "shell.execute_reply.started": "2024-01-05T16:53:44.577970Z"
    }
   },
   "outputs": [
    {
     "data": {
      "text/html": [
       "<div><i>Table length=115</i>\n",
       "<table id=\"table138155007325072\" class=\"table-striped table-bordered table-condensed\">\n",
       "<thead><tr><th>ccdVisitId</th><th>band</th><th>objectId</th><th>coord_ra</th><th>coord_dec</th><th>psfFlux</th><th>psfFluxErr</th></tr></thead>\n",
       "<thead><tr><th></th><th></th><th></th><th>deg</th><th>deg</th><th>nJy</th><th>nJy</th></tr></thead>\n",
       "<thead><tr><th>int64</th><th>object</th><th>int64</th><th>float64</th><th>float64</th><th>float64</th><th>float64</th></tr></thead>\n",
       "<tr><td>414861046</td><td>r</td><td>1651589610221899038</td><td>62.1479018</td><td>-35.7991382</td><td>131851.1538881</td><td>386.7600372</td></tr>\n",
       "<tr><td>718818112</td><td>r</td><td>1651589610221899038</td><td>62.1479018</td><td>-35.7991382</td><td>170332.2843202</td><td>434.7878455</td></tr>\n",
       "<tr><td>943324129</td><td>r</td><td>1651589610221899038</td><td>62.1479018</td><td>-35.7991382</td><td>146328.0393507</td><td>421.0905817</td></tr>\n",
       "<tr><td>943325140</td><td>r</td><td>1651589610221899038</td><td>62.1479018</td><td>-35.7991382</td><td>147724.9138055</td><td>424.9277484</td></tr>\n",
       "<tr><td>414892047</td><td>r</td><td>1651589610221899038</td><td>62.1479018</td><td>-35.7991382</td><td>129683.0533897</td><td>381.2756228</td></tr>\n",
       "<tr><td>721835057</td><td>r</td><td>1651589610221899038</td><td>62.1479018</td><td>-35.7991382</td><td>176142.8397585</td><td>447.0436574</td></tr>\n",
       "<tr><td>753606017</td><td>r</td><td>1651589610221899038</td><td>62.1479018</td><td>-35.7991382</td><td>141989.9975897</td><td>417.7439037</td></tr>\n",
       "<tr><td>718857011</td><td>r</td><td>1651589610221899038</td><td>62.1479018</td><td>-35.7991382</td><td>165033.4966435</td><td>424.895895</td></tr>\n",
       "<tr><td>942524049</td><td>r</td><td>1651589610221899038</td><td>62.1479018</td><td>-35.7991382</td><td>196675.6886552</td><td>492.641602</td></tr>\n",
       "<tr><td>...</td><td>...</td><td>...</td><td>...</td><td>...</td><td>...</td><td>...</td></tr>\n",
       "<tr><td>1190722116</td><td>r</td><td>1651589610221899038</td><td>62.1479018</td><td>-35.7991382</td><td>240573.2610893</td><td>520.7784538</td></tr>\n",
       "<tr><td>1190721188</td><td>r</td><td>1651589610221899038</td><td>62.1479018</td><td>-35.7991382</td><td>240544.4094369</td><td>521.4679139</td></tr>\n",
       "<tr><td>694252129</td><td>r</td><td>1651589610221899038</td><td>62.1479018</td><td>-35.7991382</td><td>190872.189282</td><td>483.7563158</td></tr>\n",
       "<tr><td>242505175</td><td>r</td><td>1651589610221899038</td><td>62.1479018</td><td>-35.7991382</td><td>138341.7083262</td><td>418.872007</td></tr>\n",
       "<tr><td>909783133</td><td>r</td><td>1651589610221899038</td><td>62.1479018</td><td>-35.7991382</td><td>248375.6569179</td><td>535.0878074</td></tr>\n",
       "<tr><td>1189353161</td><td>r</td><td>1651589610221899038</td><td>62.1479018</td><td>-35.7991382</td><td>166269.0507316</td><td>425.4701664</td></tr>\n",
       "<tr><td>1006094153</td><td>r</td><td>1651589610221899038</td><td>62.1479018</td><td>-35.7991382</td><td>141344.0616791</td><td>465.2816558</td></tr>\n",
       "<tr><td>40327179</td><td>r</td><td>1651589610221899038</td><td>62.1479018</td><td>-35.7991382</td><td>218611.0496335</td><td>493.1499569</td></tr>\n",
       "<tr><td>40326098</td><td>r</td><td>1651589610221899038</td><td>62.1479018</td><td>-35.7991382</td><td>220063.1690177</td><td>494.980312</td></tr>\n",
       "<tr><td>40357015</td><td>r</td><td>1651589610221899038</td><td>62.1479018</td><td>-35.7991382</td><td>214626.2849442</td><td>493.7316488</td></tr>\n",
       "</table></div>"
      ],
      "text/plain": [
       "<Table length=115>\n",
       "ccdVisitId  band        objectId      ...  coord_dec     psfFlux      psfFluxErr\n",
       "                                      ...     deg          nJy           nJy    \n",
       "  int64    object        int64        ...   float64      float64       float64  \n",
       "---------- ------ ------------------- ... ----------- -------------- -----------\n",
       " 414861046      r 1651589610221899038 ... -35.7991382 131851.1538881 386.7600372\n",
       " 718818112      r 1651589610221899038 ... -35.7991382 170332.2843202 434.7878455\n",
       " 943324129      r 1651589610221899038 ... -35.7991382 146328.0393507 421.0905817\n",
       " 943325140      r 1651589610221899038 ... -35.7991382 147724.9138055 424.9277484\n",
       " 414892047      r 1651589610221899038 ... -35.7991382 129683.0533897 381.2756228\n",
       " 721835057      r 1651589610221899038 ... -35.7991382 176142.8397585 447.0436574\n",
       " 753606017      r 1651589610221899038 ... -35.7991382 141989.9975897 417.7439037\n",
       " 718857011      r 1651589610221899038 ... -35.7991382 165033.4966435  424.895895\n",
       " 942524049      r 1651589610221899038 ... -35.7991382 196675.6886552  492.641602\n",
       "       ...    ...                 ... ...         ...            ...         ...\n",
       "1190722116      r 1651589610221899038 ... -35.7991382 240573.2610893 520.7784538\n",
       "1190721188      r 1651589610221899038 ... -35.7991382 240544.4094369 521.4679139\n",
       " 694252129      r 1651589610221899038 ... -35.7991382  190872.189282 483.7563158\n",
       " 242505175      r 1651589610221899038 ... -35.7991382 138341.7083262  418.872007\n",
       " 909783133      r 1651589610221899038 ... -35.7991382 248375.6569179 535.0878074\n",
       "1189353161      r 1651589610221899038 ... -35.7991382 166269.0507316 425.4701664\n",
       "1006094153      r 1651589610221899038 ... -35.7991382 141344.0616791 465.2816558\n",
       "  40327179      r 1651589610221899038 ... -35.7991382 218611.0496335 493.1499569\n",
       "  40326098      r 1651589610221899038 ... -35.7991382 220063.1690177  494.980312\n",
       "  40357015      r 1651589610221899038 ... -35.7991382 214626.2849442 493.7316488"
      ]
     },
     "execution_count": 13,
     "metadata": {},
     "output_type": "execute_result"
    }
   ],
   "source": [
    "my_adql_query = (\n",
    "    \"SELECT ccdVisitId, band, \"\n",
    "    \"objectId, coord_ra, coord_dec, \"\n",
    "    \"psfFlux, psfFluxErr \"\n",
    "    \"FROM dp02_dc2_catalogs.ForcedSource \"\n",
    "    \"WHERE objectId = \"+str(objid) + \" \"\n",
    "    \"AND band = 'r'\" # For simplicity, only return r-band measurements\n",
    ")\n",
    "results = service.search(my_adql_query)\n",
    "srcs = results.to_table()\n",
    "srcs"
   ]
  },
  {
   "cell_type": "markdown",
   "id": "c40fc340-4d51-46fa-afe8-9451d60574cc",
   "metadata": {},
   "source": [
    "## If we want to make a lightcurve, we need temporal information...\n",
    "\n",
    "There isn't any time-of-observation information in the ForcedSource table, so we need to look elsewhere for that. The dp02_dc2_catalogs.CcdVisit table does contain such information, and it also contains the ccdVisitId number that we SELECTed from the ForcedSource table.\n",
    "\n",
    "As such, if we JOIN the ForcedSource and CcdVisit tables on their respective ccdVisitId columns, then we can get source information from the former and time-of-observation data from the latter..."
   ]
  },
  {
   "cell_type": "code",
   "execution_count": 14,
   "id": "6aa34143-091e-482c-8071-94bf998773b9",
   "metadata": {
    "execution": {
     "iopub.execute_input": "2024-01-05T16:53:45.243691Z",
     "iopub.status.busy": "2024-01-05T16:53:45.243482Z",
     "iopub.status.idle": "2024-01-05T16:53:45.695193Z",
     "shell.execute_reply": "2024-01-05T16:53:45.694426Z",
     "shell.execute_reply.started": "2024-01-05T16:53:45.243674Z"
    }
   },
   "outputs": [
    {
     "data": {
      "text/html": [
       "<div><i>Table length=115</i>\n",
       "<table id=\"table138155136984848\" class=\"table-striped table-bordered table-condensed\">\n",
       "<thead><tr><th>ccdVisitId</th><th>band</th><th>objectId</th><th>coord_ra</th><th>coord_dec</th><th>psfFlux</th><th>psfFluxErr</th><th>expMidptMJD</th></tr></thead>\n",
       "<thead><tr><th></th><th></th><th></th><th>deg</th><th>deg</th><th>nJy</th><th>nJy</th><th>d</th></tr></thead>\n",
       "<thead><tr><th>int64</th><th>object</th><th>int64</th><th>float64</th><th>float64</th><th>float64</th><th>float64</th><th>float64</th></tr></thead>\n",
       "<tr><td>414861046</td><td>r</td><td>1651589610221899038</td><td>62.1479018</td><td>-35.7991382</td><td>131851.1538881</td><td>386.7600372</td><td>60166.3331702</td></tr>\n",
       "<tr><td>718818112</td><td>r</td><td>1651589610221899038</td><td>62.1479018</td><td>-35.7991382</td><td>170332.2843202</td><td>434.7878455</td><td>60643.0669522</td></tr>\n",
       "<tr><td>943324129</td><td>r</td><td>1651589610221899038</td><td>62.1479018</td><td>-35.7991382</td><td>146328.0393507</td><td>421.0905817</td><td>60961.2457292</td></tr>\n",
       "<tr><td>943325140</td><td>r</td><td>1651589610221899038</td><td>62.1479018</td><td>-35.7991382</td><td>147724.9138055</td><td>424.9277484</td><td>60961.2461782</td></tr>\n",
       "<tr><td>414892047</td><td>r</td><td>1651589610221899038</td><td>62.1479018</td><td>-35.7991382</td><td>129683.0533897</td><td>381.2756228</td><td>60166.3471312</td></tr>\n",
       "<tr><td>721835057</td><td>r</td><td>1651589610221899038</td><td>62.1479018</td><td>-35.7991382</td><td>176142.8397585</td><td>447.0436574</td><td>60647.1295272</td></tr>\n",
       "<tr><td>753606017</td><td>r</td><td>1651589610221899038</td><td>62.1479018</td><td>-35.7991382</td><td>141989.9975897</td><td>417.7439037</td><td>60693.1292282</td></tr>\n",
       "<tr><td>718857011</td><td>r</td><td>1651589610221899038</td><td>62.1479018</td><td>-35.7991382</td><td>165033.4966435</td><td>424.895895</td><td>60643.0845602</td></tr>\n",
       "<tr><td>942524049</td><td>r</td><td>1651589610221899038</td><td>62.1479018</td><td>-35.7991382</td><td>196675.6886552</td><td>492.641602</td><td>60960.2590562</td></tr>\n",
       "<tr><td>...</td><td>...</td><td>...</td><td>...</td><td>...</td><td>...</td><td>...</td><td>...</td></tr>\n",
       "<tr><td>1190722116</td><td>r</td><td>1651589610221899038</td><td>62.1479018</td><td>-35.7991382</td><td>240573.2610893</td><td>520.7784538</td><td>61325.1789732</td></tr>\n",
       "<tr><td>1190721188</td><td>r</td><td>1651589610221899038</td><td>62.1479018</td><td>-35.7991382</td><td>240544.4094369</td><td>521.4679139</td><td>61325.1785272</td></tr>\n",
       "<tr><td>694252129</td><td>r</td><td>1651589610221899038</td><td>62.1479018</td><td>-35.7991382</td><td>190872.189282</td><td>483.7563158</td><td>60605.3175232</td></tr>\n",
       "<tr><td>242505175</td><td>r</td><td>1651589610221899038</td><td>62.1479018</td><td>-35.7991382</td><td>138341.7083262</td><td>418.872007</td><td>59914.1503912</td></tr>\n",
       "<tr><td>909783133</td><td>r</td><td>1651589610221899038</td><td>62.1479018</td><td>-35.7991382</td><td>248375.6569179</td><td>535.0878074</td><td>60905.3089902</td></tr>\n",
       "<tr><td>1189353161</td><td>r</td><td>1651589610221899038</td><td>62.1479018</td><td>-35.7991382</td><td>166269.0507316</td><td>425.4701664</td><td>61323.3034432</td></tr>\n",
       "<tr><td>1006094153</td><td>r</td><td>1651589610221899038</td><td>62.1479018</td><td>-35.7991382</td><td>141344.0616791</td><td>465.2816558</td><td>61066.1103912</td></tr>\n",
       "<tr><td>40327179</td><td>r</td><td>1651589610221899038</td><td>62.1479018</td><td>-35.7991382</td><td>218611.0496335</td><td>493.1499569</td><td>59634.0870892</td></tr>\n",
       "<tr><td>40326098</td><td>r</td><td>1651589610221899038</td><td>62.1479018</td><td>-35.7991382</td><td>220063.1690177</td><td>494.980312</td><td>59634.0866402</td></tr>\n",
       "<tr><td>40357015</td><td>r</td><td>1651589610221899038</td><td>62.1479018</td><td>-35.7991382</td><td>214626.2849442</td><td>493.7316488</td><td>59634.1007902</td></tr>\n",
       "</table></div>"
      ],
      "text/plain": [
       "<Table length=115>\n",
       "ccdVisitId  band        objectId      ...  psfFluxErr  expMidptMJD \n",
       "                                      ...     nJy           d      \n",
       "  int64    object        int64        ...   float64      float64   \n",
       "---------- ------ ------------------- ... ----------- -------------\n",
       " 414861046      r 1651589610221899038 ... 386.7600372 60166.3331702\n",
       " 718818112      r 1651589610221899038 ... 434.7878455 60643.0669522\n",
       " 943324129      r 1651589610221899038 ... 421.0905817 60961.2457292\n",
       " 943325140      r 1651589610221899038 ... 424.9277484 60961.2461782\n",
       " 414892047      r 1651589610221899038 ... 381.2756228 60166.3471312\n",
       " 721835057      r 1651589610221899038 ... 447.0436574 60647.1295272\n",
       " 753606017      r 1651589610221899038 ... 417.7439037 60693.1292282\n",
       " 718857011      r 1651589610221899038 ...  424.895895 60643.0845602\n",
       " 942524049      r 1651589610221899038 ...  492.641602 60960.2590562\n",
       "       ...    ...                 ... ...         ...           ...\n",
       "1190722116      r 1651589610221899038 ... 520.7784538 61325.1789732\n",
       "1190721188      r 1651589610221899038 ... 521.4679139 61325.1785272\n",
       " 694252129      r 1651589610221899038 ... 483.7563158 60605.3175232\n",
       " 242505175      r 1651589610221899038 ...  418.872007 59914.1503912\n",
       " 909783133      r 1651589610221899038 ... 535.0878074 60905.3089902\n",
       "1189353161      r 1651589610221899038 ... 425.4701664 61323.3034432\n",
       "1006094153      r 1651589610221899038 ... 465.2816558 61066.1103912\n",
       "  40327179      r 1651589610221899038 ... 493.1499569 59634.0870892\n",
       "  40326098      r 1651589610221899038 ...  494.980312 59634.0866402\n",
       "  40357015      r 1651589610221899038 ... 493.7316488 59634.1007902"
      ]
     },
     "execution_count": 14,
     "metadata": {},
     "output_type": "execute_result"
    }
   ],
   "source": [
    "my_adql_query = (\n",
    "    \"SELECT src.ccdVisitId, src.band, \"\n",
    "    \"src.objectId, src.coord_ra, src.coord_dec, \"\n",
    "    \"src.psfFlux, src.psfFluxErr, \"\n",
    "    \"ccd.expMidptMJD \" # This is the time information we want\n",
    "    \"FROM dp02_dc2_catalogs.ForcedSource as src \"\n",
    "    \"JOIN dp02_dc2_catalogs.CcdVisit as ccd \"\n",
    "    \"ON ccd.ccdVisitId = src.ccdVisitId \"\n",
    "    \"WHERE src.objectId = \"+str(objid) + \" \"\n",
    "    \"AND src.band = 'r'\"\n",
    ")\n",
    "results = service.search(my_adql_query)\n",
    "srcs = results.to_table()\n",
    "srcs"
   ]
  },
  {
   "cell_type": "markdown",
   "id": "65288453-93dd-4af9-9a85-0d035929522d",
   "metadata": {},
   "source": [
    "## Create a plot of r-band magnitude vs. time (aka the r-band lightcurve)"
   ]
  },
  {
   "cell_type": "code",
   "execution_count": 15,
   "id": "93a4a741-5fa5-4f72-9d3b-10ca174e626a",
   "metadata": {
    "execution": {
     "iopub.execute_input": "2024-01-05T16:53:45.696399Z",
     "iopub.status.busy": "2024-01-05T16:53:45.696177Z",
     "iopub.status.idle": "2024-01-05T16:53:46.066975Z",
     "shell.execute_reply": "2024-01-05T16:53:46.066389Z",
     "shell.execute_reply.started": "2024-01-05T16:53:45.696381Z"
    }
   },
   "outputs": [
    {
     "data": {
      "image/png": "[encoded data removed]",
      "text/plain": [
       "<Figure size 600x400 with 1 Axes>"
      ]
     },
     "metadata": {},
     "output_type": "display_data"
    }
   ],
   "source": [
    "fig = plt.figure(figsize=(6, 4))\n",
    "plt.plot(srcs['expMidptMJD'], fluxToMag(srcs['psfFlux']), 'k.', ms=10)\n",
    "plt.minorticks_on()\n",
    "plt.xlabel('MJD (days)')\n",
    "plt.ylabel('r-band mag')\n",
    "plt.gca().invert_yaxis()\n",
    "plt.show()"
   ]
  },
  {
   "cell_type": "markdown",
   "id": "eb6db031-ce31-49f6-adf5-40af802747b2",
   "metadata": {},
   "source": [
    "## Aside: Making a phased lightcure plot\n",
    "\n",
    "We've now done everything we need to with regard to querying tables for this part of the Intro To RSP session, so what follows is just something a little extra for completeness... \n",
    "\n",
    "There's clearly some periodicity in the above lightcurve, so a nicer thing to make is a phased lightcure, whereby the time axis is \"looped round\" after each full cycle.\n",
    "\n",
    "I happen to know that the period of this particular simulated RR-Lyrae is 0.50953 days*, which I can use with the existing temporal information to create a phased lightcurve...\n",
    "\n",
    "*see DP0 Tutorial Notebook 7b for how this was calculated"
   ]
  },
  {
   "cell_type": "code",
   "execution_count": 16,
   "id": "c2f94585-4cf5-4d68-b7a2-7a84f9b63e82",
   "metadata": {
    "execution": {
     "iopub.execute_input": "2024-01-05T16:53:46.067971Z",
     "iopub.status.busy": "2024-01-05T16:53:46.067764Z",
     "iopub.status.idle": "2024-01-05T16:53:46.300393Z",
     "shell.execute_reply": "2024-01-05T16:53:46.299544Z",
     "shell.execute_reply.started": "2024-01-05T16:53:46.067954Z"
    }
   },
   "outputs": [
    {
     "data": {
      "image/png": "[encoded data removed]",
      "text/plain": [
       "<Figure size 640x480 with 1 Axes>"
      ]
     },
     "metadata": {},
     "output_type": "display_data"
    }
   ],
   "source": [
    "period = 0.50953\n",
    "phase = np.mod(srcs['expMidptMJD'] / period, 1.0)\n",
    "\n",
    "plt.plot(phase, fluxToMag(srcs['psfFlux']), 'k.', ms=10)\n",
    "plt.minorticks_on()\n",
    "plt.xlabel('Phase')\n",
    "plt.ylabel('r-band mag')\n",
    "plt.gca().invert_yaxis()\n",
    "plt.show()"
   ]
  },
  {
   "cell_type": "markdown",
   "id": "6342945f-4915-4066-bebc-3774b059b9f1",
   "metadata": {},
   "source": [
    "## Aside: How to retrieve magnitudes directly from a query...\n",
    "\n",
    "In the above notebook, I defined a function `fluxToMag()` to convert fluxes in nJy to magnitudes. However, as I mentioned above, it's possible to get an ADQL query to return magnitudes directly (provided the necessary plugins have been installed which, in the case of the RSP, they have).\n",
    "\n",
    "To return mags instead of fluxes, simply wrap the flux column name in the SELECT block with `scisql_nanojanskyToAbMag()`. If you want it to also return error estimates on those magnitudes, you can use `scisql_nanojanskyToAbMagSigma()`, but you need to include **both** the flux and the flux error within the brackets (this is a consequence of how errors-on-magnitudes are calculated).\n",
    "\n",
    "Using this, my object table query - which now also returns errors on the g-band mag to demonstrate this feature - becomes..."
   ]
  },
  {
   "cell_type": "code",
   "execution_count": null,
   "id": "3ffbc5eb-45e3-4657-adba-fa2e5abae49d",
   "metadata": {
    "execution": {
     "iopub.execute_input": "2024-01-05T16:53:46.301516Z",
     "iopub.status.busy": "2024-01-05T16:53:46.301272Z"
    }
   },
   "outputs": [],
   "source": [
    "my_adql_query = (\n",
    "    \"SELECT TOP 200 \"\n",
    "    \"coord_ra, coord_dec, \"\n",
    "    \"scisql_nanojanskyToAbMag(g_calibFlux) as gMag, \"\n",
    "    \"scisql_nanojanskyToAbMagSigma(g_calibFlux, g_calibFluxErr) as gMagErr, \"\n",
    "    \"scisql_nanojanskyToAbMag(r_calibFlux) as rMag, \"\n",
    "    \"scisql_nanojanskyToAbMag(i_calibFlux) as iMag \"\n",
    "    \"FROM dp02_dc2_catalogs.Object \"\n",
    "    \"WHERE \"\n",
    "    \"CONTAINS(POINT('ICRS', coord_ra, coord_dec), CIRCLE('ICRS', 62.0, -37.0, 1.0)) = 1 \"\n",
    "    \"AND g_calibFlux > 360 AND r_calibFlux > 360 AND i_calibFlux > 360\"\n",
    "    \"AND g_extendedness = 0 \"\n",
    ")\n",
    "results = service.search(my_adql_query)\n",
    "table = results.to_table().to_pandas()\n",
    "table"
   ]
  },
  {
   "cell_type": "code",
   "execution_count": null,
   "id": "6712eebf-ba0c-40dd-bc2c-c177a2d711d1",
   "metadata": {},
   "outputs": [],
   "source": []
  }
 ],
 "metadata": {
  "kernelspec": {
   "display_name": "LSST",
   "language": "python",
   "name": "lsst"
  },
  "language_info": {
   "codemirror_mode": {
    "name": "ipython",
    "version": 3
   },
   "file_extension": ".py",
   "mimetype": "text/x-python",
   "name": "python",
   "nbconvert_exporter": "python",
   "pygments_lexer": "ipython3",
   "version": "3.11.7"
  }
 },
 "nbformat": 4,
 "nbformat_minor": 5
}
