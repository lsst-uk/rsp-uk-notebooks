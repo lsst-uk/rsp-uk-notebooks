{
 "cells": [
  {
   "cell_type": "markdown",
   "id": "d1d0403f-ee26-4fa3-9815-1151b04c461b",
   "metadata": {},
   "source": [
    "# Session 3: A deeper dive into imaging data"
   ]
  },
  {
   "cell_type": "markdown",
   "id": "e25ce32c-2225-4551-952a-d43a514d60b0",
   "metadata": {},
   "source": [
    "## Aside: Introduction"
   ]
  },
  {
   "cell_type": "markdown",
   "id": "6f353e00-4e87-41f0-8475-baf6e0fef55f",
   "metadata": {},
   "source": [
    "In the previous session, we saw how we could retrieve and display images from the survey. We also saw how we could extract metadata to convert pixel coordinates to WCS coordinates, then retrieve a list of sources detected within an image and overlay them as points.\n",
    "\n",
    "While many use cases will be satisfied with the analysis performed by the Data Release Processing pipeline, there may come times when one wants to tweak some of the default analysis. Having access to pixel-level data does, of course, mean one can use whatever bespoke packages and analysis one wishes. There are, however, benefits in utilising the LSST Software Stack to re-perform some analysis, not least in terms of ensuring consistency, which is critical should one wish to adjust an intermediate analysis step then feed the data back into the pipeline for subsequent steps.\n",
    "\n",
    "In this notebook, we'll start by retrieving a calibrated image, take a look at some more of its associated metadata (specifically its pixel mask), before adjusting some of the source detection config parameters and the re-performing the source detection step using the re-configured parameters.\n",
    "\n",
    "**Note:** Again, most of what's here is a re-writing of what's available in the DP0 Tutorials, notably Tutorial Notebook 05."
   ]
  },
  {
   "cell_type": "markdown",
   "id": "fea60f5f-4c3e-41de-ac88-f82a03581bea",
   "metadata": {},
   "source": [
    "## As per usual, start with importing the required modules...\n",
    "\n",
    "For now, don't worry about the LSST Pipeline Task modules, we'll look at those in more detail as we use them. "
   ]
  },
  {
   "cell_type": "code",
   "execution_count": 1,
   "id": "f074a711-2bf1-45ea-8efc-45a1a1097110",
   "metadata": {
    "execution": {
     "iopub.execute_input": "2024-01-09T15:23:14.313582Z",
     "iopub.status.busy": "2024-01-09T15:23:14.313397Z",
     "iopub.status.idle": "2024-01-09T15:23:19.480147Z",
     "shell.execute_reply": "2024-01-09T15:23:19.479519Z",
     "shell.execute_reply.started": "2024-01-09T15:23:14.313566Z"
    }
   },
   "outputs": [],
   "source": [
    "# Butler module\n",
    "from lsst.daf.butler import Butler\n",
    "\n",
    "# Displaying modules and setting plot parameters\n",
    "import matplotlib.pyplot as plt\n",
    "import lsst.afw.display as afwDisplay\n",
    "\n",
    "# Table modules\n",
    "import lsst.afw.table as afwTable\n",
    "\n",
    "# Base modules:\n",
    "import lsst.daf.base as dafBase\n",
    "\n",
    "# LSST Pipeline tasks\n",
    "from lsst.meas.algorithms.detection import SourceDetectionTask\n",
    "from lsst.meas.deblender import SourceDeblendTask\n",
    "from lsst.meas.base import SingleFrameMeasurementTask"
   ]
  },
  {
   "cell_type": "markdown",
   "id": "c8d2a5b7-c035-4f0a-b28e-9c716744c662",
   "metadata": {},
   "source": [
    "## Instantiate a butler, and retrieve a calibrated exposure (calexp)"
   ]
  },
  {
   "cell_type": "code",
   "execution_count": 2,
   "id": "8ffd816e-e5b4-42ab-a825-92be05f770b2",
   "metadata": {
    "execution": {
     "iopub.execute_input": "2024-01-09T15:23:19.483386Z",
     "iopub.status.busy": "2024-01-09T15:23:19.483205Z",
     "iopub.status.idle": "2024-01-09T15:23:22.547089Z",
     "shell.execute_reply": "2024-01-09T15:23:22.546440Z",
     "shell.execute_reply.started": "2024-01-09T15:23:19.483370Z"
    }
   },
   "outputs": [],
   "source": [
    "# For DP0.2, we want the following configuration and collection:\n",
    "config = \"dp02\"\n",
    "collection = '2.2i/runs/DP0.2'\n",
    "\n",
    "butler = Butler(config=config, collections=collection)\n",
    "\n",
    "dataId = {'visit': 512055, 'detector': 75}\n",
    "calexp = butler.get('calexp', dataId=dataId)"
   ]
  },
  {
   "cell_type": "markdown",
   "id": "62208164-3668-48f4-8158-37af21d1170b",
   "metadata": {
    "jp-MarkdownHeadingCollapsed": true
   },
   "source": [
    "## Aside: Interactive image viewing with Firefly"
   ]
  },
  {
   "cell_type": "markdown",
   "id": "d62bbb13-9539-40c0-ba2e-5be7a447f9c6",
   "metadata": {},
   "source": [
    "So far, we've only displayed images in-line within notebooks. While this is useful for quick-looks, the ability to interactively explore an image cannot be understated. And while you're unlikely to want to view the millions of images that the LSST will contain, viewing some for sanity checks is incredibly useful. For this reason, the RSP contains an in-built interactive image viewer - FireFly - which you can start-up from a notebook.   "
   ]
  },
  {
   "cell_type": "markdown",
   "id": "579a2a8e-0203-41b4-828a-cb1ff8e4ad60",
   "metadata": {},
   "source": [
    "## View the calexp using FireFly..."
   ]
  },
  {
   "cell_type": "code",
   "execution_count": 3,
   "id": "8d2f98e1-ba83-4c22-b5bb-bec87fefa0c5",
   "metadata": {
    "execution": {
     "iopub.execute_input": "2024-01-09T15:23:22.551293Z",
     "iopub.status.busy": "2024-01-09T15:23:22.551046Z",
     "iopub.status.idle": "2024-01-09T15:23:22.553773Z",
     "shell.execute_reply": "2024-01-09T15:23:22.553275Z",
     "shell.execute_reply.started": "2024-01-09T15:23:22.551275Z"
    }
   },
   "outputs": [],
   "source": [
    "#afwDisplay.setDefaultBackend('firefly')\n",
    "#afw_display = afwDisplay.Display(frame=1)\n",
    "#afw_display.mtv(calexp)"
   ]
  },
  {
   "cell_type": "markdown",
   "id": "c4ee4503-4ed1-40f0-84d3-d034a15c405d",
   "metadata": {
    "execution": {
     "iopub.execute_input": "2024-01-09T11:19:15.303966Z",
     "iopub.status.busy": "2024-01-09T11:19:15.303023Z",
     "iopub.status.idle": "2024-01-09T11:19:15.308073Z",
     "shell.execute_reply": "2024-01-09T11:19:15.307446Z",
     "shell.execute_reply.started": "2024-01-09T11:19:15.303925Z"
    },
    "jp-MarkdownHeadingCollapsed": true
   },
   "source": [
    "## Aside: Pixel mask metadata"
   ]
  },
  {
   "cell_type": "markdown",
   "id": "fa3fd0c7-3538-4580-8f48-a9375e300daa",
   "metadata": {
    "execution": {
     "iopub.execute_input": "2024-01-09T11:19:15.303966Z",
     "iopub.status.busy": "2024-01-09T11:19:15.303023Z",
     "iopub.status.idle": "2024-01-09T11:19:15.308073Z",
     "shell.execute_reply": "2024-01-09T11:19:15.307446Z",
     "shell.execute_reply.started": "2024-01-09T11:19:15.303925Z"
    }
   },
   "source": [
    "A calexp is exactly that: a calibrated exposure. In order for the calibration step to take place, sources must be detected in the exposure in order to be compared to known reference sources that are used for calibration. Because the LSST Data Processing pipeline is extremely good at \"book-keeping\" -- by which I mean keeping track of all steps and the products of those steps -- it keeps a record which pixels in an image are associated with a detected source. This record is in the form of a pixel mask, which is contained as metadata associated (i.e., within) the calexp object.\n",
    "\n",
    "Since, however, we are going to re-perform the source detection step in this notebook, we first need to remove the existing detection pixel mask to ensure we start with a clean slate..."
   ]
  },
  {
   "cell_type": "markdown",
   "id": "209adc08-5cd9-4191-8116-ce28275b4618",
   "metadata": {},
   "source": [
    "## Clear the existing 'DETECTED' pixel mask\n",
    "\n",
    "But first, what number is associated with the 'DETECTED' mask?"
   ]
  },
  {
   "cell_type": "code",
   "execution_count": 4,
   "id": "30849259-a223-40ae-a92b-0c28907f12d9",
   "metadata": {
    "execution": {
     "iopub.execute_input": "2024-01-09T15:23:22.565947Z",
     "iopub.status.busy": "2024-01-09T15:23:22.565773Z",
     "iopub.status.idle": "2024-01-09T15:23:22.572104Z",
     "shell.execute_reply": "2024-01-09T15:23:22.571591Z",
     "shell.execute_reply.started": "2024-01-09T15:23:22.565930Z"
    }
   },
   "outputs": [
    {
     "data": {
      "text/plain": [
       "{'BAD': 0,\n",
       " 'CR': 3,\n",
       " 'CROSSTALK': 9,\n",
       " 'DETECTED': 5,\n",
       " 'DETECTED_NEGATIVE': 6,\n",
       " 'EDGE': 4,\n",
       " 'INTRP': 2,\n",
       " 'NOT_DEBLENDED': 10,\n",
       " 'NO_DATA': 8,\n",
       " 'SAT': 1,\n",
       " 'SUSPECT': 7,\n",
       " 'UNMASKEDNAN': 11}"
      ]
     },
     "execution_count": 4,
     "metadata": {},
     "output_type": "execute_result"
    }
   ],
   "source": [
    "calexp.mask.getMaskPlaneDict()"
   ]
  },
  {
   "cell_type": "code",
   "execution_count": 5,
   "id": "968a0d9c-94c1-4349-8037-e77c48ee88d8",
   "metadata": {
    "execution": {
     "iopub.execute_input": "2024-01-09T15:23:22.573001Z",
     "iopub.status.busy": "2024-01-09T15:23:22.572732Z",
     "iopub.status.idle": "2024-01-09T15:23:22.591474Z",
     "shell.execute_reply": "2024-01-09T15:23:22.590844Z",
     "shell.execute_reply.started": "2024-01-09T15:23:22.572976Z"
    }
   },
   "outputs": [],
   "source": [
    "calexp.mask.clearMaskPlane(5)"
   ]
  },
  {
   "cell_type": "markdown",
   "id": "6607fd8a-76fd-4d86-8e4c-77e9be51a642",
   "metadata": {},
   "source": [
    "## And re-display the image..."
   ]
  },
  {
   "cell_type": "code",
   "execution_count": 6,
   "id": "64632688-bd0d-40df-9200-43904204af6c",
   "metadata": {
    "execution": {
     "iopub.execute_input": "2024-01-09T15:23:22.592499Z",
     "iopub.status.busy": "2024-01-09T15:23:22.592241Z",
     "iopub.status.idle": "2024-01-09T15:23:22.604850Z",
     "shell.execute_reply": "2024-01-09T15:23:22.604334Z",
     "shell.execute_reply.started": "2024-01-09T15:23:22.592481Z"
    }
   },
   "outputs": [],
   "source": [
    "#afw_display.mtv(calexp)"
   ]
  },
  {
   "cell_type": "markdown",
   "id": "7a3cf1b1-6442-431d-811e-d225c90aa39e",
   "metadata": {},
   "source": [
    "## But, actually, we need to entirely remove the DETECTED mask plane..."
   ]
  },
  {
   "cell_type": "code",
   "execution_count": 7,
   "id": "33a070b0-2b97-439e-a8b9-62b85a764337",
   "metadata": {
    "execution": {
     "iopub.execute_input": "2024-01-09T15:23:22.605770Z",
     "iopub.status.busy": "2024-01-09T15:23:22.605586Z",
     "iopub.status.idle": "2024-01-09T15:23:22.624392Z",
     "shell.execute_reply": "2024-01-09T15:23:22.623762Z",
     "shell.execute_reply.started": "2024-01-09T15:23:22.605754Z"
    }
   },
   "outputs": [],
   "source": [
    "calexp.mask.removeAndClearMaskPlane('DETECTED')"
   ]
  },
  {
   "cell_type": "markdown",
   "id": "843bf625-1deb-405f-9ffc-981c27478f9c",
   "metadata": {},
   "source": [
    "# Source detection\n",
    "\n",
    "We're now going to perform our own source detection on the above calexp using a re-configured version of the pipeline's detection algorithm."
   ]
  },
  {
   "cell_type": "markdown",
   "id": "3b08b2a9-6f32-4a48-a144-397f2823bc96",
   "metadata": {
    "jp-MarkdownHeadingCollapsed": true
   },
   "source": [
    "## Aside: Table schemas"
   ]
  },
  {
   "cell_type": "markdown",
   "id": "e0ada523-bd79-457d-80d3-aceca21fcd1e",
   "metadata": {},
   "source": [
    "Before we can perform source detection, the data processing software needs to first know what properties of the sources you wish it to measure and put into a table. This information is provided by a \"Table Schema\". As you'll see, we'll build-up the table schema as we go along, but first we need to create a minimal schema that contains the absolute minimum information that will be delivered for each source: unique ID number, position, and ID of any parent source (if deblended)..."
   ]
  },
  {
   "cell_type": "markdown",
   "id": "9d76d678-cfe0-44d4-8132-98c4c149d390",
   "metadata": {},
   "source": [
    "## Create a minimal schema..."
   ]
  },
  {
   "cell_type": "code",
   "execution_count": 8,
   "id": "d43f6652-9212-4a96-9ef7-ba66f70ffc4d",
   "metadata": {
    "execution": {
     "iopub.execute_input": "2024-01-09T15:23:24.347138Z",
     "iopub.status.busy": "2024-01-09T15:23:24.346877Z",
     "iopub.status.idle": "2024-01-09T15:23:24.349795Z",
     "shell.execute_reply": "2024-01-09T15:23:24.349322Z",
     "shell.execute_reply.started": "2024-01-09T15:23:24.347122Z"
    }
   },
   "outputs": [],
   "source": [
    "schema = afwTable.SourceTable.makeMinimalSchema()\n",
    "#schema ## Check out what's in a minimal schema, if you like."
   ]
  },
  {
   "cell_type": "markdown",
   "id": "2f8ea7b7-c2ad-495d-b8d8-1fd9fc84b52a",
   "metadata": {
    "jp-MarkdownHeadingCollapsed": true
   },
   "source": [
    "## Aside: Tasks, and their configurations"
   ]
  },
  {
   "cell_type": "markdown",
   "id": "f16ab0f4-1363-4087-8d6a-e5687644e381",
   "metadata": {},
   "source": [
    "One can think of the Data Processing pipeline as a series of tasks that is performed on the incoming raw exposures to produce the ultimate outputs (e.g., calibrated images and source tables). Each one of these tasks has a set of configuration parameters (their `ConfigClass`). Most of the time these parameters are set at default values, but it is possible to access them, alter them, and re-run the task with the reconfigured parameters.\n",
    "\n",
    "Below, we obtain the config object from the SourceDetectionTask, re-define the detection threshold, then re-upload the new config object."
   ]
  },
  {
   "cell_type": "markdown",
   "id": "8d73ed0b-2d0f-4c9d-9473-a32e43f3b37d",
   "metadata": {},
   "source": [
    "## Grab the source detection config object from the task,..."
   ]
  },
  {
   "cell_type": "code",
   "execution_count": 9,
   "id": "23dbb918-27b0-4f70-8413-ff9649c11a92",
   "metadata": {
    "execution": {
     "iopub.execute_input": "2024-01-09T15:23:24.350714Z",
     "iopub.status.busy": "2024-01-09T15:23:24.350454Z",
     "iopub.status.idle": "2024-01-09T15:23:24.369501Z",
     "shell.execute_reply": "2024-01-09T15:23:24.368996Z",
     "shell.execute_reply.started": "2024-01-09T15:23:24.350698Z"
    }
   },
   "outputs": [],
   "source": [
    "config = SourceDetectionTask.ConfigClass()\n",
    "#help(config) ## And see what config parameters you can alter, if you want."
   ]
  },
  {
   "cell_type": "markdown",
   "id": "644a029e-3e7e-4d45-9cbe-ea49f5254cc7",
   "metadata": {},
   "source": [
    "## ...re-define the threshold parameter..."
   ]
  },
  {
   "cell_type": "code",
   "execution_count": 10,
   "id": "5a861843-d803-4282-8f65-eaa3a916dc28",
   "metadata": {
    "execution": {
     "iopub.execute_input": "2024-01-09T15:23:28.186349Z",
     "iopub.status.busy": "2024-01-09T15:23:28.185621Z",
     "iopub.status.idle": "2024-01-09T15:23:28.189107Z",
     "shell.execute_reply": "2024-01-09T15:23:28.188550Z",
     "shell.execute_reply.started": "2024-01-09T15:23:28.186324Z"
    }
   },
   "outputs": [],
   "source": [
    "config.thresholdValue = 100 # The default is 5-sigma; here I'm redefining it as 100-stddev!\n",
    "config.thresholdType = 'stdev'"
   ]
  },
  {
   "cell_type": "markdown",
   "id": "268c2da7-8064-4f38-998e-d6141410dec9",
   "metadata": {
    "execution": {
     "iopub.execute_input": "2024-01-09T13:42:07.422440Z",
     "iopub.status.busy": "2024-01-09T13:42:07.421724Z",
     "iopub.status.idle": "2024-01-09T13:42:07.426482Z",
     "shell.execute_reply": "2024-01-09T13:42:07.425818Z",
     "shell.execute_reply.started": "2024-01-09T13:42:07.422413Z"
    }
   },
   "source": [
    "## ...and instantiate a new source detection task with the new config and schema."
   ]
  },
  {
   "cell_type": "code",
   "execution_count": 11,
   "id": "a533d0aa-f96b-4827-bb14-3fb417cb3425",
   "metadata": {
    "execution": {
     "iopub.execute_input": "2024-01-09T15:23:30.435933Z",
     "iopub.status.busy": "2024-01-09T15:23:30.435297Z",
     "iopub.status.idle": "2024-01-09T15:23:30.439145Z",
     "shell.execute_reply": "2024-01-09T15:23:30.438583Z",
     "shell.execute_reply.started": "2024-01-09T15:23:30.435907Z"
    }
   },
   "outputs": [],
   "source": [
    "sourceDetectionTask = SourceDetectionTask(schema=schema, config=config)"
   ]
  },
  {
   "cell_type": "markdown",
   "id": "9ca0ffe3-5674-4427-b28d-2bb175b8b881",
   "metadata": {},
   "source": [
    "## Do the same for the source deblender task..."
   ]
  },
  {
   "cell_type": "code",
   "execution_count": 12,
   "id": "b3061f64-6aa3-4e8a-bb6a-702153aefa36",
   "metadata": {
    "execution": {
     "iopub.execute_input": "2024-01-09T15:23:31.764051Z",
     "iopub.status.busy": "2024-01-09T15:23:31.763745Z",
     "iopub.status.idle": "2024-01-09T15:23:31.768609Z",
     "shell.execute_reply": "2024-01-09T15:23:31.767890Z",
     "shell.execute_reply.started": "2024-01-09T15:23:31.764031Z"
    }
   },
   "outputs": [],
   "source": [
    "config = SourceDeblendTask.ConfigClass() # We're just using the default config, so technically this isn't needed.\n",
    "sourceDeblendTask = SourceDeblendTask(schema=schema, config=config)\n",
    "#schema ## Notice how the schema \"grows\" as we add more tasks."
   ]
  },
  {
   "cell_type": "markdown",
   "id": "063e80c6-9ccd-4049-8414-3b49c6d63d71",
   "metadata": {},
   "source": [
    "## ...and the source measurement task."
   ]
  },
  {
   "cell_type": "code",
   "execution_count": 14,
   "id": "4c2f5a11-0fb1-400c-b969-c71d532ae670",
   "metadata": {
    "execution": {
     "iopub.execute_input": "2024-01-09T15:23:54.574179Z",
     "iopub.status.busy": "2024-01-09T15:23:54.573337Z",
     "iopub.status.idle": "2024-01-09T15:23:54.595234Z",
     "shell.execute_reply": "2024-01-09T15:23:54.594469Z",
     "shell.execute_reply.started": "2024-01-09T15:23:54.574144Z"
    }
   },
   "outputs": [],
   "source": [
    "config = SingleFrameMeasurementTask.ConfigClass() # Again, this isn't technically needed.\n",
    "sourceMeasurementTask = SingleFrameMeasurementTask(schema=schema, config=config)"
   ]
  },
  {
   "cell_type": "markdown",
   "id": "8f645552-580a-471b-8b83-45c3189ef056",
   "metadata": {},
   "source": [
    "## And finally (for this part at least), make an empty table using the schema which will hold our results..."
   ]
  },
  {
   "cell_type": "code",
   "execution_count": 15,
   "id": "94176f52-fbd9-44f4-8ec0-3a2c73eae16a",
   "metadata": {
    "execution": {
     "iopub.execute_input": "2024-01-09T15:23:56.796000Z",
     "iopub.status.busy": "2024-01-09T15:23:56.795613Z",
     "iopub.status.idle": "2024-01-09T15:23:56.799662Z",
     "shell.execute_reply": "2024-01-09T15:23:56.799072Z",
     "shell.execute_reply.started": "2024-01-09T15:23:56.795976Z"
    }
   },
   "outputs": [],
   "source": [
    "sourceTable = afwTable.SourceTable.make(schema)"
   ]
  },
  {
   "cell_type": "markdown",
   "id": "27bd3c21-668b-43ea-a4cb-1bf01c230500",
   "metadata": {},
   "source": [
    "## First, run the source detection task,...\n",
    "Providing it with the sourceTable, which informs the task of the schema..."
   ]
  },
  {
   "cell_type": "code",
   "execution_count": 16,
   "id": "d20c5a45-0825-4f89-9470-4acb4115f2af",
   "metadata": {
    "execution": {
     "iopub.execute_input": "2024-01-09T15:23:57.717913Z",
     "iopub.status.busy": "2024-01-09T15:23:57.717629Z",
     "iopub.status.idle": "2024-01-09T15:24:02.004956Z",
     "shell.execute_reply": "2024-01-09T15:24:02.004384Z",
     "shell.execute_reply.started": "2024-01-09T15:23:57.717885Z"
    }
   },
   "outputs": [
    {
     "data": {
      "text/html": [
       "<pre style=\"margin: 0.1em;\n",
       "padding-left: 0.25em;\n",
       "border-left-style: solid;\n",
       "font-family: var(--jp-code-font-family);\n",
       "font-size: var(--jp-code-font-size);\n",
       "line-height: var(--jp-code-line-height);\n",
       "\"><span style=\"color: var(--jp-warn-color2)\">lsst.sourceDetection</span> <span style=\"color: var(--jp-info-color0)\">INFO</span>: Setting factor for negative detections equal to that for positive detections: 1.000000</pre>"
      ],
      "text/plain": [
       "<IPython.core.display.HTML object>"
      ]
     },
     "metadata": {},
     "output_type": "display_data"
    },
    {
     "data": {
      "text/html": [
       "<pre style=\"margin: 0.1em;\n",
       "padding-left: 0.25em;\n",
       "border-left-style: solid;\n",
       "font-family: var(--jp-code-font-family);\n",
       "font-size: var(--jp-code-font-size);\n",
       "line-height: var(--jp-code-line-height);\n",
       "\"><span style=\"color: var(--jp-warn-color2)\">lsst.sourceDetection</span> <span style=\"color: var(--jp-info-color0)\">INFO</span>: Detected 150 positive peaks in 139 footprints and 0 negative peaks in 0 footprints to 100 +ve and 100 -ve sigma</pre>"
      ],
      "text/plain": [
       "<IPython.core.display.HTML object>"
      ]
     },
     "metadata": {},
     "output_type": "display_data"
    },
    {
     "data": {
      "text/html": [
       "<pre style=\"margin: 0.1em;\n",
       "padding-left: 0.25em;\n",
       "border-left-style: solid;\n",
       "font-family: var(--jp-code-font-family);\n",
       "font-size: var(--jp-code-font-size);\n",
       "line-height: var(--jp-code-line-height);\n",
       "\"><span style=\"color: var(--jp-warn-color2)\">lsst.sourceDetection</span> <span style=\"color: var(--jp-info-color0)\">INFO</span>: Resubtracting the background after object detection</pre>"
      ],
      "text/plain": [
       "<IPython.core.display.HTML object>"
      ]
     },
     "metadata": {},
     "output_type": "display_data"
    }
   ],
   "source": [
    "result = sourceDetectionTask.run(sourceTable, calexp)"
   ]
  },
  {
   "cell_type": "markdown",
   "id": "7d7fe814-7b85-4b64-bbc1-37b6b8f9e8d3",
   "metadata": {},
   "source": [
    "## ...and check the outputs."
   ]
  },
  {
   "cell_type": "code",
   "execution_count": 17,
   "id": "0a3ff826-f142-48cd-8b04-6b0b224c7c68",
   "metadata": {
    "execution": {
     "iopub.execute_input": "2024-01-09T15:24:02.858032Z",
     "iopub.status.busy": "2024-01-09T15:24:02.857284Z",
     "iopub.status.idle": "2024-01-09T15:24:02.861048Z",
     "shell.execute_reply": "2024-01-09T15:24:02.860484Z",
     "shell.execute_reply.started": "2024-01-09T15:24:02.857999Z"
    }
   },
   "outputs": [],
   "source": [
    "#help(result) ## The help function tells you to use the getDict() method to see what's in \"results\".\n",
    "#result.getDict() ## Use .getDict() to see what you can extract from \"results\".\n",
    "sources = result.sources"
   ]
  },
  {
   "cell_type": "markdown",
   "id": "ab96a8df-7f66-4a20-9a7c-30a463060455",
   "metadata": {
    "jp-MarkdownHeadingCollapsed": true
   },
   "source": [
    "## Aside: Why do none of my detected sources have coordinates?"
   ]
  },
  {
   "cell_type": "markdown",
   "id": "0a9d6257-c963-41b4-9a35-4828ee1d0cbb",
   "metadata": {},
   "source": [
    "You'll notice from the table above that none of sources returned by the detection algorithm have coordinates. Why is this? Well, coordinates are a *measured* property, whereas so far we've performed the *detection* step. As such, those coordinate columns will be populated with values once we've *measured* the detected sources. In that case, how does the measuring task know where our detected sources are? The pixel coordinates of the detected sources are in there: try executing `results.positive` (for positive 100-stddev outliers) instead of `result.sources`."
   ]
  },
  {
   "cell_type": "markdown",
   "id": "b187f2fa-ee94-4954-b996-86255023f53d",
   "metadata": {},
   "source": [
    "## Run the deblend task"
   ]
  },
  {
   "cell_type": "code",
   "execution_count": 18,
   "id": "5491bd3c-a86b-40dc-992d-1711493c200e",
   "metadata": {
    "execution": {
     "iopub.execute_input": "2024-01-09T15:24:05.136268Z",
     "iopub.status.busy": "2024-01-09T15:24:05.135630Z",
     "iopub.status.idle": "2024-01-09T15:24:05.634451Z",
     "shell.execute_reply": "2024-01-09T15:24:05.633924Z",
     "shell.execute_reply.started": "2024-01-09T15:24:05.136241Z"
    }
   },
   "outputs": [
    {
     "data": {
      "text/html": [
       "<pre style=\"margin: 0.1em;\n",
       "padding-left: 0.25em;\n",
       "border-left-style: solid;\n",
       "font-family: var(--jp-code-font-family);\n",
       "font-size: var(--jp-code-font-size);\n",
       "line-height: var(--jp-code-line-height);\n",
       "\"><span style=\"color: var(--jp-warn-color2)\">lsst.sourceDeblend</span> <span style=\"color: var(--jp-info-color0)\">INFO</span>: Deblending 139 sources</pre>"
      ],
      "text/plain": [
       "<IPython.core.display.HTML object>"
      ]
     },
     "metadata": {},
     "output_type": "display_data"
    },
    {
     "data": {
      "text/html": [
       "<pre style=\"margin: 0.1em;\n",
       "padding-left: 0.25em;\n",
       "border-left-style: solid;\n",
       "font-family: var(--jp-code-font-family);\n",
       "font-size: var(--jp-code-font-size);\n",
       "line-height: var(--jp-code-line-height);\n",
       "\"><span style=\"color: var(--jp-warn-color2)\">lsst.sourceDeblend</span> <span style=\"color: var(--jp-info-color0)\">INFO</span>: Deblended: of 139 sources, 9 were deblended, creating 20 children, total 159 sources</pre>"
      ],
      "text/plain": [
       "<IPython.core.display.HTML object>"
      ]
     },
     "metadata": {},
     "output_type": "display_data"
    }
   ],
   "source": [
    "sourceDeblendTask.run(calexp, sources)"
   ]
  },
  {
   "cell_type": "markdown",
   "id": "24ebc63a-c27d-4921-a0d0-ac4d19871ef7",
   "metadata": {
    "execution": {
     "iopub.execute_input": "2024-01-09T14:56:00.330568Z",
     "iopub.status.busy": "2024-01-09T14:56:00.329758Z",
     "iopub.status.idle": "2024-01-09T14:56:00.335602Z",
     "shell.execute_reply": "2024-01-09T14:56:00.334996Z",
     "shell.execute_reply.started": "2024-01-09T14:56:00.330540Z"
    }
   },
   "source": [
    "## Run the measurement task"
   ]
  },
  {
   "cell_type": "code",
   "execution_count": 19,
   "id": "0f38d87d-10de-4288-8f6d-be42641d556c",
   "metadata": {
    "execution": {
     "iopub.execute_input": "2024-01-09T15:24:06.414215Z",
     "iopub.status.busy": "2024-01-09T15:24:06.413581Z",
     "iopub.status.idle": "2024-01-09T15:24:07.544551Z",
     "shell.execute_reply": "2024-01-09T15:24:07.543906Z",
     "shell.execute_reply.started": "2024-01-09T15:24:06.414190Z"
    }
   },
   "outputs": [
    {
     "data": {
      "text/html": [
       "<pre style=\"margin: 0.1em;\n",
       "padding-left: 0.25em;\n",
       "border-left-style: solid;\n",
       "font-family: var(--jp-code-font-family);\n",
       "font-size: var(--jp-code-font-size);\n",
       "line-height: var(--jp-code-line-height);\n",
       "\"><span style=\"color: var(--jp-warn-color2)\">lsst.measurement</span> <span style=\"color: var(--jp-info-color0)\">INFO</span>: Measuring 159 sources (139 parents, 20 children) </pre>"
      ],
      "text/plain": [
       "<IPython.core.display.HTML object>"
      ]
     },
     "metadata": {},
     "output_type": "display_data"
    }
   ],
   "source": [
    "sourceMeasurementTask.run(exposure=calexp, measCat=sources)"
   ]
  },
  {
   "cell_type": "markdown",
   "id": "e63c1d69-eb44-4315-ae33-c9e6adfe447f",
   "metadata": {},
   "source": [
    "## \"Deep\" copy the source table to make sure it's contiguous in memory, and display it..."
   ]
  },
  {
   "cell_type": "code",
   "execution_count": 20,
   "id": "f0527da4-6525-4608-b064-e2f1d792d636",
   "metadata": {
    "execution": {
     "iopub.execute_input": "2024-01-09T15:24:08.058609Z",
     "iopub.status.busy": "2024-01-09T15:24:08.057845Z",
     "iopub.status.idle": "2024-01-09T15:24:08.132626Z",
     "shell.execute_reply": "2024-01-09T15:24:08.132000Z",
     "shell.execute_reply.started": "2024-01-09T15:24:08.058585Z"
    }
   },
   "outputs": [
    {
     "data": {
      "text/html": [
       "<div><i>Table length=159</i>\n",
       "<table id=\"table137325038675920\" class=\"table-striped table-bordered table-condensed\">\n",
       "<thead><tr><th>id</th><th>coord_ra</th><th>coord_dec</th><th>parent</th><th>deblend_nChild</th><th>deblend_deblendedAsPsf</th><th>deblend_psfCenter_x</th><th>deblend_psfCenter_y</th><th>deblend_psf_instFlux</th><th>deblend_tooManyPeaks</th><th>deblend_parentTooBig</th><th>deblend_masked</th><th>deblend_failed</th><th>deblend_skipped</th><th>deblend_rampedTemplate</th><th>deblend_patchedTemplate</th><th>deblend_hasStrayFlux</th><th>deblend_peak_center_x</th><th>deblend_peak_center_y</th><th>deblend_peakId</th><th>deblend_nPeaks</th><th>deblend_parentNPeaks</th><th>base_NaiveCentroid_x</th><th>base_NaiveCentroid_y</th><th>base_NaiveCentroid_flag</th><th>base_NaiveCentroid_flag_noCounts</th><th>base_NaiveCentroid_flag_edge</th><th>base_NaiveCentroid_flag_resetToPeak</th><th>base_SdssCentroid_x</th><th>slot_Centroid_x</th><th>base_SdssCentroid_y</th><th>slot_Centroid_y</th><th>base_SdssCentroid_xErr</th><th>slot_Centroid_xErr</th><th>base_SdssCentroid_yErr</th><th>slot_Centroid_yErr</th><th>base_SdssCentroid_flag</th><th>base_CircularApertureFlux_flag_badCentroid</th><th>base_GaussianFlux_flag_badCentroid</th><th>base_LocalBackground_flag_badCentroid</th><th>base_NaiveCentroid_flag_badInitialCentroid</th><th>base_PsfFlux_flag_badCentroid</th><th>base_SdssShape_flag_badCentroid</th><th>base_Variance_flag_badCentroid</th><th>slot_Centroid_flag</th><th>base_SdssCentroid_flag_edge</th><th>base_CircularApertureFlux_flag_badCentroid_edge</th><th>base_GaussianFlux_flag_badCentroid_edge</th><th>base_LocalBackground_flag_badCentroid_edge</th><th>base_NaiveCentroid_flag_badInitialCentroid_edge</th><th>base_PsfFlux_flag_badCentroid_edge</th><th>base_SdssShape_flag_badCentroid_edge</th><th>base_Variance_flag_badCentroid_edge</th><th>slot_Centroid_flag_edge</th><th>base_SdssCentroid_flag_noSecondDerivative</th><th>base_CircularApertureFlux_flag_badCentroid_noSecondDerivative</th><th>base_GaussianFlux_flag_badCentroid_noSecondDerivative</th><th>base_LocalBackground_flag_badCentroid_noSecondDerivative</th><th>base_NaiveCentroid_flag_badInitialCentroid_noSecondDerivative</th><th>base_PsfFlux_flag_badCentroid_noSecondDerivative</th><th>base_SdssShape_flag_badCentroid_noSecondDerivative</th><th>base_Variance_flag_badCentroid_noSecondDerivative</th><th>slot_Centroid_flag_noSecondDerivative</th><th>base_SdssCentroid_flag_almostNoSecondDerivative</th><th>base_CircularApertureFlux_flag_badCentroid_almostNoSecondDerivative</th><th>base_GaussianFlux_flag_badCentroid_almostNoSecondDerivative</th><th>base_LocalBackground_flag_badCentroid_almostNoSecondDerivative</th><th>base_NaiveCentroid_flag_badInitialCentroid_almostNoSecondDerivative</th><th>base_PsfFlux_flag_badCentroid_almostNoSecondDerivative</th><th>base_SdssShape_flag_badCentroid_almostNoSecondDerivative</th><th>base_Variance_flag_badCentroid_almostNoSecondDerivative</th><th>slot_Centroid_flag_almostNoSecondDerivative</th><th>base_SdssCentroid_flag_notAtMaximum</th><th>base_CircularApertureFlux_flag_badCentroid_notAtMaximum</th><th>base_GaussianFlux_flag_badCentroid_notAtMaximum</th><th>base_LocalBackground_flag_badCentroid_notAtMaximum</th><th>base_NaiveCentroid_flag_badInitialCentroid_notAtMaximum</th><th>base_PsfFlux_flag_badCentroid_notAtMaximum</th><th>base_SdssShape_flag_badCentroid_notAtMaximum</th><th>base_Variance_flag_badCentroid_notAtMaximum</th><th>slot_Centroid_flag_notAtMaximum</th><th>base_SdssCentroid_flag_near_edge</th><th>base_CircularApertureFlux_flag_badCentroid_near_edge</th><th>base_GaussianFlux_flag_badCentroid_near_edge</th><th>base_LocalBackground_flag_badCentroid_near_edge</th><th>base_NaiveCentroid_flag_badInitialCentroid_near_edge</th><th>base_PsfFlux_flag_badCentroid_near_edge</th><th>base_SdssShape_flag_badCentroid_near_edge</th><th>base_Variance_flag_badCentroid_near_edge</th><th>slot_Centroid_flag_near_edge</th><th>base_SdssCentroid_flag_resetToPeak</th><th>base_CircularApertureFlux_flag_badCentroid_resetToPeak</th><th>base_GaussianFlux_flag_badCentroid_resetToPeak</th><th>base_LocalBackground_flag_badCentroid_resetToPeak</th><th>base_NaiveCentroid_flag_badInitialCentroid_resetToPeak</th><th>base_PsfFlux_flag_badCentroid_resetToPeak</th><th>base_SdssShape_flag_badCentroid_resetToPeak</th><th>base_Variance_flag_badCentroid_resetToPeak</th><th>slot_Centroid_flag_resetToPeak</th><th>base_SdssCentroid_flag_badError</th><th>base_CircularApertureFlux_flag_badCentroid_badError</th><th>base_GaussianFlux_flag_badCentroid_badError</th><th>base_LocalBackground_flag_badCentroid_badError</th><th>base_NaiveCentroid_flag_badInitialCentroid_badError</th><th>base_PsfFlux_flag_badCentroid_badError</th><th>base_SdssShape_flag_badCentroid_badError</th><th>base_Variance_flag_badCentroid_badError</th><th>slot_Centroid_flag_badError</th><th>base_Blendedness_old</th><th>base_Blendedness_raw</th><th>base_Blendedness_raw_child_instFlux</th><th>base_Blendedness_raw_parent_instFlux</th><th>base_Blendedness_abs</th><th>base_Blendedness_abs_child_instFlux</th><th>base_Blendedness_abs_parent_instFlux</th><th>base_Blendedness_raw_child_xx</th><th>base_Blendedness_raw_child_yy</th><th>base_Blendedness_raw_child_xy</th><th>base_Blendedness_raw_parent_xx</th><th>base_Blendedness_raw_parent_yy</th><th>base_Blendedness_raw_parent_xy</th><th>base_Blendedness_abs_child_xx</th><th>base_Blendedness_abs_child_yy</th><th>base_Blendedness_abs_child_xy</th><th>base_Blendedness_abs_parent_xx</th><th>base_Blendedness_abs_parent_yy</th><th>base_Blendedness_abs_parent_xy</th><th>base_Blendedness_flag</th><th>base_Blendedness_flag_noCentroid</th><th>base_Blendedness_flag_noShape</th><th>base_SdssShape_xx</th><th>slot_Shape_xx</th><th>base_SdssShape_yy</th><th>slot_Shape_yy</th><th>base_SdssShape_xy</th><th>slot_Shape_xy</th><th>base_SdssShape_xxErr</th><th>slot_Shape_xxErr</th><th>base_SdssShape_yyErr</th><th>slot_Shape_yyErr</th><th>base_SdssShape_xyErr</th><th>slot_Shape_xyErr</th><th>base_SdssShape_x</th><th>slot_Shape_x</th><th>base_SdssShape_y</th><th>slot_Shape_y</th><th>base_SdssShape_instFlux</th><th>slot_Shape_instFlux</th><th>base_SdssShape_instFluxErr</th><th>slot_Shape_instFluxErr</th><th>base_SdssShape_psf_xx</th><th>slot_PsfShape_xx</th><th>slot_Shape_psf_xx</th><th>base_SdssShape_psf_yy</th><th>slot_PsfShape_yy</th><th>slot_Shape_psf_yy</th><th>base_SdssShape_psf_xy</th><th>slot_PsfShape_xy</th><th>slot_Shape_psf_xy</th><th>base_SdssShape_instFlux_xx_Cov</th><th>slot_Shape_instFlux_xx_Cov</th><th>base_SdssShape_instFlux_yy_Cov</th><th>slot_Shape_instFlux_yy_Cov</th><th>base_SdssShape_instFlux_xy_Cov</th><th>slot_Shape_instFlux_xy_Cov</th><th>base_SdssShape_flag</th><th>base_GaussianFlux_flag_badShape</th><th>slot_Shape_flag</th><th>base_SdssShape_flag_unweightedBad</th><th>base_GaussianFlux_flag_badShape_unweightedBad</th><th>slot_Shape_flag_unweightedBad</th><th>base_SdssShape_flag_unweighted</th><th>base_GaussianFlux_flag_badShape_unweighted</th><th>slot_Shape_flag_unweighted</th><th>base_SdssShape_flag_shift</th><th>base_GaussianFlux_flag_badShape_shift</th><th>slot_Shape_flag_shift</th><th>base_SdssShape_flag_maxIter</th><th>base_GaussianFlux_flag_badShape_maxIter</th><th>slot_Shape_flag_maxIter</th><th>base_SdssShape_flag_psf</th><th>base_GaussianFlux_flag_badShape_psf</th><th>slot_Shape_flag_psf</th><th>base_CircularApertureFlux_3_0_instFlux</th><th>base_CircularApertureFlux_3_0_instFluxErr</th><th>base_CircularApertureFlux_3_0_flag</th><th>base_CircularApertureFlux_3_0_flag_apertureTruncated</th><th>base_CircularApertureFlux_3_0_flag_sincCoeffsTruncated</th><th>base_CircularApertureFlux_4_5_instFlux</th><th>base_CircularApertureFlux_4_5_instFluxErr</th><th>base_CircularApertureFlux_4_5_flag</th><th>base_CircularApertureFlux_4_5_flag_apertureTruncated</th><th>base_CircularApertureFlux_4_5_flag_sincCoeffsTruncated</th><th>base_CircularApertureFlux_6_0_instFlux</th><th>base_CircularApertureFlux_6_0_instFluxErr</th><th>base_CircularApertureFlux_6_0_flag</th><th>base_CircularApertureFlux_6_0_flag_apertureTruncated</th><th>base_CircularApertureFlux_6_0_flag_sincCoeffsTruncated</th><th>base_CircularApertureFlux_9_0_instFlux</th><th>base_CircularApertureFlux_9_0_instFluxErr</th><th>base_CircularApertureFlux_9_0_flag</th><th>base_CircularApertureFlux_9_0_flag_apertureTruncated</th><th>base_CircularApertureFlux_9_0_flag_sincCoeffsTruncated</th><th>base_CircularApertureFlux_12_0_instFlux</th><th>slot_ApFlux_instFlux</th><th>slot_CalibFlux_instFlux</th><th>base_CircularApertureFlux_12_0_instFluxErr</th><th>slot_ApFlux_instFluxErr</th><th>slot_CalibFlux_instFluxErr</th><th>base_CircularApertureFlux_12_0_flag</th><th>slot_ApFlux_flag</th><th>slot_CalibFlux_flag</th><th>base_CircularApertureFlux_12_0_flag_apertureTruncated</th><th>slot_ApFlux_flag_apertureTruncated</th><th>slot_CalibFlux_flag_apertureTruncated</th><th>base_CircularApertureFlux_17_0_instFlux</th><th>base_CircularApertureFlux_17_0_instFluxErr</th><th>base_CircularApertureFlux_17_0_flag</th><th>base_CircularApertureFlux_17_0_flag_apertureTruncated</th><th>base_CircularApertureFlux_25_0_instFlux</th><th>base_CircularApertureFlux_25_0_instFluxErr</th><th>base_CircularApertureFlux_25_0_flag</th><th>base_CircularApertureFlux_25_0_flag_apertureTruncated</th><th>base_CircularApertureFlux_35_0_instFlux</th><th>base_CircularApertureFlux_35_0_instFluxErr</th><th>base_CircularApertureFlux_35_0_flag</th><th>base_CircularApertureFlux_35_0_flag_apertureTruncated</th><th>base_CircularApertureFlux_50_0_instFlux</th><th>base_CircularApertureFlux_50_0_instFluxErr</th><th>base_CircularApertureFlux_50_0_flag</th><th>base_CircularApertureFlux_50_0_flag_apertureTruncated</th><th>base_CircularApertureFlux_70_0_instFlux</th><th>base_CircularApertureFlux_70_0_instFluxErr</th><th>base_CircularApertureFlux_70_0_flag</th><th>base_CircularApertureFlux_70_0_flag_apertureTruncated</th><th>base_CompensatedGaussianFlux_flag</th><th>base_CompensatedGaussianFlux_bounds_flag</th><th>base_CompensatedGaussianFlux_3_instFlux</th><th>base_CompensatedGaussianFlux_3_instFluxErr</th><th>base_CompensatedGaussianFlux_3_mask_bits</th><th>base_CompensatedGaussianFlux_5_instFlux</th><th>base_CompensatedGaussianFlux_5_instFluxErr</th><th>base_CompensatedGaussianFlux_5_mask_bits</th><th>base_GaussianFlux_instFlux</th><th>slot_GaussianFlux_instFlux</th><th>slot_ModelFlux_instFlux</th><th>base_GaussianFlux_instFluxErr</th><th>slot_GaussianFlux_instFluxErr</th><th>slot_ModelFlux_instFluxErr</th><th>base_GaussianFlux_flag</th><th>slot_GaussianFlux_flag</th><th>slot_ModelFlux_flag</th><th>base_LocalBackground_instFlux</th><th>base_LocalBackground_instFluxErr</th><th>base_LocalBackground_flag</th><th>base_LocalBackground_flag_noGoodPixels</th><th>base_LocalBackground_flag_noPsf</th><th>base_PixelFlags_flag</th><th>base_PixelFlags_flag_offimage</th><th>base_PixelFlags_flag_edge</th><th>base_PixelFlags_flag_interpolated</th><th>base_PixelFlags_flag_saturated</th><th>base_PixelFlags_flag_cr</th><th>base_PixelFlags_flag_bad</th><th>base_PixelFlags_flag_suspect</th><th>base_PixelFlags_flag_interpolatedCenter</th><th>base_PixelFlags_flag_saturatedCenter</th><th>base_PixelFlags_flag_crCenter</th><th>base_PixelFlags_flag_badCenter</th><th>base_PixelFlags_flag_suspectCenter</th><th>base_PixelFlags_flag_interpolatedCenterAll</th><th>base_PixelFlags_flag_saturatedCenterAll</th><th>base_PixelFlags_flag_crCenterAll</th><th>base_PixelFlags_flag_badCenterAll</th><th>base_PixelFlags_flag_suspectCenterAll</th><th>base_PsfFlux_instFlux</th><th>slot_PsfFlux_instFlux</th><th>base_PsfFlux_instFluxErr</th><th>slot_PsfFlux_instFluxErr</th><th>base_PsfFlux_area</th><th>slot_PsfFlux_area</th><th>base_PsfFlux_chi2</th><th>slot_PsfFlux_chi2</th><th>base_PsfFlux_npixels</th><th>slot_PsfFlux_npixels</th><th>base_PsfFlux_flag</th><th>slot_PsfFlux_flag</th><th>base_PsfFlux_flag_noGoodPixels</th><th>slot_PsfFlux_flag_noGoodPixels</th><th>base_PsfFlux_flag_edge</th><th>slot_PsfFlux_flag_edge</th><th>base_Variance_flag</th><th>base_Variance_value</th><th>base_Variance_flag_emptyFootprint</th></tr></thead>\n",
       "<thead><tr><th></th><th>rad</th><th>rad</th><th></th><th></th><th></th><th>pix</th><th>pix</th><th>ct</th><th></th><th></th><th></th><th></th><th></th><th></th><th></th><th></th><th>pix</th><th>pix</th><th></th><th></th><th></th><th>pix</th><th>pix</th><th></th><th></th><th></th><th></th><th>pix</th><th>pix</th><th>pix</th><th>pix</th><th>pix</th><th>pix</th><th>pix</th><th>pix</th><th></th><th></th><th></th><th></th><th></th><th></th><th></th><th></th><th></th><th></th><th></th><th></th><th></th><th></th><th></th><th></th><th></th><th></th><th></th><th></th><th></th><th></th><th></th><th></th><th></th><th></th><th></th><th></th><th></th><th></th><th></th><th></th><th></th><th></th><th></th><th></th><th></th><th></th><th></th><th></th><th></th><th></th><th></th><th></th><th></th><th></th><th></th><th></th><th></th><th></th><th></th><th></th><th></th><th></th><th></th><th></th><th></th><th></th><th></th><th></th><th></th><th></th><th></th><th></th><th></th><th></th><th></th><th></th><th></th><th></th><th></th><th></th><th></th><th></th><th>ct</th><th>ct</th><th></th><th>ct</th><th>ct</th><th>pix2</th><th>pix2</th><th>pix2</th><th>pix2</th><th>pix2</th><th>pix2</th><th>pix2</th><th>pix2</th><th>pix2</th><th>pix2</th><th>pix2</th><th>pix2</th><th></th><th></th><th></th><th>pix2</th><th>pix2</th><th>pix2</th><th>pix2</th><th>pix2</th><th>pix2</th><th>pix2</th><th>pix2</th><th>pix2</th><th>pix2</th><th>pix2</th><th>pix2</th><th>pix</th><th>pix</th><th>pix</th><th>pix</th><th>ct</th><th>ct</th><th>ct</th><th>ct</th><th>pix2</th><th>pix2</th><th>pix2</th><th>pix2</th><th>pix2</th><th>pix2</th><th>pix2</th><th>pix2</th><th>pix2</th><th>pix2 ct</th><th>pix2 ct</th><th>pix2 ct</th><th>pix2 ct</th><th>pix2 ct</th><th>pix2 ct</th><th></th><th></th><th></th><th></th><th></th><th></th><th></th><th></th><th></th><th></th><th></th><th></th><th></th><th></th><th></th><th></th><th></th><th></th><th>ct</th><th>ct</th><th></th><th></th><th></th><th>ct</th><th>ct</th><th></th><th></th><th></th><th>ct</th><th>ct</th><th></th><th></th><th></th><th>ct</th><th>ct</th><th></th><th></th><th></th><th>ct</th><th>ct</th><th>ct</th><th>ct</th><th>ct</th><th>ct</th><th></th><th></th><th></th><th></th><th></th><th></th><th>ct</th><th>ct</th><th></th><th></th><th>ct</th><th>ct</th><th></th><th></th><th>ct</th><th>ct</th><th></th><th></th><th>ct</th><th>ct</th><th></th><th></th><th>ct</th><th>ct</th><th></th><th></th><th></th><th></th><th>ct</th><th>ct</th><th></th><th>ct</th><th>ct</th><th></th><th>ct</th><th>ct</th><th>ct</th><th>ct</th><th>ct</th><th>ct</th><th></th><th></th><th></th><th>ct</th><th>ct</th><th></th><th></th><th></th><th></th><th></th><th></th><th></th><th></th><th></th><th></th><th></th><th></th><th></th><th></th><th></th><th></th><th></th><th></th><th></th><th></th><th></th><th>ct</th><th>ct</th><th>ct</th><th>ct</th><th>pix</th><th>pix</th><th></th><th></th><th>pix</th><th>pix</th><th></th><th></th><th></th><th></th><th></th><th></th><th></th><th></th><th></th></tr></thead>\n",
       "<thead><tr><th>int64</th><th>float64</th><th>float64</th><th>int64</th><th>int32</th><th>bool</th><th>float64</th><th>float64</th><th>float64</th><th>bool</th><th>bool</th><th>bool</th><th>bool</th><th>bool</th><th>bool</th><th>bool</th><th>bool</th><th>int32</th><th>int32</th><th>int32</th><th>int32</th><th>int32</th><th>float64</th><th>float64</th><th>bool</th><th>bool</th><th>bool</th><th>bool</th><th>float64</th><th>float64</th><th>float64</th><th>float64</th><th>float32</th><th>float32</th><th>float32</th><th>float32</th><th>bool</th><th>bool</th><th>bool</th><th>bool</th><th>bool</th><th>bool</th><th>bool</th><th>bool</th><th>bool</th><th>bool</th><th>bool</th><th>bool</th><th>bool</th><th>bool</th><th>bool</th><th>bool</th><th>bool</th><th>bool</th><th>bool</th><th>bool</th><th>bool</th><th>bool</th><th>bool</th><th>bool</th><th>bool</th><th>bool</th><th>bool</th><th>bool</th><th>bool</th><th>bool</th><th>bool</th><th>bool</th><th>bool</th><th>bool</th><th>bool</th><th>bool</th><th>bool</th><th>bool</th><th>bool</th><th>bool</th><th>bool</th><th>bool</th><th>bool</th><th>bool</th><th>bool</th><th>bool</th><th>bool</th><th>bool</th><th>bool</th><th>bool</th><th>bool</th><th>bool</th><th>bool</th><th>bool</th><th>bool</th><th>bool</th><th>bool</th><th>bool</th><th>bool</th><th>bool</th><th>bool</th><th>bool</th><th>bool</th><th>bool</th><th>bool</th><th>bool</th><th>bool</th><th>bool</th><th>bool</th><th>bool</th><th>bool</th><th>bool</th><th>float64</th><th>float64</th><th>float64</th><th>float64</th><th>float64</th><th>float64</th><th>float64</th><th>float64</th><th>float64</th><th>float64</th><th>float64</th><th>float64</th><th>float64</th><th>float64</th><th>float64</th><th>float64</th><th>float64</th><th>float64</th><th>float64</th><th>bool</th><th>bool</th><th>bool</th><th>float64</th><th>float64</th><th>float64</th><th>float64</th><th>float64</th><th>float64</th><th>float32</th><th>float32</th><th>float32</th><th>float32</th><th>float32</th><th>float32</th><th>float64</th><th>float64</th><th>float64</th><th>float64</th><th>float64</th><th>float64</th><th>float64</th><th>float64</th><th>float64</th><th>float64</th><th>float64</th><th>float64</th><th>float64</th><th>float64</th><th>float64</th><th>float64</th><th>float64</th><th>float32</th><th>float32</th><th>float32</th><th>float32</th><th>float32</th><th>float32</th><th>bool</th><th>bool</th><th>bool</th><th>bool</th><th>bool</th><th>bool</th><th>bool</th><th>bool</th><th>bool</th><th>bool</th><th>bool</th><th>bool</th><th>bool</th><th>bool</th><th>bool</th><th>bool</th><th>bool</th><th>bool</th><th>float64</th><th>float64</th><th>bool</th><th>bool</th><th>bool</th><th>float64</th><th>float64</th><th>bool</th><th>bool</th><th>bool</th><th>float64</th><th>float64</th><th>bool</th><th>bool</th><th>bool</th><th>float64</th><th>float64</th><th>bool</th><th>bool</th><th>bool</th><th>float64</th><th>float64</th><th>float64</th><th>float64</th><th>float64</th><th>float64</th><th>bool</th><th>bool</th><th>bool</th><th>bool</th><th>bool</th><th>bool</th><th>float64</th><th>float64</th><th>bool</th><th>bool</th><th>float64</th><th>float64</th><th>bool</th><th>bool</th><th>float64</th><th>float64</th><th>bool</th><th>bool</th><th>float64</th><th>float64</th><th>bool</th><th>bool</th><th>float64</th><th>float64</th><th>bool</th><th>bool</th><th>bool</th><th>bool</th><th>float64</th><th>float64</th><th>int32</th><th>float64</th><th>float64</th><th>int32</th><th>float64</th><th>float64</th><th>float64</th><th>float64</th><th>float64</th><th>float64</th><th>bool</th><th>bool</th><th>bool</th><th>float64</th><th>float64</th><th>bool</th><th>bool</th><th>bool</th><th>bool</th><th>bool</th><th>bool</th><th>bool</th><th>bool</th><th>bool</th><th>bool</th><th>bool</th><th>bool</th><th>bool</th><th>bool</th><th>bool</th><th>bool</th><th>bool</th><th>bool</th><th>bool</th><th>bool</th><th>bool</th><th>float64</th><th>float64</th><th>float64</th><th>float64</th><th>float32</th><th>float32</th><th>float32</th><th>float32</th><th>int32</th><th>int32</th><th>bool</th><th>bool</th><th>bool</th><th>bool</th><th>bool</th><th>bool</th><th>bool</th><th>float64</th><th>bool</th></tr></thead>\n",
       "<tr><td>1</td><td>1.2430775021535634</td><td>-0.5308464061518735</td><td>0</td><td>0</td><td>False</td><td>nan</td><td>nan</td><td>nan</td><td>False</td><td>False</td><td>False</td><td>False</td><td>False</td><td>False</td><td>False</td><td>False</td><td>0</td><td>0</td><td>0</td><td>0</td><td>0</td><td>3567.0073468453456</td><td>25.01470721344941</td><td>False</td><td>False</td><td>False</td><td>False</td><td>3567.0499465782527</td><td>3567.0499465782527</td><td>25.093013720326425</td><td>25.093013720326425</td><td>0.010266921</td><td>0.010266921</td><td>0.010239261</td><td>0.010239261</td><td>False</td><td>False</td><td>False</td><td>False</td><td>False</td><td>False</td><td>False</td><td>False</td><td>False</td><td>False</td><td>False</td><td>False</td><td>False</td><td>False</td><td>False</td><td>False</td><td>False</td><td>False</td><td>False</td><td>False</td><td>False</td><td>False</td><td>False</td><td>False</td><td>False</td><td>False</td><td>False</td><td>False</td><td>False</td><td>False</td><td>False</td><td>False</td><td>False</td><td>False</td><td>False</td><td>False</td><td>False</td><td>False</td><td>False</td><td>False</td><td>False</td><td>False</td><td>False</td><td>False</td><td>False</td><td>False</td><td>False</td><td>False</td><td>False</td><td>False</td><td>False</td><td>False</td><td>False</td><td>False</td><td>False</td><td>False</td><td>False</td><td>False</td><td>False</td><td>False</td><td>False</td><td>False</td><td>False</td><td>False</td><td>False</td><td>False</td><td>False</td><td>False</td><td>False</td><td>False</td><td>False</td><td>False</td><td>0.0</td><td>0.0</td><td>314248.3741743415</td><td>314248.3741743415</td><td>0.0</td><td>314248.3110756763</td><td>314248.3110756763</td><td>4.242521294092604</td><td>4.248153188093699</td><td>-0.023389881457950065</td><td>4.242521294092604</td><td>4.248153188093699</td><td>-0.023389881457950065</td><td>4.242521314405765</td><td>4.2481395408690865</td><td>-0.023392396806821453</td><td>4.242521314405765</td><td>4.2481395408690865</td><td>-0.023392396806821453</td><td>False</td><td>False</td><td>False</td><td>4.256316828702951</td><td>4.256316828702951</td><td>4.262881204337177</td><td>4.262881204337177</td><td>-0.02289666911307834</td><td>-0.02289666911307834</td><td>0.042300243</td><td>0.042300243</td><td>0.042365484</td><td>0.042365484</td><td>0.029934278</td><td>0.029934278</td><td>3567.049958288597</td><td>3567.049958288597</td><td>25.091995737763508</td><td>25.091995737763508</td><td>317831.6681480482</td><td>317831.6681480482</td><td>1579.3416368095038</td><td>1579.3416368095038</td><td>4.31888176615552</td><td>4.31888176615552</td><td>4.31888176615552</td><td>4.283305525328496</td><td>4.283305525328496</td><td>4.283305525328496</td><td>-0.03901396357897715</td><td>-0.03901396357897715</td><td>-0.03901396357897715</td><td>-33.403267</td><td>-33.403267</td><td>-33.454784</td><td>-33.454784</td><td>0.17969143</td><td>0.17969143</td><td>False</td><td>False</td><td>False</td><td>False</td><td>False</td><td>False</td><td>False</td><td>False</td><td>False</td><td>False</td><td>False</td><td>False</td><td>False</td><td>False</td><td>False</td><td>False</td><td>False</td><td>False</td><td>207268.796875</td><td>661.7130126953125</td><td>False</td><td>False</td><td>False</td><td>285943.21875</td><td>862.1175537109375</td><td>False</td><td>False</td><td>False</td><td>319450.6875</td><td>1030.9542236328125</td><td>False</td><td>False</td><td>False</td><td>339109.40625</td><td>1364.4111328125</td><td>False</td><td>False</td><td>True</td><td>345343.45391201973</td><td>345343.45391201973</td><td>345343.45391201973</td><td>1720.5708670085164</td><td>1720.5708670085164</td><td>1720.5708670085164</td><td>False</td><td>False</td><td>False</td><td>False</td><td>False</td><td>False</td><td>347630.9366849065</td><td>2336.9166811649557</td><td>False</td><td>False</td><td>348054.7016376257</td><td>3363.32942241924</td><td>False</td><td>False</td><td>nan</td><td>nan</td><td>True</td><td>True</td><td>nan</td><td>nan</td><td>True</td><td>True</td><td>nan</td><td>nan</td><td>True</td><td>True</td><td>True</td><td>False</td><td>476717.9181003148</td><td>1432.0724154605898</td><td>4128</td><td>nan</td><td>nan</td><td>0</td><td>317831.6681480482</td><td>317831.6681480482</td><td>317831.6681480482</td><td>1116.7631702900578</td><td>1116.7631702900578</td><td>1116.7631702900578</td><td>False</td><td>False</td><td>False</td><td>0.9390309713264233</td><td>72.71213342588749</td><td>False</td><td>False</td><td>False</td><td>False</td><td>False</td><td>False</td><td>False</td><td>False</td><td>False</td><td>False</td><td>False</td><td>False</td><td>False</td><td>False</td><td>False</td><td>False</td><td>False</td><td>False</td><td>False</td><td>False</td><td>False</td><td>349013.0675033687</td><td>349013.0675033687</td><td>1046.930051654997</td><td>1046.930051654997</td><td>64.39447</td><td>64.39447</td><td>1720.9103</td><td>1720.9103</td><td>1681</td><td>1681</td><td>False</td><td>False</td><td>False</td><td>False</td><td>False</td><td>False</td><td>True</td><td>nan</td><td>True</td></tr>\n",
       "<tr><td>2</td><td>1.2396035905545693</td><td>-0.5314679740889885</td><td>0</td><td>0</td><td>False</td><td>nan</td><td>nan</td><td>nan</td><td>False</td><td>False</td><td>False</td><td>False</td><td>False</td><td>False</td><td>False</td><td>False</td><td>0</td><td>0</td><td>0</td><td>0</td><td>0</td><td>403.06969814790614</td><td>24.00881424742608</td><td>False</td><td>False</td><td>False</td><td>False</td><td>403.40736869596174</td><td>403.40736869596174</td><td>24.039151478998416</td><td>24.039151478998416</td><td>0.028261073</td><td>0.028261073</td><td>0.028426295</td><td>0.028426295</td><td>False</td><td>False</td><td>False</td><td>False</td><td>False</td><td>False</td><td>False</td><td>False</td><td>False</td><td>False</td><td>False</td><td>False</td><td>False</td><td>False</td><td>False</td><td>False</td><td>False</td><td>False</td><td>False</td><td>False</td><td>False</td><td>False</td><td>False</td><td>False</td><td>False</td><td>False</td><td>False</td><td>False</td><td>False</td><td>False</td><td>False</td><td>False</td><td>False</td><td>False</td><td>False</td><td>False</td><td>False</td><td>False</td><td>False</td><td>False</td><td>False</td><td>False</td><td>False</td><td>False</td><td>False</td><td>False</td><td>False</td><td>False</td><td>False</td><td>False</td><td>False</td><td>False</td><td>False</td><td>False</td><td>False</td><td>False</td><td>False</td><td>False</td><td>False</td><td>False</td><td>False</td><td>False</td><td>False</td><td>False</td><td>False</td><td>False</td><td>False</td><td>False</td><td>False</td><td>False</td><td>False</td><td>False</td><td>0.0</td><td>0.0</td><td>78486.24559681362</td><td>78486.24559681362</td><td>0.0</td><td>78479.02168365753</td><td>78479.02168365753</td><td>4.133489326078153</td><td>4.069277454301987</td><td>-0.029957996322864482</td><td>4.133489326078153</td><td>4.069277454301987</td><td>-0.029957996322864482</td><td>4.13011778734281</td><td>4.067683444462327</td><td>-0.029693275504848737</td><td>4.13011778734281</td><td>4.067683444462327</td><td>-0.029693275504848737</td><td>False</td><td>False</td><td>False</td><td>4.151618663488081</td><td>4.151618663488081</td><td>4.081306932912149</td><td>4.081306932912149</td><td>-0.033051177428099175</td><td>-0.033051177428099175</td><td>0.10574308</td><td>0.10574308</td><td>0.10395222</td><td>0.10395222</td><td>0.07413817</td><td>0.07413817</td><td>403.4059102770476</td><td>403.4059102770476</td><td>24.037046602982244</td><td>24.037046602982244</td><td>79448.42512647389</td><td>79448.42512647389</td><td>1011.7887611050829</td><td>1011.7887611050829</td><td>4.316958840801715</td><td>4.316958840801715</td><td>4.316958840801715</td><td>4.245213413091211</td><td>4.245213413091211</td><td>4.245213413091211</td><td>-0.06929511663519747</td><td>-0.06929511663519747</td><td>-0.06929511663519747</td><td>-53.494835</td><td>-53.494835</td><td>-52.58885</td><td>-52.58885</td><td>0.42587423</td><td>0.42587423</td><td>False</td><td>False</td><td>False</td><td>False</td><td>False</td><td>False</td><td>False</td><td>False</td><td>False</td><td>False</td><td>False</td><td>False</td><td>False</td><td>False</td><td>False</td><td>False</td><td>False</td><td>False</td><td>52864.0078125</td><td>471.0103454589844</td><td>False</td><td>False</td><td>False</td><td>71996.3515625</td><td>661.862548828125</td><td>False</td><td>False</td><td>False</td><td>80575.1015625</td><td>848.355712890625</td><td>False</td><td>False</td><td>False</td><td>85643.8984375</td><td>1223.6785888671875</td><td>False</td><td>False</td><td>True</td><td>88542.82614117861</td><td>88542.82614117861</td><td>88542.82614117861</td><td>1622.7371552411068</td><td>1622.7371552411068</td><td>1622.7371552411068</td><td>False</td><td>False</td><td>False</td><td>False</td><td>False</td><td>False</td><td>88432.0016451478</td><td>2267.266583088337</td><td>False</td><td>False</td><td>nan</td><td>nan</td><td>True</td><td>True</td><td>nan</td><td>nan</td><td>True</td><td>True</td><td>nan</td><td>nan</td><td>True</td><td>True</td><td>nan</td><td>nan</td><td>True</td><td>True</td><td>True</td><td>False</td><td>120727.83315186315</td><td>1050.2419224914295</td><td>4128</td><td>nan</td><td>nan</td><td>0</td><td>79448.42512647389</td><td>79448.42512647389</td><td>79448.42512647389</td><td>715.4426709306485</td><td>715.4426709306485</td><td>715.4426709306485</td><td>False</td><td>False</td><td>False</td><td>5.749137728078803</td><td>76.00090397213633</td><td>False</td><td>False</td><td>False</td><td>False</td><td>False</td><td>False</td><td>False</td><td>False</td><td>False</td><td>False</td><td>False</td><td>False</td><td>False</td><td>False</td><td>False</td><td>False</td><td>False</td><td>False</td><td>False</td><td>False</td><td>False</td><td>88642.80554025804</td><td>88642.80554025804</td><td>736.8916028661035</td><td>736.8916028661035</td><td>64.21407</td><td>64.21407</td><td>1702.8458</td><td>1702.8458</td><td>1681</td><td>1681</td><td>False</td><td>False</td><td>False</td><td>False</td><td>False</td><td>False</td><td>False</td><td>5537.39697265625</td><td>False</td></tr>\n",
       "<tr><td>3</td><td>1.2431453455953485</td><td>-0.53084261232984</td><td>0</td><td>0</td><td>False</td><td>nan</td><td>nan</td><td>nan</td><td>False</td><td>False</td><td>False</td><td>False</td><td>False</td><td>False</td><td>False</td><td>False</td><td>0</td><td>0</td><td>0</td><td>0</td><td>0</td><td>3627.0153340993675</td><td>33.10139099690423</td><td>False</td><td>False</td><td>False</td><td>False</td><td>3627.0635075496575</td><td>3627.0635075496575</td><td>33.60259252147046</td><td>33.60259252147046</td><td>0.013403514</td><td>0.013403514</td><td>0.01323712</td><td>0.01323712</td><td>False</td><td>False</td><td>False</td><td>False</td><td>False</td><td>False</td><td>False</td><td>False</td><td>False</td><td>False</td><td>False</td><td>False</td><td>False</td><td>False</td><td>False</td><td>False</td><td>False</td><td>False</td><td>False</td><td>False</td><td>False</td><td>False</td><td>False</td><td>False</td><td>False</td><td>False</td><td>False</td><td>False</td><td>False</td><td>False</td><td>False</td><td>False</td><td>False</td><td>False</td><td>False</td><td>False</td><td>False</td><td>False</td><td>False</td><td>False</td><td>False</td><td>False</td><td>False</td><td>False</td><td>False</td><td>False</td><td>False</td><td>False</td><td>False</td><td>False</td><td>False</td><td>False</td><td>False</td><td>False</td><td>False</td><td>False</td><td>False</td><td>False</td><td>False</td><td>False</td><td>False</td><td>False</td><td>False</td><td>False</td><td>False</td><td>False</td><td>False</td><td>False</td><td>False</td><td>False</td><td>False</td><td>False</td><td>0.0</td><td>0.0</td><td>214577.2490032905</td><td>214577.2490032905</td><td>0.0</td><td>214576.96550374903</td><td>214576.96550374903</td><td>4.237452533663128</td><td>4.2874474781493355</td><td>-0.05513226818776938</td><td>4.237452533663128</td><td>4.2874474781493355</td><td>-0.05513226818776938</td><td>4.237409907061877</td><td>4.287405451554075</td><td>-0.05510065976681998</td><td>4.237409907061877</td><td>4.287405451554075</td><td>-0.05510065976681998</td><td>False</td><td>False</td><td>False</td><td>4.249998853725479</td><td>4.249998853725479</td><td>4.302416516691444</td><td>4.302416516691444</td><td>-0.05393857926420036</td><td>-0.05393857926420036</td><td>0.0536106</td><td>0.0536106</td><td>0.054271806</td><td>0.054271806</td><td>0.038144507</td><td>0.038144507</td><td>3627.06370018469</td><td>3627.06370018469</td><td>33.60190239018921</td><td>33.60190239018921</td><td>216864.31682787836</td><td>216864.31682787836</td><td>1367.7916437651886</td><td>1367.7916437651886</td><td>4.317593341666083</td><td>4.317593341666083</td><td>4.317593341666083</td><td>4.28535304973304</td><td>4.28535304973304</td><td>4.28535304973304</td><td>-0.038537719323221996</td><td>-0.038537719323221996</td><td>-0.038537719323221996</td><td>-36.664066</td><td>-36.664066</td><td>-37.11626</td><td>-37.11626</td><td>0.46531954</td><td>0.46531954</td><td>False</td><td>False</td><td>False</td><td>False</td><td>False</td><td>False</td><td>False</td><td>False</td><td>False</td><td>False</td><td>False</td><td>False</td><td>False</td><td>False</td><td>False</td><td>False</td><td>False</td><td>False</td><td>142402.4375</td><td>587.9549560546875</td><td>False</td><td>False</td><td>False</td><td>194882.109375</td><td>782.78662109375</td><td>False</td><td>False</td><td>False</td><td>217443.296875</td><td>956.80126953125</td><td>False</td><td>False</td><td>False</td><td>230318.046875</td><td>1305.3572998046875</td><td>False</td><td>False</td><td>False</td><td>234366.0793377161</td><td>234366.0793377161</td><td>234366.0793377161</td><td>1683.6165736562002</td><td>1683.6165736562002</td><td>1683.6165736562002</td><td>False</td><td>False</td><td>False</td><td>False</td><td>False</td><td>False</td><td>231985.4924043417</td><td>2310.742391717196</td><td>False</td><td>False</td><td>230576.88480049372</td><td>3338.848364828854</td><td>False</td><td>False</td><td>nan</td><td>nan</td><td>True</td><td>True</td><td>nan</td><td>nan</td><td>True</td><td>True</td><td>nan</td><td>nan</td><td>True</td><td>True</td><td>False</td><td>False</td><td>325176.5331969545</td><td>1282.2862872746239</td><td>4128</td><td>452776.9371411248</td><td>1877.7702621155213</td><td>4144</td><td>216864.31682787836</td><td>216864.31682787836</td><td>216864.31682787836</td><td>950.0280048076562</td><td>950.0280048076562</td><td>950.0280048076562</td><td>False</td><td>False</td><td>False</td><td>-3.337169026777539</td><td>73.85965280116433</td><td>False</td><td>False</td><td>False</td><td>False</td><td>False</td><td>False</td><td>False</td><td>False</td><td>False</td><td>False</td><td>False</td><td>False</td><td>False</td><td>False</td><td>False</td><td>False</td><td>False</td><td>False</td><td>False</td><td>False</td><td>False</td><td>237574.45571429905</td><td>237574.45571429905</td><td>926.0307371876954</td><td>926.0307371876954</td><td>64.31974</td><td>64.31974</td><td>1664.9592</td><td>1664.9592</td><td>1681</td><td>1681</td><td>False</td><td>False</td><td>False</td><td>False</td><td>False</td><td>False</td><td>False</td><td>5533.60107421875</td><td>False</td></tr>\n",
       "<tr><td>4</td><td>1.2425178040105236</td><td>-0.5309590964950182</td><td>0</td><td>0</td><td>False</td><td>nan</td><td>nan</td><td>nan</td><td>False</td><td>False</td><td>False</td><td>False</td><td>False</td><td>False</td><td>False</td><td>False</td><td>0</td><td>0</td><td>0</td><td>0</td><td>0</td><td>3054.117978999639</td><td>37.03150713913054</td><td>False</td><td>False</td><td>False</td><td>False</td><td>3054.7557905827884</td><td>3054.7557905827884</td><td>37.2086806489261</td><td>37.2086806489261</td><td>0.013045738</td><td>0.013045738</td><td>0.0126815485</td><td>0.0126815485</td><td>False</td><td>False</td><td>False</td><td>False</td><td>False</td><td>False</td><td>False</td><td>False</td><td>False</td><td>False</td><td>False</td><td>False</td><td>False</td><td>False</td><td>False</td><td>False</td><td>False</td><td>False</td><td>False</td><td>False</td><td>False</td><td>False</td><td>False</td><td>False</td><td>False</td><td>False</td><td>False</td><td>False</td><td>False</td><td>False</td><td>False</td><td>False</td><td>False</td><td>False</td><td>False</td><td>False</td><td>False</td><td>False</td><td>False</td><td>False</td><td>False</td><td>False</td><td>False</td><td>False</td><td>False</td><td>False</td><td>False</td><td>False</td><td>False</td><td>False</td><td>False</td><td>False</td><td>False</td><td>False</td><td>False</td><td>False</td><td>False</td><td>False</td><td>False</td><td>False</td><td>False</td><td>False</td><td>False</td><td>False</td><td>False</td><td>False</td><td>False</td><td>False</td><td>False</td><td>False</td><td>False</td><td>False</td><td>0.0</td><td>0.0</td><td>228005.27091529395</td><td>228005.27091529395</td><td>0.0</td><td>228004.73374625546</td><td>228004.73374625546</td><td>4.403822687570486</td><td>4.217128620742844</td><td>0.009325713038117942</td><td>4.403822687570486</td><td>4.217128620742844</td><td>0.009325713038117942</td><td>4.4037765156082305</td><td>4.217021002103671</td><td>0.009382043047113812</td><td>4.4037765156082305</td><td>4.217021002103671</td><td>0.009382043047113812</td><td>False</td><td>False</td><td>False</td><td>4.4202232013194465</td><td>4.4202232013194465</td><td>4.23378155282763</td><td>4.23378155282763</td><td>0.012888726236549651</td><td>0.012888726236549651</td><td>0.053852353</td><td>0.053852353</td><td>0.0515809</td><td>0.0515809</td><td>0.037267797</td><td>0.037267797</td><td>3054.7564390278267</td><td>3054.7564390278267</td><td>37.20800727334852</td><td>37.20800727334852</td><td>230673.88644348644</td><td>230673.88644348644</td><td>1405.1701252300813</td><td>1405.1701252300813</td><td>4.325776075763231</td><td>4.325776075763231</td><td>4.325776075763231</td><td>4.267511141074219</td><td>4.267511141074219</td><td>4.267511141074219</td><td>-0.03963693368871707</td><td>-0.03963693368871707</td><td>-0.03963693368871707</td><td>-37.835857</td><td>-37.835857</td><td>-36.239967</td><td>-36.239967</td><td>-0.11032385</td><td>-0.11032385</td><td>False</td><td>False</td><td>False</td><td>False</td><td>False</td><td>False</td><td>False</td><td>False</td><td>False</td><td>False</td><td>False</td><td>False</td><td>False</td><td>False</td><td>False</td><td>False</td><td>False</td><td>False</td><td>150902.609375</td><td>598.1832885742188</td><td>False</td><td>False</td><td>False</td><td>207053.890625</td><td>793.9265747070312</td><td>False</td><td>False</td><td>False</td><td>230594.921875</td><td>966.6124267578125</td><td>False</td><td>False</td><td>False</td><td>246077.1875</td><td>1314.098388671875</td><td>False</td><td>False</td><td>False</td><td>250014.0862812698</td><td>250014.0862812698</td><td>250014.0862812698</td><td>1690.4234841199002</td><td>1690.4234841199002</td><td>1690.4234841199002</td><td>False</td><td>False</td><td>False</td><td>False</td><td>False</td><td>False</td><td>254744.0723992288</td><td>2320.600683177034</td><td>False</td><td>False</td><td>263008.1564911902</td><td>3347.4511947845995</td><td>False</td><td>False</td><td>265387.05514618754</td><td>4648.210716474254</td><td>False</td><td>False</td><td>nan</td><td>nan</td><td>True</td><td>True</td><td>nan</td><td>nan</td><td>True</td><td>True</td><td>False</td><td>False</td><td>343552.24766513135</td><td>1301.1402727767684</td><td>4128</td><td>477681.3940060652</td><td>1899.2648835089738</td><td>4128</td><td>230673.88644348644</td><td>230673.88644348644</td><td>230673.88644348644</td><td>967.5249020981483</td><td>967.5249020981483</td><td>967.5249020981483</td><td>False</td><td>False</td><td>False</td><td>4.908505124244343</td><td>75.10190848238085</td><td>False</td><td>False</td><td>False</td><td>False</td><td>False</td><td>False</td><td>False</td><td>False</td><td>False</td><td>False</td><td>False</td><td>False</td><td>False</td><td>False</td><td>False</td><td>False</td><td>False</td><td>False</td><td>False</td><td>False</td><td>False</td><td>251805.58001062108</td><td>251805.58001062108</td><td>943.1028622039639</td><td>943.1028622039639</td><td>64.61944</td><td>64.61944</td><td>1849.7908</td><td>1849.7908</td><td>1681</td><td>1681</td><td>False</td><td>False</td><td>False</td><td>False</td><td>False</td><td>False</td><td>False</td><td>5504.52685546875</td><td>False</td></tr>\n",
       "<tr><td>5</td><td>1.2433429899525552</td><td>-0.5308353424960203</td><td>0</td><td>0</td><td>False</td><td>nan</td><td>nan</td><td>nan</td><td>False</td><td>False</td><td>False</td><td>False</td><td>False</td><td>False</td><td>False</td><td>False</td><td>0</td><td>0</td><td>0</td><td>0</td><td>0</td><td>3801.0158946553156</td><td>62.03463685860259</td><td>False</td><td>False</td><td>False</td><td>False</td><td>3801.0936752660286</td><td>3801.0936752660286</td><td>62.22600330124947</td><td>62.22600330124947</td><td>0.003461391</td><td>0.003461391</td><td>0.003428253</td><td>0.003428253</td><td>False</td><td>False</td><td>False</td><td>False</td><td>False</td><td>False</td><td>False</td><td>False</td><td>False</td><td>False</td><td>False</td><td>False</td><td>False</td><td>False</td><td>False</td><td>False</td><td>False</td><td>False</td><td>False</td><td>False</td><td>False</td><td>False</td><td>False</td><td>False</td><td>False</td><td>False</td><td>False</td><td>False</td><td>False</td><td>False</td><td>False</td><td>False</td><td>False</td><td>False</td><td>False</td><td>False</td><td>False</td><td>False</td><td>False</td><td>False</td><td>False</td><td>False</td><td>False</td><td>False</td><td>False</td><td>False</td><td>False</td><td>False</td><td>False</td><td>False</td><td>False</td><td>False</td><td>False</td><td>False</td><td>False</td><td>False</td><td>False</td><td>False</td><td>False</td><td>False</td><td>False</td><td>False</td><td>False</td><td>False</td><td>False</td><td>False</td><td>False</td><td>False</td><td>False</td><td>False</td><td>False</td><td>False</td><td>0.0</td><td>0.0</td><td>2012834.060521551</td><td>2012834.060521551</td><td>0.0</td><td>2012834.060521551</td><td>2012834.060521551</td><td>4.27601721101787</td><td>4.259039128106375</td><td>0.004626976520877812</td><td>4.27601721101787</td><td>4.259039128106375</td><td>0.004626976520877812</td><td>4.27601721101787</td><td>4.259039128106375</td><td>0.004626976520877812</td><td>4.27601721101787</td><td>4.259039128106375</td><td>0.004626976520877812</td><td>False</td><td>False</td><td>False</td><td>4.289776446438521</td><td>4.289776446438521</td><td>4.274188851723201</td><td>4.274188851723201</td><td>0.003238511366885387</td><td>0.003238511366885387</td><td>0.015061535</td><td>0.015061535</td><td>0.015006808</td><td>0.015006808</td><td>0.010630749</td><td>0.010630749</td><td>3801.0932186277582</td><td>3801.0932186277582</td><td>62.224938626384294</td><td>62.224938626384294</td><td>2035429.8020471334</td><td>2035429.8020471334</td><td>3573.2275298960867</td><td>3573.2275298960867</td><td>4.313562377019041</td><td>4.313562377019041</td><td>4.313562377019041</td><td>4.291540330074723</td><td>4.291540330074723</td><td>4.291540330074723</td><td>-0.03706864275633262</td><td>-0.03706864275633262</td><td>-0.03706864275633262</td><td>-26.909143</td><td>-26.909143</td><td>-26.811367</td><td>-26.811367</td><td>-0.020314706</td><td>-0.020314706</td><td>False</td><td>False</td><td>False</td><td>False</td><td>False</td><td>False</td><td>False</td><td>False</td><td>False</td><td>False</td><td>False</td><td>False</td><td>False</td><td>False</td><td>False</td><td>False</td><td>False</td><td>False</td><td>1333196.5</td><td>1425.4083251953125</td><td>False</td><td>False</td><td>False</td><td>1829475.125</td><td>1724.9908447265625</td><td>False</td><td>False</td><td>False</td><td>2041285.0</td><td>1889.13671875</td><td>False</td><td>False</td><td>False</td><td>2168224.25</td><td>2127.3173828125</td><td>False</td><td>False</td><td>False</td><td>2205180.45710063</td><td>2205180.45710063</td><td>2205180.45710063</td><td>2387.981719133957</td><td>2387.981719133957</td><td>2387.981719133957</td><td>False</td><td>False</td><td>False</td><td>False</td><td>False</td><td>False</td><td>2224617.8968545794</td><td>2870.2370352763332</td><td>False</td><td>False</td><td>2227584.8124525547</td><td>3750.8323789735327</td><td>False</td><td>False</td><td>2227696.330938846</td><td>4944.497609895045</td><td>False</td><td>False</td><td>2228525.217060253</td><td>6821.318503949527</td><td>False</td><td>False</td><td>nan</td><td>nan</td><td>True</td><td>True</td><td>False</td><td>False</td><td>3046511.348007156</td><td>3003.432314182447</td><td>4128</td><td>4241195.7021326665</td><td>3888.2748448561106</td><td>4128</td><td>2035429.8020471334</td><td>2035429.8020471334</td><td>2035429.8020471334</td><td>2526.6535183510177</td><td>2526.6535183510177</td><td>2526.6535183510177</td><td>False</td><td>False</td><td>False</td><td>4.112666653334948</td><td>72.76928167867483</td><td>False</td><td>False</td><td>False</td><td>False</td><td>False</td><td>False</td><td>False</td><td>False</td><td>False</td><td>False</td><td>False</td><td>False</td><td>False</td><td>False</td><td>False</td><td>False</td><td>False</td><td>False</td><td>False</td><td>False</td><td>False</td><td>2226233.3725612205</td><td>2226233.3725612205</td><td>2267.8117776515314</td><td>2267.8117776515314</td><td>64.23006</td><td>64.23006</td><td>3205.7427</td><td>3205.7427</td><td>1681</td><td>1681</td><td>False</td><td>False</td><td>False</td><td>False</td><td>False</td><td>False</td><td>True</td><td>nan</td><td>True</td></tr>\n",
       "<tr><td>6</td><td>1.239765777674661</td><td>-0.5315677096522757</td><td>0</td><td>0</td><td>False</td><td>nan</td><td>nan</td><td>nan</td><td>False</td><td>False</td><td>False</td><td>False</td><td>False</td><td>False</td><td>False</td><td>False</td><td>0</td><td>0</td><td>0</td><td>0</td><td>0</td><td>524.0223792310926</td><td>154.0183859612677</td><td>False</td><td>False</td><td>False</td><td>False</td><td>524.154440008433</td><td>524.154440008433</td><td>154.11923205153317</td><td>154.11923205153317</td><td>0.031864565</td><td>0.031864565</td><td>0.03071456</td><td>0.03071456</td><td>False</td><td>False</td><td>False</td><td>False</td><td>False</td><td>False</td><td>False</td><td>False</td><td>False</td><td>False</td><td>False</td><td>False</td><td>False</td><td>False</td><td>False</td><td>False</td><td>False</td><td>False</td><td>False</td><td>False</td><td>False</td><td>False</td><td>False</td><td>False</td><td>False</td><td>False</td><td>False</td><td>False</td><td>False</td><td>False</td><td>False</td><td>False</td><td>False</td><td>False</td><td>False</td><td>False</td><td>False</td><td>False</td><td>False</td><td>False</td><td>False</td><td>False</td><td>False</td><td>False</td><td>False</td><td>False</td><td>False</td><td>False</td><td>False</td><td>False</td><td>False</td><td>False</td><td>False</td><td>False</td><td>False</td><td>False</td><td>False</td><td>False</td><td>False</td><td>False</td><td>False</td><td>False</td><td>False</td><td>False</td><td>False</td><td>False</td><td>False</td><td>False</td><td>False</td><td>False</td><td>False</td><td>False</td><td>0.0</td><td>0.0</td><td>74018.24112330395</td><td>74018.24112330395</td><td>0.0</td><td>74019.12199234196</td><td>74019.12199234196</td><td>4.472853840853947</td><td>4.185473668529803</td><td>-0.14759047493508726</td><td>4.472853840853947</td><td>4.185473668529803</td><td>-0.14759047493508726</td><td>4.471662669118719</td><td>4.1888102130913545</td><td>-0.14913156279827838</td><td>4.471662669118719</td><td>4.1888102130913545</td><td>-0.14913156279827838</td><td>False</td><td>False</td><td>False</td><td>4.483294624816816</td><td>4.483294624816816</td><td>4.1969495048482335</td><td>4.1969495048482335</td><td>-0.1497458936003112</td><td>-0.1497458936003112</td><td>0.12246295</td><td>0.12246295</td><td>0.11464132</td><td>0.11464132</td><td>0.08383331</td><td>0.08383331</td><td>524.1523492206397</td><td>524.1523492206397</td><td>154.11827218493576</td><td>154.11827218493576</td><td>74893.95381886698</td><td>74893.95381886698</td><td>1022.8789588452954</td><td>1022.8789588452954</td><td>4.313760153268069</td><td>4.313760153268069</td><td>4.313760153268069</td><td>4.244861161423082</td><td>4.244861161423082</td><td>4.244861161423082</td><td>-0.06145390589283934</td><td>-0.06145390589283934</td><td>-0.06145390589283934</td><td>-62.632385</td><td>-62.632385</td><td>-58.6321</td><td>-58.6321</td><td>2.091976</td><td>2.091976</td><td>False</td><td>False</td><td>False</td><td>False</td><td>False</td><td>False</td><td>False</td><td>False</td><td>False</td><td>False</td><td>False</td><td>False</td><td>False</td><td>False</td><td>False</td><td>False</td><td>False</td><td>False</td><td>48851.5546875</td><td>465.70703125</td><td>False</td><td>False</td><td>False</td><td>67247.0546875</td><td>657.41845703125</td><td>False</td><td>False</td><td>False</td><td>74567.828125</td><td>843.8703002929688</td><td>False</td><td>False</td><td>False</td><td>78197.5546875</td><td>1220.0609130859375</td><td>False</td><td>False</td><td>False</td><td>80812.88435959816</td><td>80812.88435959816</td><td>80812.88435959816</td><td>1611.1364568580736</td><td>1611.1364568580736</td><td>1611.1364568580736</td><td>False</td><td>False</td><td>False</td><td>False</td><td>False</td><td>False</td><td>82331.72403204441</td><td>2264.5565520519476</td><td>False</td><td>False</td><td>84110.18574762344</td><td>3311.310957952138</td><td>False</td><td>False</td><td>81485.57789707184</td><td>4622.013289692886</td><td>False</td><td>False</td><td>84660.71410775185</td><td>6594.371922832426</td><td>False</td><td>False</td><td>72380.59389686584</td><td>9224.361980180865</td><td>False</td><td>False</td><td>False</td><td>False</td><td>111363.29394284799</td><td>1037.5277528030588</td><td>4128</td><td>154254.6384217415</td><td>1623.144303670581</td><td>4128</td><td>74893.95381886698</td><td>74893.95381886698</td><td>74893.95381886698</td><td>723.2846251450035</td><td>723.2846251450035</td><td>723.2846251450035</td><td>False</td><td>False</td><td>False</td><td>0.08840109785349921</td><td>73.65637964057022</td><td>False</td><td>False</td><td>False</td><td>False</td><td>False</td><td>False</td><td>False</td><td>False</td><td>False</td><td>False</td><td>False</td><td>False</td><td>False</td><td>False</td><td>False</td><td>False</td><td>False</td><td>False</td><td>False</td><td>False</td><td>False</td><td>81390.81658076026</td><td>81390.81658076026</td><td>725.7386608617351</td><td>725.7386608617351</td><td>64.31262</td><td>64.31262</td><td>1737.1128</td><td>1737.1128</td><td>1681</td><td>1681</td><td>False</td><td>False</td><td>False</td><td>False</td><td>False</td><td>False</td><td>False</td><td>5559.13818359375</td><td>False</td></tr>\n",
       "<tr><td>7</td><td>1.2433953949699876</td><td>-0.5309410882108995</td><td>0</td><td>0</td><td>False</td><td>nan</td><td>nan</td><td>nan</td><td>False</td><td>False</td><td>False</td><td>False</td><td>False</td><td>False</td><td>False</td><td>False</td><td>0</td><td>0</td><td>0</td><td>0</td><td>0</td><td>3824.0646717491936</td><td>178.0865523578207</td><td>False</td><td>False</td><td>False</td><td>False</td><td>3824.492067892106</td><td>3824.492067892106</td><td>178.5994840747423</td><td>178.5994840747423</td><td>0.024184609</td><td>0.024184609</td><td>0.024718914</td><td>0.024718914</td><td>False</td><td>False</td><td>False</td><td>False</td><td>False</td><td>False</td><td>False</td><td>False</td><td>False</td><td>False</td><td>False</td><td>False</td><td>False</td><td>False</td><td>False</td><td>False</td><td>False</td><td>False</td><td>False</td><td>False</td><td>False</td><td>False</td><td>False</td><td>False</td><td>False</td><td>False</td><td>False</td><td>False</td><td>False</td><td>False</td><td>False</td><td>False</td><td>False</td><td>False</td><td>False</td><td>False</td><td>False</td><td>False</td><td>False</td><td>False</td><td>False</td><td>False</td><td>False</td><td>False</td><td>False</td><td>False</td><td>False</td><td>False</td><td>False</td><td>False</td><td>False</td><td>False</td><td>False</td><td>False</td><td>False</td><td>False</td><td>False</td><td>False</td><td>False</td><td>False</td><td>False</td><td>False</td><td>False</td><td>False</td><td>False</td><td>False</td><td>False</td><td>False</td><td>False</td><td>False</td><td>False</td><td>False</td><td>0.0</td><td>0.0</td><td>97934.8417079795</td><td>97934.8417079795</td><td>0.0</td><td>97928.5761990005</td><td>97928.5761990005</td><td>4.252723202441769</td><td>4.2975282959914916</td><td>-0.012860601748210077</td><td>4.252723202441769</td><td>4.2975282959914916</td><td>-0.012860601748210077</td><td>4.251085246493931</td><td>4.295711272671254</td><td>-0.01283020742295893</td><td>4.251085246493931</td><td>4.295711272671254</td><td>-0.01283020742295893</td><td>False</td><td>False</td><td>False</td><td>4.269999840953216</td><td>4.269999840953216</td><td>4.311939202816467</td><td>4.311939202816467</td><td>-0.01302535737028204</td><td>-0.01302535737028204</td><td>0.09145842</td><td>0.09145842</td><td>0.09235671</td><td>0.09235671</td><td>0.06498799</td><td>0.06498799</td><td>3824.492897856621</td><td>3824.492897856621</td><td>178.59964687274717</td><td>178.59964687274717</td><td>99083.91016406566</td><td>99083.91016406566</td><td>1061.1309498919973</td><td>1061.1309498919973</td><td>4.310100053690011</td><td>4.310100053690011</td><td>4.310100053690011</td><td>4.291720945894278</td><td>4.291720945894278</td><td>4.291720945894278</td><td>-0.031388722053588315</td><td>-0.031388722053588315</td><td>-0.031388722053588315</td><td>-48.52468</td><td>-48.52468</td><td>-49.00128</td><td>-49.00128</td><td>0.14802139</td><td>0.14802139</td><td>False</td><td>False</td><td>False</td><td>False</td><td>False</td><td>False</td><td>False</td><td>False</td><td>False</td><td>False</td><td>False</td><td>False</td><td>False</td><td>False</td><td>False</td><td>False</td><td>False</td><td>False</td><td>65610.15625</td><td>489.3565673828125</td><td>False</td><td>False</td><td>False</td><td>89101.1328125</td><td>679.1714477539062</td><td>False</td><td>False</td><td>False</td><td>98991.1796875</td><td>862.3139038085938</td><td>False</td><td>False</td><td>False</td><td>105078.125</td><td>1233.4849853515625</td><td>False</td><td>False</td><td>False</td><td>106237.90619748831</td><td>106237.90619748831</td><td>106237.90619748831</td><td>1629.2580631765434</td><td>1629.2580631765434</td><td>1629.2580631765434</td><td>False</td><td>False</td><td>False</td><td>False</td><td>False</td><td>False</td><td>105347.4847150743</td><td>2270.546620434473</td><td>False</td><td>False</td><td>100643.20592942834</td><td>3316.948182753284</td><td>False</td><td>False</td><td>90849.78204409778</td><td>4620.639600253377</td><td>False</td><td>False</td><td>83312.45779332519</td><td>6591.131121324784</td><td>False</td><td>False</td><td>72338.14708196744</td><td>9217.611773747223</td><td>False</td><td>False</td><td>False</td><td>False</td><td>148407.48705913534</td><td>1082.9280887284533</td><td>4128</td><td>207027.24707325583</td><td>1668.4771941648871</td><td>4128</td><td>99083.91016406566</td><td>99083.91016406566</td><td>99083.91016406566</td><td>756.9745192675416</td><td>756.9745192675416</td><td>756.9745192675416</td><td>False</td><td>False</td><td>False</td><td>-4.856074968446321</td><td>75.00887260171436</td><td>False</td><td>False</td><td>False</td><td>False</td><td>False</td><td>False</td><td>False</td><td>False</td><td>False</td><td>False</td><td>False</td><td>False</td><td>False</td><td>False</td><td>False</td><td>False</td><td>False</td><td>False</td><td>False</td><td>False</td><td>False</td><td>108136.6607079902</td><td>108136.6607079902</td><td>762.2730894380462</td><td>762.2730894380462</td><td>64.124794</td><td>64.124794</td><td>1743.9673</td><td>1743.9673</td><td>1681</td><td>1681</td><td>False</td><td>False</td><td>False</td><td>False</td><td>False</td><td>False</td><td>False</td><td>5550.826171875</td><td>False</td></tr>\n",
       "<tr><td>8</td><td>1.2395018237653028</td><td>-0.53167184495676</td><td>0</td><td>0</td><td>False</td><td>nan</td><td>nan</td><td>nan</td><td>False</td><td>False</td><td>False</td><td>False</td><td>False</td><td>False</td><td>False</td><td>False</td><td>0</td><td>0</td><td>0</td><td>0</td><td>0</td><td>271.14552347624</td><td>211.12236904485673</td><td>False</td><td>False</td><td>False</td><td>False</td><td>271.8423630981192</td><td>271.8423630981192</td><td>211.79304656251296</td><td>211.79304656251296</td><td>0.018413033</td><td>0.018413033</td><td>0.018188959</td><td>0.018188959</td><td>False</td><td>False</td><td>False</td><td>False</td><td>False</td><td>False</td><td>False</td><td>False</td><td>False</td><td>False</td><td>False</td><td>False</td><td>False</td><td>False</td><td>False</td><td>False</td><td>False</td><td>False</td><td>False</td><td>False</td><td>False</td><td>False</td><td>False</td><td>False</td><td>False</td><td>False</td><td>False</td><td>False</td><td>False</td><td>False</td><td>False</td><td>False</td><td>False</td><td>False</td><td>False</td><td>False</td><td>False</td><td>False</td><td>False</td><td>False</td><td>False</td><td>False</td><td>False</td><td>False</td><td>False</td><td>False</td><td>False</td><td>False</td><td>False</td><td>False</td><td>False</td><td>False</td><td>False</td><td>False</td><td>False</td><td>False</td><td>False</td><td>False</td><td>False</td><td>False</td><td>False</td><td>False</td><td>False</td><td>False</td><td>False</td><td>False</td><td>False</td><td>False</td><td>False</td><td>False</td><td>False</td><td>False</td><td>0.0</td><td>0.0</td><td>141100.36523813166</td><td>141100.36523813166</td><td>0.0</td><td>141100.28248922995</td><td>141100.28248922995</td><td>4.292747312268896</td><td>4.271145065893608</td><td>-0.13938522118977664</td><td>4.292747312268896</td><td>4.271145065893608</td><td>-0.13938522118977664</td><td>4.292701211037581</td><td>4.271215910922777</td><td>-0.13957457341668877</td><td>4.292701211037581</td><td>4.271215910922777</td><td>-0.13957457341668877</td><td>False</td><td>False</td><td>False</td><td>4.3073595988233775</td><td>4.3073595988233775</td><td>4.287821703122322</td><td>4.287821703122322</td><td>-0.14047532710222232</td><td>-0.14047532710222232</td><td>0.072531894</td><td>0.072531894</td><td>0.07220289</td><td>0.07220289</td><td>0.051198673</td><td>0.051198673</td><td>271.8411260367073</td><td>271.8411260367073</td><td>211.791846472585</td><td>211.791846472585</td><td>142782.9262419697</td><td>142782.9262419697</td><td>1202.165207422797</td><td>1202.165207422797</td><td>4.306733514299017</td><td>4.306733514299017</td><td>4.306733514299017</td><td>4.247937154754939</td><td>4.247937154754939</td><td>4.247937154754939</td><td>-0.06366731751292763</td><td>-0.06366731751292763</td><td>-0.06366731751292763</td><td>-43.59766</td><td>-43.59766</td><td>-43.399902</td><td>-43.399902</td><td>1.4218446</td><td>1.4218446</td><td>False</td><td>False</td><td>False</td><td>False</td><td>False</td><td>False</td><td>False</td><td>False</td><td>False</td><td>False</td><td>False</td><td>False</td><td>False</td><td>False</td><td>False</td><td>False</td><td>False</td><td>False</td><td>93597.5390625</td><td>528.5086059570312</td><td>False</td><td>False</td><td>False</td><td>127950.0234375</td><td>720.384521484375</td><td>False</td><td>False</td><td>False</td><td>143192.390625</td><td>900.5487670898438</td><td>False</td><td>False</td><td>False</td><td>153147.484375</td><td>1263.553466796875</td><td>False</td><td>False</td><td>False</td><td>154638.68148720264</td><td>154638.68148720264</td><td>154638.68148720264</td><td>1652.4443017572955</td><td>1652.4443017572955</td><td>1652.4443017572955</td><td>False</td><td>False</td><td>False</td><td>False</td><td>False</td><td>False</td><td>155206.39766722918</td><td>2288.8853799862595</td><td>False</td><td>False</td><td>152589.5229807347</td><td>3328.4624231826715</td><td>False</td><td>False</td><td>149316.33158683777</td><td>4633.9928156534015</td><td>False</td><td>False</td><td>146436.6546178758</td><td>6603.316434089081</td><td>False</td><td>False</td><td>143191.9122590348</td><td>9230.772522006344</td><td>False</td><td>False</td><td>False</td><td>False</td><td>213368.65076857954</td><td>1161.792544586122</td><td>4128</td><td>298079.95949699247</td><td>1750.774036046314</td><td>4128</td><td>142782.9262419697</td><td>142782.9262419697</td><td>142782.9262419697</td><td>812.8145453637763</td><td>812.8145453637763</td><td>812.8145453637763</td><td>False</td><td>False</td><td>False</td><td>-1.6019629498192038</td><td>73.32476479402668</td><td>False</td><td>False</td><td>False</td><td>False</td><td>False</td><td>False</td><td>False</td><td>False</td><td>False</td><td>False</td><td>False</td><td>False</td><td>False</td><td>False</td><td>False</td><td>False</td><td>False</td><td>False</td><td>False</td><td>False</td><td>False</td><td>155734.92244434534</td><td>155734.92244434534</td><td>826.7770413114998</td><td>826.7770413114998</td><td>64.04936</td><td>64.04936</td><td>1788.1837</td><td>1788.1837</td><td>1681</td><td>1681</td><td>False</td><td>False</td><td>False</td><td>False</td><td>False</td><td>False</td><td>False</td><td>5530.30859375</td><td>False</td></tr>\n",
       "<tr><td>9</td><td>1.242913346258679</td><td>-0.5310707541452114</td><td>0</td><td>0</td><td>False</td><td>nan</td><td>nan</td><td>nan</td><td>False</td><td>False</td><td>False</td><td>False</td><td>False</td><td>False</td><td>False</td><td>False</td><td>0</td><td>0</td><td>0</td><td>0</td><td>0</td><td>3376.0713886755657</td><td>221.14738643710965</td><td>False</td><td>False</td><td>False</td><td>False</td><td>3376.4349423726494</td><td>3376.4349423726494</td><td>221.91140732794858</td><td>221.91140732794858</td><td>0.02793831</td><td>0.02793831</td><td>0.02835809</td><td>0.02835809</td><td>False</td><td>False</td><td>False</td><td>False</td><td>False</td><td>False</td><td>False</td><td>False</td><td>False</td><td>False</td><td>False</td><td>False</td><td>False</td><td>False</td><td>False</td><td>False</td><td>False</td><td>False</td><td>False</td><td>False</td><td>False</td><td>False</td><td>False</td><td>False</td><td>False</td><td>False</td><td>False</td><td>False</td><td>False</td><td>False</td><td>False</td><td>False</td><td>False</td><td>False</td><td>False</td><td>False</td><td>False</td><td>False</td><td>False</td><td>False</td><td>False</td><td>False</td><td>False</td><td>False</td><td>False</td><td>False</td><td>False</td><td>False</td><td>False</td><td>False</td><td>False</td><td>False</td><td>False</td><td>False</td><td>False</td><td>False</td><td>False</td><td>False</td><td>False</td><td>False</td><td>False</td><td>False</td><td>False</td><td>False</td><td>False</td><td>False</td><td>False</td><td>False</td><td>False</td><td>False</td><td>False</td><td>False</td><td>0.0</td><td>0.0</td><td>82813.91500130492</td><td>82813.91500130492</td><td>0.0</td><td>82805.6127408166</td><td>82805.6127408166</td><td>4.298481922141608</td><td>4.2880828768329735</td><td>-0.0539438525772606</td><td>4.298481922141608</td><td>4.2880828768329735</td><td>-0.0539438525772606</td><td>4.2954588454217415</td><td>4.285747465099891</td><td>-0.0533951726212775</td><td>4.2954588454217415</td><td>4.285747465099891</td><td>-0.0533951726212775</td><td>False</td><td>False</td><td>False</td><td>4.315790514074453</td><td>4.315790514074453</td><td>4.295071844732724</td><td>4.295071844732724</td><td>-0.053114646508640284</td><td>-0.053114646508640284</td><td>0.10771122</td><td>0.10771122</td><td>0.10719413</td><td>0.10719413</td><td>0.07598608</td><td>0.07598608</td><td>3376.4350128447454</td><td>3376.4350128447454</td><td>221.91056293057713</td><td>221.91056293057713</td><td>83718.72087787277</td><td>83718.72087787277</td><td>1044.7037331835754</td><td>1044.7037331835754</td><td>4.316460997122385</td><td>4.316460997122385</td><td>4.316460997122385</td><td>4.276143327193087</td><td>4.276143327193087</td><td>4.276143327193087</td><td>-0.029844285625118705</td><td>-0.029844285625118705</td><td>-0.029844285625118705</td><td>-56.263157</td><td>-56.263157</td><td>-55.993057</td><td>-55.993057</td><td>0.69243336</td><td>0.69243336</td><td>False</td><td>False</td><td>False</td><td>False</td><td>False</td><td>False</td><td>False</td><td>False</td><td>False</td><td>False</td><td>False</td><td>False</td><td>False</td><td>False</td><td>False</td><td>False</td><td>False</td><td>False</td><td>54636.6484375</td><td>473.47381591796875</td><td>False</td><td>False</td><td>False</td><td>75143.65625</td><td>665.1198120117188</td><td>False</td><td>False</td><td>False</td><td>84249.609375</td><td>850.9429931640625</td><td>False</td><td>False</td><td>False</td><td>89993.3046875</td><td>1225.6256103515625</td><td>False</td><td>False</td><td>False</td><td>93217.8035415411</td><td>93217.8035415411</td><td>93217.8035415411</td><td>1625.7334560190152</td><td>1625.7334560190152</td><td>1625.7334560190152</td><td>False</td><td>False</td><td>False</td><td>False</td><td>False</td><td>False</td><td>93949.75580960512</td><td>2268.8485590033124</td><td>False</td><td>False</td><td>96576.05654990673</td><td>3308.6618141611693</td><td>False</td><td>False</td><td>91888.89775955677</td><td>4619.55280061141</td><td>False</td><td>False</td><td>114535.70267748833</td><td>6593.868640668437</td><td>False</td><td>False</td><td>118463.5924872756</td><td>9222.219352183354</td><td>False</td><td>False</td><td>False</td><td>False</td><td>124572.46776242983</td><td>1054.4093288966276</td><td>4128</td><td>174168.22309307498</td><td>1640.0259225242999</td><td>4128</td><td>83718.72087787278</td><td>83718.72087787278</td><td>83718.72087787278</td><td>716.0491666560256</td><td>716.0491666560256</td><td>716.0491666560256</td><td>False</td><td>False</td><td>False</td><td>-0.37941142582188286</td><td>72.91170804146218</td><td>False</td><td>False</td><td>False</td><td>False</td><td>False</td><td>False</td><td>False</td><td>False</td><td>False</td><td>False</td><td>False</td><td>False</td><td>False</td><td>False</td><td>False</td><td>False</td><td>False</td><td>False</td><td>False</td><td>False</td><td>False</td><td>91486.209737502</td><td>91486.209737502</td><td>740.7566828459196</td><td>740.7566828459196</td><td>64.410645</td><td>64.410645</td><td>1587.4708</td><td>1587.4708</td><td>1681</td><td>1681</td><td>False</td><td>False</td><td>False</td><td>False</td><td>False</td><td>False</td><td>False</td><td>5539.7890625</td><td>False</td></tr>\n",
       "<tr><td>...</td><td>...</td><td>...</td><td>...</td><td>...</td><td>...</td><td>...</td><td>...</td><td>...</td><td>...</td><td>...</td><td>...</td><td>...</td><td>...</td><td>...</td><td>...</td><td>...</td><td>...</td><td>...</td><td>...</td><td>...</td><td>...</td><td>...</td><td>...</td><td>...</td><td>...</td><td>...</td><td>...</td><td>...</td><td>...</td><td>...</td><td>...</td><td>...</td><td>...</td><td>...</td><td>...</td><td>...</td><td>...</td><td>...</td><td>...</td><td>...</td><td>...</td><td>...</td><td>...</td><td>...</td><td>...</td><td>...</td><td>...</td><td>...</td><td>...</td><td>...</td><td>...</td><td>...</td><td>...</td><td>...</td><td>...</td><td>...</td><td>...</td><td>...</td><td>...</td><td>...</td><td>...</td><td>...</td><td>...</td><td>...</td><td>...</td><td>...</td><td>...</td><td>...</td><td>...</td><td>...</td><td>...</td><td>...</td><td>...</td><td>...</td><td>...</td><td>...</td><td>...</td><td>...</td><td>...</td><td>...</td><td>...</td><td>...</td><td>...</td><td>...</td><td>...</td><td>...</td><td>...</td><td>...</td><td>...</td><td>...</td><td>...</td><td>...</td><td>...</td><td>...</td><td>...</td><td>...</td><td>...</td><td>...</td><td>...</td><td>...</td><td>...</td><td>...</td><td>...</td><td>...</td><td>...</td><td>...</td><td>...</td><td>...</td><td>...</td><td>...</td><td>...</td><td>...</td><td>...</td><td>...</td><td>...</td><td>...</td><td>...</td><td>...</td><td>...</td><td>...</td><td>...</td><td>...</td><td>...</td><td>...</td><td>...</td><td>...</td><td>...</td><td>...</td><td>...</td><td>...</td><td>...</td><td>...</td><td>...</td><td>...</td><td>...</td><td>...</td><td>...</td><td>...</td><td>...</td><td>...</td><td>...</td><td>...</td><td>...</td><td>...</td><td>...</td><td>...</td><td>...</td><td>...</td><td>...</td><td>...</td><td>...</td><td>...</td><td>...</td><td>...</td><td>...</td><td>...</td><td>...</td><td>...</td><td>...</td><td>...</td><td>...</td><td>...</td><td>...</td><td>...</td><td>...</td><td>...</td><td>...</td><td>...</td><td>...</td><td>...</td><td>...</td><td>...</td><td>...</td><td>...</td><td>...</td><td>...</td><td>...</td><td>...</td><td>...</td><td>...</td><td>...</td><td>...</td><td>...</td><td>...</td><td>...</td><td>...</td><td>...</td><td>...</td><td>...</td><td>...</td><td>...</td><td>...</td><td>...</td><td>...</td><td>...</td><td>...</td><td>...</td><td>...</td><td>...</td><td>...</td><td>...</td><td>...</td><td>...</td><td>...</td><td>...</td><td>...</td><td>...</td><td>...</td><td>...</td><td>...</td><td>...</td><td>...</td><td>...</td><td>...</td><td>...</td><td>...</td><td>...</td><td>...</td><td>...</td><td>...</td><td>...</td><td>...</td><td>...</td><td>...</td><td>...</td><td>...</td><td>...</td><td>...</td><td>...</td><td>...</td><td>...</td><td>...</td><td>...</td><td>...</td><td>...</td><td>...</td><td>...</td><td>...</td><td>...</td><td>...</td><td>...</td><td>...</td><td>...</td><td>...</td><td>...</td><td>...</td><td>...</td><td>...</td><td>...</td><td>...</td><td>...</td><td>...</td><td>...</td><td>...</td><td>...</td><td>...</td><td>...</td><td>...</td><td>...</td><td>...</td><td>...</td><td>...</td><td>...</td><td>...</td><td>...</td><td>...</td><td>...</td><td>...</td><td>...</td><td>...</td><td>...</td><td>...</td><td>...</td><td>...</td><td>...</td><td>...</td><td>...</td><td>...</td><td>...</td><td>...</td><td>...</td><td>...</td><td>...</td><td>...</td><td>...</td><td>...</td><td>...</td><td>...</td><td>...</td><td>...</td><td>...</td><td>...</td><td>...</td></tr>\n",
       "<tr><td>150</td><td>1.2439564091998183</td><td>-0.5334940793578106</td><td>93</td><td>0</td><td>False</td><td>nan</td><td>nan</td><td>nan</td><td>False</td><td>False</td><td>False</td><td>False</td><td>False</td><td>True</td><td>False</td><td>False</td><td>3774</td><td>2860</td><td>160</td><td>1</td><td>2</td><td>3773.0136216280466</td><td>2859.065903558915</td><td>False</td><td>False</td><td>False</td><td>False</td><td>3773.860842645603</td><td>3773.860842645603</td><td>2859.9096234941026</td><td>2859.9096234941026</td><td>0.008756022</td><td>0.008756022</td><td>0.013286068</td><td>0.013286068</td><td>False</td><td>False</td><td>False</td><td>False</td><td>False</td><td>False</td><td>False</td><td>False</td><td>False</td><td>False</td><td>False</td><td>False</td><td>False</td><td>False</td><td>False</td><td>False</td><td>False</td><td>False</td><td>False</td><td>False</td><td>False</td><td>False</td><td>False</td><td>False</td><td>False</td><td>False</td><td>False</td><td>False</td><td>False</td><td>False</td><td>False</td><td>False</td><td>False</td><td>False</td><td>False</td><td>False</td><td>False</td><td>False</td><td>False</td><td>False</td><td>False</td><td>False</td><td>False</td><td>False</td><td>False</td><td>False</td><td>False</td><td>False</td><td>False</td><td>False</td><td>False</td><td>False</td><td>False</td><td>False</td><td>False</td><td>False</td><td>False</td><td>False</td><td>False</td><td>False</td><td>False</td><td>False</td><td>False</td><td>False</td><td>False</td><td>False</td><td>False</td><td>False</td><td>False</td><td>False</td><td>False</td><td>False</td><td>0.20144923095767556</td><td>0.12250136032223624</td><td>1408725.4071422475</td><td>1605387.568075959</td><td>0.12250136033633185</td><td>1408725.4071196185</td><td>1605387.568075959</td><td>6.767155672125567</td><td>16.134923636165396</td><td>0.2982735001317348</td><td>9.0304398400282</td><td>16.790335752418432</td><td>0.33561312205802246</td><td>6.767155671516232</td><td>16.134923633741188</td><td>0.29827350143150033</td><td>9.0304398400282</td><td>16.790335752418432</td><td>0.33561312205802246</td><td>False</td><td>False</td><td>False</td><td>6.812251488379396</td><td>6.812251488379396</td><td>16.200807676219288</td><td>16.200807676219288</td><td>0.2974759169981555</td><td>0.2974759169981555</td><td>0.031180963</td><td>0.031180963</td><td>0.07415416</td><td>0.07415416</td><td>0.034015086</td><td>0.034015086</td><td>3773.9142796317847</td><td>3773.9142796317847</td><td>2859.905031200367</td><td>2859.905031200367</td><td>1425670.966057241</td><td>1425670.966057241</td><td>3262.7830216111424</td><td>3262.7830216111424</td><td>4.325287415334403</td><td>4.325287415334403</td><td>4.325287415334403</td><td>4.271840965195695</td><td>4.271840965195695</td><td>4.271840965195695</td><td>0.03039313400719363</td><td>0.03039313400719363</td><td>0.03039313400719363</td><td>-50.86836</td><td>-50.86836</td><td>-120.97447</td><td>-120.97447</td><td>-2.2213085</td><td>-2.2213085</td><td>False</td><td>False</td><td>False</td><td>False</td><td>False</td><td>False</td><td>False</td><td>False</td><td>False</td><td>False</td><td>False</td><td>False</td><td>False</td><td>False</td><td>False</td><td>False</td><td>False</td><td>False</td><td>512745.40625</td><td>950.1813354492188</td><td>False</td><td>False</td><td>False</td><td>838293.875</td><td>1282.63720703125</td><td>False</td><td>False</td><td>False</td><td>1116620.5</td><td>1588.3695068359375</td><td>False</td><td>False</td><td>False</td><td>1413116.875</td><td>2120.1005859375</td><td>False</td><td>False</td><td>False</td><td>1538088.740951538</td><td>1538088.740951538</td><td>1538088.740951538</td><td>2581.283240270991</td><td>2581.283240270991</td><td>2581.283240270991</td><td>False</td><td>False</td><td>False</td><td>False</td><td>False</td><td>False</td><td>1618415.019339323</td><td>3100.0899927871296</td><td>False</td><td>False</td><td>1643094.3136157691</td><td>3951.533219234636</td><td>False</td><td>False</td><td>1685080.945314087</td><td>5106.316436274125</td><td>False</td><td>False</td><td>1733085.1192469224</td><td>6942.241962389057</td><td>False</td><td>False</td><td>1754374.1377207004</td><td>9474.717728418253</td><td>False</td><td>False</td><td>False</td><td>False</td><td>1213845.7194057112</td><td>2058.709881969465</td><td>12326</td><td>2189377.6368090357</td><td>3021.223969434967</td><td>12838</td><td>1425670.966057241</td><td>1425670.966057241</td><td>1425670.966057241</td><td>2409.258046446066</td><td>2409.258046446066</td><td>2409.258046446066</td><td>False</td><td>False</td><td>False</td><td>32.98732098543113</td><td>73.66255028443501</td><td>False</td><td>False</td><td>False</td><td>False</td><td>False</td><td>False</td><td>True</td><td>True</td><td>False</td><td>False</td><td>False</td><td>True</td><td>True</td><td>False</td><td>False</td><td>False</td><td>True</td><td>True</td><td>False</td><td>False</td><td>False</td><td>908976.4477148162</td><td>908976.4477148162</td><td>1474.989125667995</td><td>1474.989125667995</td><td>63.775578</td><td>63.775578</td><td>161519.16</td><td>161519.16</td><td>1681</td><td>1681</td><td>False</td><td>False</td><td>False</td><td>False</td><td>False</td><td>False</td><td>False</td><td>5724.20361328125</td><td>False</td></tr>\n",
       "<tr><td>151</td><td>1.2433852299580646</td><td>-0.5338354244246903</td><td>104</td><td>0</td><td>False</td><td>nan</td><td>nan</td><td>nan</td><td>False</td><td>False</td><td>False</td><td>False</td><td>False</td><td>True</td><td>False</td><td>False</td><td>3204</td><td>3101</td><td>164</td><td>1</td><td>3</td><td>3203.9091716679804</td><td>3101.0653651447246</td><td>False</td><td>False</td><td>False</td><td>False</td><td>3204.0</td><td>3204.0</td><td>3101.0</td><td>3101.0</td><td>0.09644332</td><td>0.09644332</td><td>0.19779508</td><td>0.19779508</td><td>True</td><td>True</td><td>True</td><td>True</td><td>True</td><td>True</td><td>True</td><td>True</td><td>True</td><td>False</td><td>False</td><td>False</td><td>False</td><td>False</td><td>False</td><td>False</td><td>False</td><td>False</td><td>False</td><td>False</td><td>False</td><td>False</td><td>False</td><td>False</td><td>False</td><td>False</td><td>False</td><td>False</td><td>False</td><td>False</td><td>False</td><td>False</td><td>False</td><td>False</td><td>False</td><td>False</td><td>False</td><td>False</td><td>False</td><td>False</td><td>False</td><td>False</td><td>False</td><td>False</td><td>False</td><td>False</td><td>False</td><td>False</td><td>False</td><td>False</td><td>False</td><td>False</td><td>False</td><td>False</td><td>True</td><td>True</td><td>True</td><td>True</td><td>True</td><td>True</td><td>True</td><td>True</td><td>True</td><td>False</td><td>False</td><td>False</td><td>False</td><td>False</td><td>False</td><td>False</td><td>False</td><td>False</td><td>0.29963114327425633</td><td>0.22447110095797274</td><td>1137771.166284602</td><td>1467090.610923764</td><td>0.22470549754935598</td><td>1137403.9431588377</td><td>1467060.5035423245</td><td>27.975108449827715</td><td>77.95690139733638</td><td>8.993340818694628</td><td>39.275470813121814</td><td>81.5221885480216</td><td>3.984035332478565</td><td>27.959798336624235</td><td>77.78229106876401</td><td>8.966247748311906</td><td>39.27472292359208</td><td>81.5092369088651</td><td>3.982707586476545</td><td>True</td><td>True</td><td>True</td><td>28.06706320092795</td><td>28.06706320092795</td><td>78.33465589534443</td><td>78.33465589534443</td><td>9.009965037307067</td><td>9.009965037307067</td><td>0.19846517</td><td>0.19846517</td><td>0.55391264</td><td>0.55391264</td><td>0.23873769</td><td>0.23873769</td><td>3203.7479172524036</td><td>3203.7479172524036</td><td>3098.840103901153</td><td>3098.840103901153</td><td>1151011.7555704191</td><td>1151011.7555704191</td><td>4069.4626679436783</td><td>4069.4626679436783</td><td>4.336062261130378</td><td>4.336062261130378</td><td>4.336062261130378</td><td>4.257414579964653</td><td>4.257414579964653</td><td>4.257414579964653</td><td>0.02576811707524408</td><td>0.02576811707524408</td><td>0.02576811707524408</td><td>-403.82327</td><td>-403.82327</td><td>-1127.0634</td><td>-1127.0634</td><td>-129.63356</td><td>-129.63356</td><td>True</td><td>True</td><td>True</td><td>False</td><td>False</td><td>False</td><td>False</td><td>False</td><td>False</td><td>True</td><td>True</td><td>True</td><td>False</td><td>False</td><td>False</td><td>False</td><td>False</td><td>False</td><td>121002.2734375</td><td>574.7476806640625</td><td>True</td><td>False</td><td>False</td><td>237226.34375</td><td>841.013916015625</td><td>True</td><td>False</td><td>False</td><td>370379.5625</td><td>1098.916015625</td><td>True</td><td>False</td><td>False</td><td>638884.5</td><td>1587.1590576171875</td><td>True</td><td>False</td><td>False</td><td>847714.3481750488</td><td>847714.3481750488</td><td>847714.3481750488</td><td>2038.8111818302964</td><td>2038.8111818302964</td><td>2038.8111818302964</td><td>True</td><td>True</td><td>True</td><td>False</td><td>False</td><td>False</td><td>1079227.0466957092</td><td>2777.9741563906277</td><td>True</td><td>False</td><td>1205743.0793025196</td><td>3822.4499386130783</td><td>True</td><td>False</td><td>1301191.15279904</td><td>5038.805264316058</td><td>True</td><td>False</td><td>1411867.46620664</td><td>6897.032521210323</td><td>True</td><td>False</td><td>1459069.0502665937</td><td>9442.175213100147</td><td>True</td><td>False</td><td>False</td><td>False</td><td>240077.94542723647</td><td>1297.7726915108492</td><td>12326</td><td>673317.5807163424</td><td>2069.0219246745423</td><td>12838</td><td>1151011.7555704191</td><td>1151011.7555704191</td><td>1151011.7555704191</td><td>2877.544696053116</td><td>2877.544696053116</td><td>2877.544696053116</td><td>False</td><td>False</td><td>False</td><td>58.3023258347721</td><td>91.7668446649126</td><td>True</td><td>False</td><td>False</td><td>False</td><td>False</td><td>False</td><td>True</td><td>True</td><td>False</td><td>False</td><td>False</td><td>True</td><td>True</td><td>False</td><td>False</td><td>False</td><td>True</td><td>True</td><td>False</td><td>False</td><td>False</td><td>243949.20187230778</td><td>243949.20187230778</td><td>898.0541147408867</td><td>898.0541147408867</td><td>64.14604</td><td>64.14604</td><td>172202.61</td><td>172202.61</td><td>1681</td><td>1681</td><td>True</td><td>True</td><td>False</td><td>False</td><td>False</td><td>False</td><td>False</td><td>5644.984375</td><td>False</td></tr>\n",
       "<tr><td>152</td><td>1.243401496968557</td><td>-0.533831511769611</td><td>104</td><td>0</td><td>False</td><td>nan</td><td>nan</td><td>nan</td><td>False</td><td>False</td><td>False</td><td>False</td><td>False</td><td>True</td><td>False</td><td>False</td><td>3219</td><td>3100</td><td>163</td><td>1</td><td>3</td><td>3219.0450774935207</td><td>3100.1023795647425</td><td>False</td><td>False</td><td>False</td><td>False</td><td>3219.0</td><td>3219.0</td><td>3100.0</td><td>3100.0</td><td>0.16240092</td><td>0.16240092</td><td>0.18566662</td><td>0.18566662</td><td>True</td><td>True</td><td>True</td><td>True</td><td>True</td><td>True</td><td>True</td><td>True</td><td>True</td><td>False</td><td>False</td><td>False</td><td>False</td><td>False</td><td>False</td><td>False</td><td>False</td><td>False</td><td>False</td><td>False</td><td>False</td><td>False</td><td>False</td><td>False</td><td>False</td><td>False</td><td>False</td><td>False</td><td>False</td><td>False</td><td>False</td><td>False</td><td>False</td><td>False</td><td>False</td><td>False</td><td>False</td><td>False</td><td>False</td><td>False</td><td>False</td><td>False</td><td>False</td><td>False</td><td>False</td><td>False</td><td>False</td><td>False</td><td>False</td><td>False</td><td>False</td><td>False</td><td>False</td><td>False</td><td>True</td><td>True</td><td>True</td><td>True</td><td>True</td><td>True</td><td>True</td><td>True</td><td>True</td><td>False</td><td>False</td><td>False</td><td>False</td><td>False</td><td>False</td><td>False</td><td>False</td><td>False</td><td>1.5287795220219615</td><td>0.50741463238359</td><td>216856.48710635962</td><td>440241.4309538156</td><td>0.5074146323878693</td><td>216856.4871044757</td><td>440241.4309538156</td><td>13.694373360357362</td><td>14.011629856188163</td><td>-2.2744195266274128</td><td>13.69421730971627</td><td>14.900326546794352</td><td>-2.053797619928609</td><td>13.694373359647468</td><td>14.011629856193329</td><td>-2.2744195269579937</td><td>13.69421730971627</td><td>14.900326546794352</td><td>-2.053797619928609</td><td>True</td><td>True</td><td>True</td><td>8.82439895915415</td><td>8.82439895915415</td><td>8.913769919809724</td><td>8.913769919809724</td><td>-0.9027383996536698</td><td>-0.9027383996536698</td><td>nan</td><td>nan</td><td>nan</td><td>nan</td><td>nan</td><td>nan</td><td>3219.030577423003</td><td>3219.030577423003</td><td>3100.132300821728</td><td>3100.132300821728</td><td>nan</td><td>nan</td><td>nan</td><td>nan</td><td>4.3361140544586725</td><td>4.3361140544586725</td><td>4.3361140544586725</td><td>4.2576811579429386</td><td>4.2576811579429386</td><td>4.2576811579429386</td><td>0.02588160804942221</td><td>0.02588160804942221</td><td>0.02588160804942221</td><td>nan</td><td>nan</td><td>nan</td><td>nan</td><td>nan</td><td>nan</td><td>True</td><td>True</td><td>True</td><td>False</td><td>False</td><td>False</td><td>True</td><td>True</td><td>True</td><td>False</td><td>False</td><td>False</td><td>False</td><td>False</td><td>False</td><td>False</td><td>False</td><td>False</td><td>65836.15625</td><td>571.4545288085938</td><td>True</td><td>False</td><td>False</td><td>138748.109375</td><td>848.170166015625</td><td>True</td><td>False</td><td>False</td><td>219029.75</td><td>1107.5936279296875</td><td>True</td><td>False</td><td>False</td><td>371696.3125</td><td>1590.2220458984375</td><td>True</td><td>False</td><td>False</td><td>496486.6130065918</td><td>496486.6130065918</td><td>496486.6130065918</td><td>2038.114104396283</td><td>2038.114104396283</td><td>2038.114104396283</td><td>True</td><td>True</td><td>True</td><td>False</td><td>False</td><td>False</td><td>644090.6399478912</td><td>2771.245143348248</td><td>True</td><td>False</td><td>726233.4462302104</td><td>3821.7907756587297</td><td>True</td><td>False</td><td>828640.2876936793</td><td>5038.579602491612</td><td>True</td><td>False</td><td>941424.1045347452</td><td>6897.10344277876</td><td>True</td><td>False</td><td>985181.3778152466</td><td>9441.931368128515</td><td>True</td><td>False</td><td>False</td><td>False</td><td>132989.76005019457</td><td>1287.9753397927343</td><td>12326</td><td>387647.80327358545</td><td>2076.4099602187</td><td>12326</td><td>220543.48285001516</td><td>220543.48285001516</td><td>220543.48285001516</td><td>1128.3992797853311</td><td>1128.3992797853311</td><td>1128.3992797853311</td><td>False</td><td>False</td><td>False</td><td>55.28149039959068</td><td>89.1054911236821</td><td>True</td><td>False</td><td>False</td><td>False</td><td>False</td><td>False</td><td>True</td><td>True</td><td>False</td><td>False</td><td>False</td><td>True</td><td>True</td><td>False</td><td>False</td><td>False</td><td>True</td><td>True</td><td>False</td><td>False</td><td>False</td><td>134298.72762677734</td><td>134298.72762677734</td><td>880.7433430233137</td><td>880.7433430233137</td><td>64.13757</td><td>64.13757</td><td>55653.145</td><td>55653.145</td><td>1681</td><td>1681</td><td>True</td><td>True</td><td>False</td><td>False</td><td>False</td><td>False</td><td>False</td><td>5906.81005859375</td><td>False</td></tr>\n",
       "<tr><td>153</td><td>1.243401906404423</td><td>-0.5338284690138683</td><td>104</td><td>0</td><td>False</td><td>nan</td><td>nan</td><td>nan</td><td>False</td><td>False</td><td>False</td><td>False</td><td>False</td><td>True</td><td>False</td><td>False</td><td>3220</td><td>3097</td><td>162</td><td>1</td><td>3</td><td>3220.0934673512716</td><td>3096.9445839326186</td><td>False</td><td>False</td><td>False</td><td>False</td><td>3220.0</td><td>3220.0</td><td>3097.0</td><td>3097.0</td><td>nan</td><td>nan</td><td>nan</td><td>nan</td><td>True</td><td>True</td><td>True</td><td>True</td><td>True</td><td>True</td><td>True</td><td>True</td><td>True</td><td>False</td><td>False</td><td>False</td><td>False</td><td>False</td><td>False</td><td>False</td><td>False</td><td>False</td><td>True</td><td>True</td><td>True</td><td>True</td><td>True</td><td>True</td><td>True</td><td>True</td><td>True</td><td>False</td><td>False</td><td>False</td><td>False</td><td>False</td><td>False</td><td>False</td><td>False</td><td>False</td><td>False</td><td>False</td><td>False</td><td>False</td><td>False</td><td>False</td><td>False</td><td>False</td><td>False</td><td>False</td><td>False</td><td>False</td><td>False</td><td>False</td><td>False</td><td>False</td><td>False</td><td>False</td><td>False</td><td>False</td><td>False</td><td>False</td><td>False</td><td>False</td><td>False</td><td>False</td><td>False</td><td>False</td><td>False</td><td>False</td><td>False</td><td>False</td><td>False</td><td>False</td><td>False</td><td>False</td><td>1.1460302911776077</td><td>0.515068777249443</td><td>772343.0278506275</td><td>1592685.7080265007</td><td>0.5152931032954066</td><td>771973.196571065</td><td>1592659.8152812072</td><td>37.71932613705053</td><td>78.1075190408644</td><td>15.912893631089455</td><td>53.21267406953693</td><td>73.892232242399</td><td>12.41850370503963</td><td>37.65340451512935</td><td>77.928264718606</td><td>15.895740135410934</td><td>53.21023716437647</td><td>73.88565953750445</td><td>12.416285838899324</td><td>False</td><td>True</td><td>False</td><td>37.93949110605048</td><td>37.93949110605048</td><td>78.63120348040094</td><td>78.63120348040094</td><td>16.056020106106693</td><td>16.056020106106693</td><td>0.3994332</td><td>0.3994332</td><td>0.82784224</td><td>0.82784224</td><td>0.4238174</td><td>0.4238174</td><td>3218.7491689957474</td><td>3218.7491689957474</td><td>3095.413905731615</td><td>3095.413905731615</td><td>781275.5375371609</td><td>781275.5375371609</td><td>4112.698828341873</td><td>4112.698828341873</td><td>4.335933453926256</td><td>4.335933453926256</td><td>4.335933453926256</td><td>4.257705296648818</td><td>4.257705296648818</td><td>4.257705296648818</td><td>0.025911978058712846</td><td>0.025911978058712846</td><td>0.025911978058712846</td><td>-821.37427</td><td>-821.37427</td><td>-1702.333</td><td>-1702.333</td><td>-347.6063</td><td>-347.6063</td><td>False</td><td>False</td><td>False</td><td>False</td><td>False</td><td>False</td><td>False</td><td>False</td><td>False</td><td>False</td><td>False</td><td>False</td><td>False</td><td>False</td><td>False</td><td>False</td><td>False</td><td>False</td><td>68965.90625</td><td>570.7880249023438</td><td>True</td><td>False</td><td>False</td><td>143354.3125</td><td>843.1129760742188</td><td>True</td><td>False</td><td>False</td><td>230144.9375</td><td>1106.314453125</td><td>True</td><td>False</td><td>False</td><td>406374.15625</td><td>1593.97021484375</td><td>True</td><td>False</td><td>False</td><td>550334.4193115234</td><td>550334.4193115234</td><td>550334.4193115234</td><td>2036.6588012610032</td><td>2036.6588012610032</td><td>2036.6588012610032</td><td>True</td><td>True</td><td>True</td><td>False</td><td>False</td><td>False</td><td>712462.1739006042</td><td>2760.22569745282</td><td>True</td><td>False</td><td>824091.2467927933</td><td>3820.1808113806114</td><td>True</td><td>False</td><td>918169.2920026407</td><td>5038.627268801121</td><td>True</td><td>False</td><td>1028232.7233034</td><td>6897.0330204272095</td><td>True</td><td>False</td><td>1072673.0372532234</td><td>9441.910763335616</td><td>True</td><td>False</td><td>False</td><td>False</td><td>132491.65699263965</td><td>1289.3514349497493</td><td>12326</td><td>407219.46885795443</td><td>2073.2354145146446</td><td>12326</td><td>781275.5375371609</td><td>781275.5375371609</td><td>781275.5375371609</td><td>2908.11714117326</td><td>2908.11714117326</td><td>2908.11714117326</td><td>False</td><td>False</td><td>False</td><td>52.7056003499729</td><td>87.91589587214324</td><td>True</td><td>False</td><td>False</td><td>False</td><td>False</td><td>False</td><td>True</td><td>True</td><td>False</td><td>False</td><td>False</td><td>True</td><td>True</td><td>False</td><td>False</td><td>False</td><td>True</td><td>True</td><td>False</td><td>False</td><td>False</td><td>142124.72678163627</td><td>142124.72678163627</td><td>887.168603295431</td><td>887.168603295431</td><td>64.13727</td><td>64.13727</td><td>78438.1</td><td>78438.1</td><td>1681</td><td>1681</td><td>True</td><td>True</td><td>False</td><td>False</td><td>False</td><td>False</td><td>False</td><td>5633.56005859375</td><td>False</td></tr>\n",
       "<tr><td>154</td><td>1.240061396275787</td><td>-0.5346347702203726</td><td>113</td><td>0</td><td>False</td><td>nan</td><td>nan</td><td>nan</td><td>False</td><td>False</td><td>False</td><td>False</td><td>False</td><td>True</td><td>False</td><td>False</td><td>139</td><td>3308</td><td>166</td><td>1</td><td>2</td><td>139.04600961521894</td><td>3307.8331701661714</td><td>False</td><td>False</td><td>False</td><td>False</td><td>139.0</td><td>139.0</td><td>3308.0</td><td>3308.0</td><td>0.054387692</td><td>0.054387692</td><td>0.0839291</td><td>0.0839291</td><td>True</td><td>True</td><td>True</td><td>True</td><td>True</td><td>True</td><td>True</td><td>True</td><td>True</td><td>False</td><td>False</td><td>False</td><td>False</td><td>False</td><td>False</td><td>False</td><td>False</td><td>False</td><td>False</td><td>False</td><td>False</td><td>False</td><td>False</td><td>False</td><td>False</td><td>False</td><td>False</td><td>False</td><td>False</td><td>False</td><td>False</td><td>False</td><td>False</td><td>False</td><td>False</td><td>False</td><td>False</td><td>False</td><td>False</td><td>False</td><td>False</td><td>False</td><td>False</td><td>False</td><td>False</td><td>False</td><td>False</td><td>False</td><td>False</td><td>False</td><td>False</td><td>False</td><td>False</td><td>False</td><td>True</td><td>True</td><td>True</td><td>True</td><td>True</td><td>True</td><td>True</td><td>True</td><td>True</td><td>False</td><td>False</td><td>False</td><td>False</td><td>False</td><td>False</td><td>False</td><td>False</td><td>False</td><td>0.3095661748592432</td><td>0.20960906190636575</td><td>969503.8718703939</td><td>1226613.0912492077</td><td>0.2099339500239057</td><td>969054.7653526787</td><td>1226549.0529329798</td><td>25.851034868744033</td><td>80.13522771365766</td><td>-0.4564446843688954</td><td>37.97808370328924</td><td>83.93335917228691</td><td>-5.326780796884337</td><td>25.832387055331925</td><td>79.93598835490594</td><td>-0.474802128312829</td><td>37.9758702546607</td><td>83.90867713326699</td><td>-5.324870846266338</td><td>True</td><td>True</td><td>True</td><td>25.959606386000026</td><td>25.959606386000026</td><td>80.58857391916807</td><td>80.58857391916807</td><td>-0.48823723980882505</td><td>-0.48823723980882505</td><td>0.1982969</td><td>0.1982969</td><td>0.6155897</td><td>0.6155897</td><td>0.24706623</td><td>0.24706623</td><td>138.71200468494845</td><td>138.71200468494845</td><td>3310.4740145253813</td><td>3310.4740145253813</td><td>980878.0016638251</td><td>980878.0016638251</td><td>3746.302679696293</td><td>3746.302679696293</td><td>4.28897383091569</td><td>4.28897383091569</td><td>4.28897383091569</td><td>4.269575095335414</td><td>4.269575095335414</td><td>4.269575095335414</td><td>-0.027312645762679586</td><td>-0.027312645762679586</td><td>-0.027312645762679586</td><td>-371.44012</td><td>-371.44012</td><td>-1153.0927</td><td>-1153.0927</td><td>6.985888</td><td>6.985888</td><td>True</td><td>True</td><td>True</td><td>False</td><td>False</td><td>False</td><td>False</td><td>False</td><td>False</td><td>True</td><td>True</td><td>True</td><td>False</td><td>False</td><td>False</td><td>False</td><td>False</td><td>False</td><td>106666.2734375</td><td>551.5951538085938</td><td>True</td><td>False</td><td>False</td><td>209033.375</td><td>810.413818359375</td><td>True</td><td>False</td><td>False</td><td>320110.625</td><td>1056.52001953125</td><td>True</td><td>False</td><td>False</td><td>536103.1875</td><td>1523.7177734375</td><td>True</td><td>False</td><td>False</td><td>718100.2320556641</td><td>718100.2320556641</td><td>718100.2320556641</td><td>1967.805727418074</td><td>1967.805727418074</td><td>1967.805727418074</td><td>True</td><td>True</td><td>True</td><td>False</td><td>False</td><td>False</td><td>924942.0427932739</td><td>2699.062954982884</td><td>True</td><td>False</td><td>1043619.3693458289</td><td>3739.1829222798838</td><td>True</td><td>False</td><td>1138440.2576808184</td><td>4970.067620696611</td><td>True</td><td>False</td><td>1204735.661104247</td><td>6845.919173534436</td><td>True</td><td>False</td><td>1225091.7262344807</td><td>9408.108075799191</td><td>True</td><td>False</td><td>False</td><td>False</td><td>215110.6735530977</td><td>1245.4541048704482</td><td>12838</td><td>577587.1003977986</td><td>1992.2197932880208</td><td>12838</td><td>980878.0016638252</td><td>980878.0016638252</td><td>980878.0016638252</td><td>2649.036038879453</td><td>2649.036038879453</td><td>2649.036038879453</td><td>False</td><td>False</td><td>False</td><td>53.32677229559559</td><td>88.69989248850193</td><td>True</td><td>False</td><td>False</td><td>False</td><td>False</td><td>False</td><td>True</td><td>True</td><td>False</td><td>False</td><td>False</td><td>True</td><td>True</td><td>False</td><td>False</td><td>False</td><td>False</td><td>False</td><td>False</td><td>False</td><td>False</td><td>211910.82524799995</td><td>211910.82524799995</td><td>856.5291382198225</td><td>856.5291382198225</td><td>63.847397</td><td>63.847397</td><td>138147.48</td><td>138147.48</td><td>1681</td><td>1681</td><td>True</td><td>True</td><td>False</td><td>False</td><td>False</td><td>False</td><td>False</td><td>5641.126953125</td><td>False</td></tr>\n",
       "<tr><td>155</td><td>1.2400459956480505</td><td>-0.5346375123698408</td><td>113</td><td>0</td><td>False</td><td>nan</td><td>nan</td><td>nan</td><td>False</td><td>False</td><td>False</td><td>False</td><td>False</td><td>True</td><td>False</td><td>False</td><td>125</td><td>3308</td><td>165</td><td>1</td><td>2</td><td>124.94120762752702</td><td>3307.811190988648</td><td>False</td><td>False</td><td>False</td><td>False</td><td>125.0</td><td>125.0</td><td>3308.0</td><td>3308.0</td><td>0.09212864</td><td>0.09212864</td><td>0.11742073</td><td>0.11742073</td><td>True</td><td>True</td><td>True</td><td>True</td><td>True</td><td>True</td><td>True</td><td>True</td><td>True</td><td>False</td><td>False</td><td>False</td><td>False</td><td>False</td><td>False</td><td>False</td><td>False</td><td>False</td><td>False</td><td>False</td><td>False</td><td>False</td><td>False</td><td>False</td><td>False</td><td>False</td><td>False</td><td>False</td><td>False</td><td>False</td><td>False</td><td>False</td><td>False</td><td>False</td><td>False</td><td>False</td><td>False</td><td>False</td><td>False</td><td>False</td><td>False</td><td>False</td><td>False</td><td>False</td><td>False</td><td>False</td><td>False</td><td>False</td><td>False</td><td>False</td><td>False</td><td>False</td><td>False</td><td>False</td><td>True</td><td>True</td><td>True</td><td>True</td><td>True</td><td>True</td><td>True</td><td>True</td><td>True</td><td>False</td><td>False</td><td>False</td><td>False</td><td>False</td><td>False</td><td>False</td><td>False</td><td>False</td><td>0.2563631336677662</td><td>0.18938331944305742</td><td>1148214.0869077283</td><td>1416469.848756179</td><td>0.18976961852325247</td><td>1147651.2204556805</td><td>1416450.4895063806</td><td>32.49399664808379</td><td>87.0380405670351</td><td>1.4966785935106004</td><td>48.45158288896391</td><td>89.19668606601603</td><td>6.981986041098107</td><td>32.466235967408615</td><td>86.84766720644315</td><td>1.5262247919575676</td><td>48.449305011374875</td><td>89.20522056187099</td><td>6.986105886349389</td><td>True</td><td>True</td><td>True</td><td>32.597892646290575</td><td>32.597892646290575</td><td>87.44017709678499</td><td>87.44017709678499</td><td>1.5303147664424903</td><td>1.5303147664424903</td><td>0.21886888</td><td>0.21886888</td><td>0.58709115</td><td>0.58709115</td><td>0.25357598</td><td>0.25357598</td><td>125.26090182530125</td><td>125.26090182530125</td><td>3310.590395959131</td><td>3310.590395959131</td><td>1161390.416201626</td><td>1161390.416201626</td><td>3898.9058899888673</td><td>3898.9058899888673</td><td>4.288506785197634</td><td>4.288506785197634</td><td>4.288506785197634</td><td>4.2699255110142715</td><td>4.2699255110142715</td><td>4.2699255110142715</td><td>-0.0276505679855209</td><td>-0.0276505679855209</td><td>-0.0276505679855209</td><td>-426.6746</td><td>-426.6746</td><td>-1144.5066</td><td>-1144.5066</td><td>-20.030329</td><td>-20.030329</td><td>True</td><td>True</td><td>True</td><td>False</td><td>False</td><td>False</td><td>False</td><td>False</td><td>False</td><td>True</td><td>True</td><td>True</td><td>False</td><td>False</td><td>False</td><td>False</td><td>False</td><td>False</td><td>104669.4140625</td><td>546.9889526367188</td><td>True</td><td>False</td><td>False</td><td>214528.4375</td><td>811.6937255859375</td><td>True</td><td>False</td><td>False</td><td>339412.125</td><td>1063.3017578125</td><td>True</td><td>False</td><td>False</td><td>587714.25</td><td>1536.325439453125</td><td>True</td><td>False</td><td>False</td><td>803688.9154052734</td><td>803688.9154052734</td><td>803688.9154052734</td><td>1983.844290622022</td><td>1983.844290622022</td><td>1983.844290622022</td><td>True</td><td>True</td><td>True</td><td>False</td><td>False</td><td>False</td><td>1055703.557723999</td><td>2716.9668381864153</td><td>True</td><td>False</td><td>1190794.3371296525</td><td>3740.7143164984213</td><td>True</td><td>False</td><td>1291806.9796399623</td><td>4969.915932731455</td><td>True</td><td>False</td><td>1361740.8983010799</td><td>6846.110290583978</td><td>True</td><td>False</td><td>1386293.6885960847</td><td>9408.426221625668</td><td>True</td><td>False</td><td>False</td><td>False</td><td>202738.39572933904</td><td>1239.2175143684779</td><td>12838</td><td>600245.9362307196</td><td>1997.18481117322</td><td>12838</td><td>1161390.416201626</td><td>1161390.416201626</td><td>1161390.416201626</td><td>2756.942803689657</td><td>2756.942803689657</td><td>2756.942803689657</td><td>False</td><td>False</td><td>False</td><td>56.27066238894073</td><td>92.46481037557358</td><td>True</td><td>False</td><td>False</td><td>False</td><td>False</td><td>False</td><td>True</td><td>True</td><td>False</td><td>False</td><td>False</td><td>True</td><td>True</td><td>False</td><td>False</td><td>False</td><td>True</td><td>True</td><td>False</td><td>False</td><td>False</td><td>213374.78424519458</td><td>213374.78424519458</td><td>848.0511710864934</td><td>848.0511710864934</td><td>63.836613</td><td>63.836613</td><td>179579.6</td><td>179579.6</td><td>1681</td><td>1681</td><td>True</td><td>True</td><td>False</td><td>False</td><td>False</td><td>False</td><td>False</td><td>5631.759765625</td><td>False</td></tr>\n",
       "<tr><td>156</td><td>1.2405963782155705</td><td>-0.534555056543878</td><td>115</td><td>0</td><td>False</td><td>nan</td><td>nan</td><td>nan</td><td>False</td><td>False</td><td>False</td><td>False</td><td>False</td><td>True</td><td>False</td><td>False</td><td>622</td><td>3324</td><td>167</td><td>1</td><td>2</td><td>622.0160008825404</td><td>3323.128888710274</td><td>False</td><td>False</td><td>False</td><td>False</td><td>622.0509162638126</td><td>622.0509162638126</td><td>3323.7822239462107</td><td>3323.7822239462107</td><td>0.00354</td><td>0.00354</td><td>0.0035372342</td><td>0.0035372342</td><td>False</td><td>False</td><td>False</td><td>False</td><td>False</td><td>False</td><td>False</td><td>False</td><td>False</td><td>False</td><td>False</td><td>False</td><td>False</td><td>False</td><td>False</td><td>False</td><td>False</td><td>False</td><td>False</td><td>False</td><td>False</td><td>False</td><td>False</td><td>False</td><td>False</td><td>False</td><td>False</td><td>False</td><td>False</td><td>False</td><td>False</td><td>False</td><td>False</td><td>False</td><td>False</td><td>False</td><td>False</td><td>False</td><td>False</td><td>False</td><td>False</td><td>False</td><td>False</td><td>False</td><td>False</td><td>False</td><td>False</td><td>False</td><td>False</td><td>False</td><td>False</td><td>False</td><td>False</td><td>False</td><td>False</td><td>False</td><td>False</td><td>False</td><td>False</td><td>False</td><td>False</td><td>False</td><td>False</td><td>False</td><td>False</td><td>False</td><td>False</td><td>False</td><td>False</td><td>False</td><td>False</td><td>False</td><td>0.013818044731006082</td><td>0.008227812480095076</td><td>1867194.3420341366</td><td>1882684.7188600576</td><td>0.008227812480095076</td><td>1867194.3420341366</td><td>1882684.7188600576</td><td>4.098903294773486</td><td>4.203320235131276</td><td>-0.0757021115943026</td><td>4.25180080408078</td><td>4.215808562237174</td><td>-0.07629402210753594</td><td>4.098903294773486</td><td>4.203320235131276</td><td>-0.0757021115943026</td><td>4.25180080408078</td><td>4.215808562237174</td><td>-0.07629402210753594</td><td>False</td><td>False</td><td>False</td><td>4.115865051568868</td><td>4.115865051568868</td><td>4.219145829415567</td><td>4.219145829415567</td><td>-0.07594138464905405</td><td>-0.07594138464905405</td><td>0.015000077</td><td>0.015000077</td><td>0.0153764775</td><td>0.0153764775</td><td>0.010740693</td><td>0.010740693</td><td>622.0510794359377</td><td>622.0510794359377</td><td>3323.7825208268523</td><td>3323.7825208268523</td><td>1890509.2506660225</td><td>1890509.2506660225</td><td>3444.936056142504</td><td>3444.936056142504</td><td>4.305041451087139</td><td>4.305041451087139</td><td>4.305041451087139</td><td>4.258741470546017</td><td>4.258741470546017</td><td>4.258741470546017</td><td>-0.016078239715432235</td><td>-0.016078239715432235</td><td>-0.016078239715432235</td><td>-25.837154</td><td>-25.837154</td><td>-26.485493</td><td>-26.485493</td><td>0.47671854</td><td>0.47671854</td><td>False</td><td>False</td><td>False</td><td>False</td><td>False</td><td>False</td><td>False</td><td>False</td><td>False</td><td>False</td><td>False</td><td>False</td><td>False</td><td>False</td><td>False</td><td>False</td><td>False</td><td>False</td><td>1257760.0</td><td>1391.501708984375</td><td>False</td><td>False</td><td>False</td><td>1710281.25</td><td>1686.2196044921875</td><td>False</td><td>False</td><td>False</td><td>1895255.625</td><td>1864.762939453125</td><td>False</td><td>False</td><td>False</td><td>2011095.625</td><td>2191.19189453125</td><td>False</td><td>False</td><td>False</td><td>2059299.6482563019</td><td>2059299.6482563019</td><td>2059299.6482563019</td><td>2537.503011947874</td><td>2537.503011947874</td><td>2537.503011947874</td><td>False</td><td>False</td><td>False</td><td>False</td><td>False</td><td>False</td><td>2099886.755946398</td><td>3129.198013238326</td><td>False</td><td>False</td><td>2122475.6750490963</td><td>4033.7525204201725</td><td>False</td><td>False</td><td>2171569.1019275635</td><td>5267.176689723036</td><td>False</td><td>False</td><td>2283759.016832821</td><td>7532.4173474517065</td><td>False</td><td>False</td><td>2456817.6691046506</td><td>10309.265360108679</td><td>False</td><td>False</td><td>False</td><td>False</td><td>2859590.450147103</td><td>2941.163366252802</td><td>13862</td><td>3945861.439379279</td><td>3835.7912152241865</td><td>13862</td><td>1890509.2506660223</td><td>1890509.2506660223</td><td>1890509.2506660223</td><td>2354.308444942541</td><td>2354.308444942541</td><td>2354.308444942541</td><td>False</td><td>False</td><td>False</td><td>23.777621129954422</td><td>75.24977743633403</td><td>False</td><td>False</td><td>False</td><td>False</td><td>False</td><td>False</td><td>True</td><td>True</td><td>False</td><td>False</td><td>False</td><td>False</td><td>False</td><td>False</td><td>False</td><td>False</td><td>False</td><td>False</td><td>False</td><td>False</td><td>False</td><td>2094428.1299620427</td><td>2094428.1299620427</td><td>2215.9230946399252</td><td>2215.9230946399252</td><td>64.153305</td><td>64.153305</td><td>7854.5913</td><td>7854.5913</td><td>1681</td><td>1681</td><td>False</td><td>False</td><td>False</td><td>False</td><td>False</td><td>False</td><td>True</td><td>nan</td><td>True</td></tr>\n",
       "<tr><td>157</td><td>1.2406099433498134</td><td>-0.5345526007186869</td><td>115</td><td>0</td><td>False</td><td>nan</td><td>nan</td><td>nan</td><td>False</td><td>False</td><td>False</td><td>False</td><td>False</td><td>True</td><td>False</td><td>False</td><td>634</td><td>3324</td><td>168</td><td>1</td><td>2</td><td>634.0021690285006</td><td>3323.1154193898333</td><td>False</td><td>False</td><td>False</td><td>False</td><td>634.3901948425271</td><td>634.3901948425271</td><td>3323.7448510662343</td><td>3323.7448510662343</td><td>0.025678836</td><td>0.025678836</td><td>0.009778483</td><td>0.009778483</td><td>False</td><td>False</td><td>False</td><td>False</td><td>False</td><td>False</td><td>False</td><td>False</td><td>False</td><td>False</td><td>False</td><td>False</td><td>False</td><td>False</td><td>False</td><td>False</td><td>False</td><td>False</td><td>False</td><td>False</td><td>False</td><td>False</td><td>False</td><td>False</td><td>False</td><td>False</td><td>False</td><td>False</td><td>False</td><td>False</td><td>False</td><td>False</td><td>False</td><td>False</td><td>False</td><td>False</td><td>False</td><td>False</td><td>False</td><td>False</td><td>False</td><td>False</td><td>False</td><td>False</td><td>False</td><td>False</td><td>False</td><td>False</td><td>False</td><td>False</td><td>False</td><td>False</td><td>False</td><td>False</td><td>False</td><td>False</td><td>False</td><td>False</td><td>False</td><td>False</td><td>False</td><td>False</td><td>False</td><td>False</td><td>False</td><td>False</td><td>False</td><td>False</td><td>False</td><td>False</td><td>False</td><td>False</td><td>0.06209518931346222</td><td>0.14498646585316188</td><td>1392445.498494136</td><td>1628565.4470763037</td><td>0.14506233376724564</td><td>1392323.9932754594</td><td>1628567.8456660758</td><td>26.819756746739632</td><td>4.407762425992979</td><td>-0.010652851579766375</td><td>53.29721630449431</td><td>4.435585146712818</td><td>-0.013821242558638458</td><td>26.798461051083216</td><td>4.407939814772667</td><td>-0.011204843469172276</td><td>53.297531636299816</td><td>4.435727771073485</td><td>-0.014708416330483762</td><td>False</td><td>False</td><td>False</td><td>26.84157754258876</td><td>26.84157754258876</td><td>4.421946729819229</td><td>4.421946729819229</td><td>-0.008975462755845534</td><td>-0.008975462755845534</td><td>0.11237759</td><td>0.11237759</td><td>0.018513357</td><td>0.018513357</td><td>0.032252815</td><td>0.032252815</td><td>634.4279017484578</td><td>634.4279017484578</td><td>3323.7457036049045</td><td>3323.7457036049045</td><td>1408518.6278950255</td><td>1408518.6278950255</td><td>2948.5215831207847</td><td>2948.5215831207847</td><td>4.305408915078944</td><td>4.305408915078944</td><td>4.305408915078944</td><td>4.258505387168048</td><td>4.258505387168048</td><td>4.258505387168048</td><td>-0.01580110065556872</td><td>-0.01580110065556872</td><td>-0.01580110065556872</td><td>-165.67389</td><td>-165.67389</td><td>-27.293516</td><td>-27.293516</td><td>0.055399116</td><td>0.055399116</td><td>False</td><td>False</td><td>False</td><td>False</td><td>False</td><td>False</td><td>False</td><td>False</td><td>False</td><td>False</td><td>False</td><td>False</td><td>False</td><td>False</td><td>False</td><td>False</td><td>False</td><td>False</td><td>415244.3125</td><td>849.7293701171875</td><td>False</td><td>False</td><td>False</td><td>722659.6875</td><td>1172.9857177734375</td><td>False</td><td>False</td><td>False</td><td>1029859.0</td><td>1454.2352294921875</td><td>False</td><td>False</td><td>False</td><td>1354399.25</td><td>1872.49462890625</td><td>False</td><td>False</td><td>False</td><td>1391446.4298701286</td><td>1391446.4298701286</td><td>1391446.4298701286</td><td>2395.256441471384</td><td>2395.256441471384</td><td>2395.256441471384</td><td>False</td><td>False</td><td>False</td><td>False</td><td>False</td><td>False</td><td>1429307.9297348857</td><td>3169.313464140834</td><td>False</td><td>False</td><td>1453037.5751339197</td><td>4040.095105009229</td><td>False</td><td>False</td><td>1505856.7430438027</td><td>5291.52376073747</td><td>False</td><td>False</td><td>1624996.49774874</td><td>7594.562668802668</td><td>False</td><td>False</td><td>1800625.1882959306</td><td>10319.638273585768</td><td>False</td><td>False</td><td>False</td><td>False</td><td>1013090.3795084363</td><td>1848.8781261415352</td><td>13862</td><td>2007187.2488977422</td><td>2770.280325011887</td><td>13862</td><td>1408518.6278950255</td><td>1408518.6278950255</td><td>1408518.6278950255</td><td>2045.0197082024968</td><td>2045.0197082024968</td><td>2045.0197082024968</td><td>False</td><td>False</td><td>False</td><td>29.54525595952283</td><td>79.07196558691786</td><td>False</td><td>False</td><td>False</td><td>False</td><td>False</td><td>False</td><td>True</td><td>True</td><td>False</td><td>False</td><td>False</td><td>True</td><td>True</td><td>False</td><td>False</td><td>False</td><td>True</td><td>True</td><td>False</td><td>False</td><td>False</td><td>751892.5857378686</td><td>751892.5857378686</td><td>1319.2717688789564</td><td>1319.2717688789564</td><td>64.15131</td><td>64.15131</td><td>272393.8</td><td>272393.8</td><td>1681</td><td>1681</td><td>False</td><td>False</td><td>False</td><td>False</td><td>False</td><td>False</td><td>False</td><td>5641.6318359375</td><td>False</td></tr>\n",
       "<tr><td>158</td><td>1.2406324191624143</td><td>-0.534595339975439</td><td>116</td><td>0</td><td>False</td><td>nan</td><td>nan</td><td>nan</td><td>False</td><td>False</td><td>False</td><td>False</td><td>False</td><td>True</td><td>False</td><td>False</td><td>645</td><td>3371</td><td>169</td><td>1</td><td>2</td><td>645.0844731333137</td><td>3370.993386918316</td><td>False</td><td>False</td><td>False</td><td>False</td><td>645.0</td><td>645.0</td><td>3371.0</td><td>3371.0</td><td>0.036457118</td><td>0.036457118</td><td>0.04864207</td><td>0.04864207</td><td>True</td><td>True</td><td>True</td><td>True</td><td>True</td><td>True</td><td>True</td><td>True</td><td>True</td><td>False</td><td>False</td><td>False</td><td>False</td><td>False</td><td>False</td><td>False</td><td>False</td><td>False</td><td>False</td><td>False</td><td>False</td><td>False</td><td>False</td><td>False</td><td>False</td><td>False</td><td>False</td><td>False</td><td>False</td><td>False</td><td>False</td><td>False</td><td>False</td><td>False</td><td>False</td><td>False</td><td>False</td><td>False</td><td>False</td><td>False</td><td>False</td><td>False</td><td>False</td><td>False</td><td>False</td><td>False</td><td>False</td><td>False</td><td>False</td><td>False</td><td>False</td><td>False</td><td>False</td><td>False</td><td>True</td><td>True</td><td>True</td><td>True</td><td>True</td><td>True</td><td>True</td><td>True</td><td>True</td><td>False</td><td>False</td><td>False</td><td>False</td><td>False</td><td>False</td><td>False</td><td>False</td><td>False</td><td>0.2417910357538072</td><td>0.14322823516910432</td><td>4987711.572175083</td><td>5821517.207864018</td><td>0.14322964590838383</td><td>4987703.359113613</td><td>5821517.207375581</td><td>53.19705175566176</td><td>84.63588408063868</td><td>2.474030156577287</td><td>77.31400493405357</td><td>85.72623232767477</td><td>1.5751315301956663</td><td>53.19568761802633</td><td>84.63596368485315</td><td>2.4739677287029287</td><td>77.31400488380916</td><td>85.72623230437218</td><td>1.5751315149040859</td><td>False</td><td>True</td><td>False</td><td>53.42972343681457</td><td>53.42972343681457</td><td>85.00308956048869</td><td>85.00308956048869</td><td>2.4998076466956003</td><td>2.4998076466956003</td><td>0.1419942</td><td>0.1419942</td><td>0.22590321</td><td>0.22590321</td><td>0.12673019</td><td>0.12673019</td><td>643.9042830146576</td><td>643.9042830146576</td><td>3370.9109060162637</td><td>3370.9109060162637</td><td>5046981.846742289</td><td>5046981.846742289</td><td>6706.3996505574505</td><td>6706.3996505574505</td><td>4.307239994644484</td><td>4.307239994644484</td><td>4.307239994644484</td><td>4.258478525185764</td><td>4.258478525185764</td><td>4.258478525185764</td><td>-0.016332956378365515</td><td>-0.016332956378365515</td><td>-0.016332956378365515</td><td>-476.13492</td><td>-476.13492</td><td>-757.4986</td><td>-757.4986</td><td>-22.276846</td><td>-22.276846</td><td>False</td><td>False</td><td>False</td><td>False</td><td>False</td><td>False</td><td>False</td><td>False</td><td>False</td><td>False</td><td>False</td><td>False</td><td>False</td><td>False</td><td>False</td><td>False</td><td>False</td><td>False</td><td>376333.09375</td><td>824.268310546875</td><td>True</td><td>False</td><td>False</td><td>774632.75</td><td>1207.450927734375</td><td>True</td><td>False</td><td>False</td><td>1243621.25</td><td>1561.9569091796875</td><td>True</td><td>False</td><td>False</td><td>2265365.25</td><td>2200.556884765625</td><td>True</td><td>False</td><td>False</td><td>3180359.309448242</td><td>3180359.309448242</td><td>3180359.309448242</td><td>2761.26872067061</td><td>2761.26872067061</td><td>2761.26872067061</td><td>True</td><td>True</td><td>True</td><td>False</td><td>False</td><td>False</td><td>4351392.558532715</td><td>3620.6581744499076</td><td>True</td><td>False</td><td>5217534.380950928</td><td>4843.878115593999</td><td>True</td><td>False</td><td>5535023.197159141</td><td>6073.109908839437</td><td>True</td><td>False</td><td>5806352.058458231</td><td>7876.630013720771</td><td>True</td><td>False</td><td>6134051.327420928</td><td>10362.59023174395</td><td>True</td><td>False</td><td>False</td><td>False</td><td>664719.7700918709</td><td>1846.7824286266064</td><td>5158</td><td>2120532.95056636</td><td>2919.1326144537393</td><td>13862</td><td>5046981.846742289</td><td>5046981.846742289</td><td>5046981.846742289</td><td>4742.140628791127</td><td>4742.140628791127</td><td>4742.140628791127</td><td>False</td><td>False</td><td>False</td><td>417.8847098840893</td><td>393.07465589535565</td><td>True</td><td>False</td><td>False</td><td>False</td><td>False</td><td>False</td><td>True</td><td>True</td><td>False</td><td>False</td><td>False</td><td>True</td><td>True</td><td>False</td><td>False</td><td>False</td><td>True</td><td>True</td><td>False</td><td>False</td><td>False</td><td>775609.3879428821</td><td>775609.3879428821</td><td>1279.9336325274421</td><td>1279.9336325274421</td><td>64.175</td><td>64.175</td><td>1339993.6</td><td>1339993.6</td><td>1681</td><td>1681</td><td>True</td><td>True</td><td>False</td><td>False</td><td>False</td><td>False</td><td>False</td><td>5832.328125</td><td>False</td></tr>\n",
       "<tr><td>159</td><td>1.240608674972725</td><td>-0.5346015523969775</td><td>116</td><td>0</td><td>False</td><td>nan</td><td>nan</td><td>nan</td><td>False</td><td>False</td><td>False</td><td>False</td><td>False</td><td>True</td><td>False</td><td>False</td><td>623</td><td>3373</td><td>170</td><td>1</td><td>2</td><td>622.9473805605975</td><td>3373.062797606175</td><td>False</td><td>False</td><td>False</td><td>False</td><td>623.0</td><td>623.0</td><td>3373.0</td><td>3373.0</td><td>0.039896548</td><td>0.039896548</td><td>0.048025344</td><td>0.048025344</td><td>True</td><td>True</td><td>True</td><td>True</td><td>True</td><td>True</td><td>True</td><td>True</td><td>True</td><td>False</td><td>False</td><td>False</td><td>False</td><td>False</td><td>False</td><td>False</td><td>False</td><td>False</td><td>False</td><td>False</td><td>False</td><td>False</td><td>False</td><td>False</td><td>False</td><td>False</td><td>False</td><td>False</td><td>False</td><td>False</td><td>False</td><td>False</td><td>False</td><td>False</td><td>False</td><td>False</td><td>False</td><td>False</td><td>False</td><td>False</td><td>False</td><td>False</td><td>False</td><td>False</td><td>False</td><td>False</td><td>False</td><td>False</td><td>False</td><td>False</td><td>False</td><td>False</td><td>False</td><td>False</td><td>True</td><td>True</td><td>True</td><td>True</td><td>True</td><td>True</td><td>True</td><td>True</td><td>True</td><td>False</td><td>False</td><td>False</td><td>False</td><td>False</td><td>False</td><td>False</td><td>False</td><td>False</td><td>0.23924625496461477</td><td>0.1466645255922051</td><td>5135391.129914291</td><td>6018021.380721567</td><td>0.14666948395440982</td><td>5135361.281127332</td><td>6018021.369873252</td><td>55.95176622352235</td><td>89.38116784949403</td><td>-0.8258848414002848</td><td>82.07201887493136</td><td>91.0712557500853</td><td>-4.886337296896297</td><td>55.94880720747879</td><td>89.37815284193925</td><td>-0.825765944709818</td><td>82.07201821320334</td><td>91.07125445979125</td><td>-4.886336279014461</td><td>False</td><td>True</td><td>False</td><td>56.157788682444014</td><td>56.157788682444014</td><td>89.7192951329843</td><td>89.7192951329843</td><td>-0.8015887329462501</td><td>-0.8015887329462501</td><td>0.13808583</td><td>0.13808583</td><td>0.22060987</td><td>0.22060987</td><td>0.12342402</td><td>0.12342402</td><td>624.0413362615745</td><td>624.0413362615745</td><td>3372.1857931501154</td><td>3372.1857931501154</td><td>5194258.89453797</td><td>5194258.89453797</td><td>6386.055781724238</td><td>6386.055781724238</td><td>4.3066874790664</td><td>4.3066874790664</td><td>4.3066874790664</td><td>4.258863157865444</td><td>4.258863157865444</td><td>4.258863157865444</td><td>-0.016798494300209917</td><td>-0.016798494300209917</td><td>-0.016798494300209917</td><td>-440.91187</td><td>-440.91187</td><td>-704.41345</td><td>-704.41345</td><td>6.2935166</td><td>6.2935166</td><td>False</td><td>False</td><td>False</td><td>False</td><td>False</td><td>False</td><td>False</td><td>False</td><td>False</td><td>False</td><td>False</td><td>False</td><td>False</td><td>False</td><td>False</td><td>False</td><td>False</td><td>False</td><td>356048.03125</td><td>805.5967407226562</td><td>True</td><td>False</td><td>False</td><td>747810.4375</td><td>1190.7515869140625</td><td>True</td><td>False</td><td>False</td><td>1210902.25</td><td>1544.8017578125</td><td>True</td><td>False</td><td>False</td><td>2255219.25</td><td>2195.2861328125</td><td>True</td><td>False</td><td>False</td><td>3188327.667114258</td><td>3188327.667114258</td><td>3188327.667114258</td><td>2758.6403155585544</td><td>2758.6403155585544</td><td>2758.6403155585544</td><td>True</td><td>True</td><td>True</td><td>False</td><td>False</td><td>False</td><td>4404929.824462891</td><td>3624.552187722428</td><td>True</td><td>False</td><td>5294933.65574646</td><td>4854.692553505577</td><td>True</td><td>False</td><td>5613948.119594455</td><td>6074.72776287682</td><td>True</td><td>False</td><td>5877862.030484766</td><td>7919.342846481467</td><td>True</td><td>False</td><td>6217950.510637566</td><td>10362.68939214084</td><td>True</td><td>False</td><td>False</td><td>False</td><td>605514.2739469295</td><td>1808.555685098198</td><td>5158</td><td>2051875.871868485</td><td>2884.560731710244</td><td>13350</td><td>5194258.89453797</td><td>5194258.89453797</td><td>5194258.89453797</td><td>4515.6233033997205</td><td>4515.6233033997205</td><td>4515.6233033997205</td><td>False</td><td>False</td><td>False</td><td>424.81128749348676</td><td>410.31514320597773</td><td>True</td><td>False</td><td>False</td><td>False</td><td>False</td><td>False</td><td>True</td><td>True</td><td>False</td><td>False</td><td>False</td><td>True</td><td>True</td><td>False</td><td>False</td><td>False</td><td>True</td><td>True</td><td>False</td><td>False</td><td>False</td><td>739785.8050209038</td><td>739785.8050209038</td><td>1244.607170779531</td><td>1244.607170779531</td><td>64.16308</td><td>64.16308</td><td>1397930.0</td><td>1397930.0</td><td>1681</td><td>1681</td><td>True</td><td>True</td><td>False</td><td>False</td><td>False</td><td>False</td><td>False</td><td>5818.125</td><td>False</td></tr>\n",
       "</table></div>"
      ],
      "text/plain": [
       "<Table length=159>\n",
       "  id       coord_ra      ... base_Variance_flag_emptyFootprint\n",
       "             rad         ...                                  \n",
       "int64      float64       ...                bool              \n",
       "----- ------------------ ... ---------------------------------\n",
       "    1 1.2430775021535634 ...                              True\n",
       "    2 1.2396035905545693 ...                             False\n",
       "    3 1.2431453455953485 ...                             False\n",
       "    4 1.2425178040105236 ...                             False\n",
       "    5 1.2433429899525552 ...                              True\n",
       "    6  1.239765777674661 ...                             False\n",
       "    7 1.2433953949699876 ...                             False\n",
       "    8 1.2395018237653028 ...                             False\n",
       "    9  1.242913346258679 ...                             False\n",
       "  ...                ... ...                               ...\n",
       "  150 1.2439564091998183 ...                             False\n",
       "  151 1.2433852299580646 ...                             False\n",
       "  152  1.243401496968557 ...                             False\n",
       "  153  1.243401906404423 ...                             False\n",
       "  154  1.240061396275787 ...                             False\n",
       "  155 1.2400459956480505 ...                             False\n",
       "  156 1.2405963782155705 ...                              True\n",
       "  157 1.2406099433498134 ...                             False\n",
       "  158 1.2406324191624143 ...                             False\n",
       "  159  1.240608674972725 ...                             False"
      ]
     },
     "execution_count": 20,
     "metadata": {},
     "output_type": "execute_result"
    }
   ],
   "source": [
    "sources = sources.copy(deep=True)\n",
    "sources.asAstropy()"
   ]
  },
  {
   "cell_type": "markdown",
   "id": "a0800a56-4bc8-4773-a7dc-b10a689eb4db",
   "metadata": {},
   "source": [
    "## Re-display the calibrated image and check the new DETECTED mask..."
   ]
  },
  {
   "cell_type": "code",
   "execution_count": 21,
   "id": "b04240b7-3798-41ad-abb3-0e9db3f07215",
   "metadata": {
    "execution": {
     "iopub.execute_input": "2024-01-09T15:24:10.213061Z",
     "iopub.status.busy": "2024-01-09T15:24:10.212403Z",
     "iopub.status.idle": "2024-01-09T15:24:13.236607Z",
     "shell.execute_reply": "2024-01-09T15:24:13.235707Z",
     "shell.execute_reply.started": "2024-01-09T15:24:10.213036Z"
    }
   },
   "outputs": [],
   "source": [
    "afwDisplay.setDefaultBackend('firefly')\n",
    "afw_display = afwDisplay.Display(frame=1)\n",
    "afw_display.mtv(calexp)"
   ]
  },
  {
   "cell_type": "markdown",
   "id": "f9514985-b581-4893-8a03-9b18d7fb0656",
   "metadata": {},
   "source": [
    "## ...and plot on the detected sources as open red circles."
   ]
  },
  {
   "cell_type": "code",
   "execution_count": 27,
   "id": "00935ec7-557b-4fdb-80f5-dac81580e233",
   "metadata": {
    "execution": {
     "iopub.execute_input": "2024-01-09T15:18:28.382050Z",
     "iopub.status.busy": "2024-01-09T15:18:28.381675Z",
     "iopub.status.idle": "2024-01-09T15:18:28.475584Z",
     "shell.execute_reply": "2024-01-09T15:18:28.474697Z",
     "shell.execute_reply.started": "2024-01-09T15:18:28.382024Z"
    }
   },
   "outputs": [],
   "source": [
    "afw_display.erase()\n",
    "with afw_display.Buffering():\n",
    "    for record in sources:\n",
    "        afw_display.dot('o', record.getX(), record.getY(), size=20, ctype='red')"
   ]
  },
  {
   "cell_type": "markdown",
   "id": "1449da22-6967-4bc7-9f9a-9d803ba83d84",
   "metadata": {
    "execution": {
     "iopub.execute_input": "2024-01-09T15:41:35.117970Z",
     "iopub.status.busy": "2024-01-09T15:41:35.116978Z",
     "iopub.status.idle": "2024-01-09T15:41:35.130182Z",
     "shell.execute_reply": "2024-01-09T15:41:35.129364Z",
     "shell.execute_reply.started": "2024-01-09T15:41:35.117929Z"
    }
   },
   "source": [
    "## Write the source table to a fits file for local download."
   ]
  },
  {
   "cell_type": "code",
   "execution_count": 32,
   "id": "585b1322-b4da-4341-be8d-43bcc1d19017",
   "metadata": {
    "execution": {
     "iopub.execute_input": "2024-01-09T15:50:52.619839Z",
     "iopub.status.busy": "2024-01-09T15:50:52.619100Z",
     "iopub.status.idle": "2024-01-09T15:50:52.656992Z",
     "shell.execute_reply": "2024-01-09T15:50:52.656320Z",
     "shell.execute_reply.started": "2024-01-09T15:50:52.619816Z"
    }
   },
   "outputs": [],
   "source": [
    "# There is an in-built fits writer...\n",
    "sources.writeFits('sources100stddev.fits')\n",
    "\n",
    "# But typically, I find the astropy tables more useful as fits...\n",
    "sources.asAstropy().write('sources100stddev_astroPy.fits')"
   ]
  }
 ],
 "metadata": {
  "kernelspec": {
   "display_name": "LSST",
   "language": "python",
   "name": "lsst"
  },
  "language_info": {
   "codemirror_mode": {
    "name": "ipython",
    "version": 3
   },
   "file_extension": ".py",
   "mimetype": "text/x-python",
   "name": "python",
   "nbconvert_exporter": "python",
   "pygments_lexer": "ipython3",
   "version": "3.11.7"
  }
 },
 "nbformat": 4,
 "nbformat_minor": 5
}
